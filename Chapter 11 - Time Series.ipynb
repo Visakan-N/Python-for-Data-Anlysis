{
 "cells": [
  {
   "cell_type": "markdown",
   "id": "835709be",
   "metadata": {},
   "source": [
    "# Time Series"
   ]
  },
  {
   "cell_type": "markdown",
   "id": "c3743996",
   "metadata": {},
   "source": [
    "Anything that is observed/measured at many points in time forms a time series.\n",
    "\n",
    "Many time series are of fixed frequency. (eg: every 15 sec, every 1 hr, etc.)\n",
    "\n",
    "They can also be irregular, without having a fixed unit of time between each unit.\n",
    "\n",
    "Time series data mainly exists of the following types;\n",
    "\n",
    "> Timestamps - specific instants of time.\n",
    "\n",
    "> Periods - a single fixed interval of time (eg: the month January, 2007)\n",
    "\n",
    "> Intervals - indicated by a start and end timestamp.\n",
    "\n",
    "> Experiment/Elapsed time - each time stamp is a measure of time relative to a particular starting time (eg: the size of the cookie baking each second since being palced in the oven).\n",
    "\n",
    "Pandas provides many built-in tools and algorithms to manipulate time series data."
   ]
  },
  {
   "cell_type": "markdown",
   "id": "fdd20427",
   "metadata": {},
   "source": [
    "## Date and Time data types and tools"
   ]
  },
  {
   "cell_type": "markdown",
   "id": "a92072a4",
   "metadata": {},
   "source": [
    "The standard python library contains 'datetime', 'time' and 'calendar' modules.\n",
    "\n",
    "The datetime type is one that is widely used;"
   ]
  },
  {
   "cell_type": "code",
   "execution_count": 2,
   "id": "7596cace",
   "metadata": {},
   "outputs": [
    {
     "data": {
      "text/plain": [
       "datetime.datetime(2022, 9, 30, 19, 33, 9, 251823)"
      ]
     },
     "execution_count": 2,
     "metadata": {},
     "output_type": "execute_result"
    }
   ],
   "source": [
    "from datetime import datetime\n",
    "now = datetime.now()\n",
    "now"
   ]
  },
  {
   "cell_type": "code",
   "execution_count": 3,
   "id": "7ac21807",
   "metadata": {},
   "outputs": [
    {
     "data": {
      "text/plain": [
       "(2022, 9, 29)"
      ]
     },
     "execution_count": 3,
     "metadata": {},
     "output_type": "execute_result"
    }
   ],
   "source": [
    "now.year, now.month, now.day"
   ]
  },
  {
   "cell_type": "markdown",
   "id": "a6d092ad",
   "metadata": {},
   "source": [
    "Datetime stores both data and time down to the microsecond.\n",
    "\n",
    "'timedelta' is an object that represents the temporal difference between 2 datetime objects."
   ]
  },
  {
   "cell_type": "code",
   "execution_count": 8,
   "id": "8668d550",
   "metadata": {},
   "outputs": [
    {
     "data": {
      "text/plain": [
       "datetime.timedelta(days=926, seconds=56700)"
      ]
     },
     "execution_count": 8,
     "metadata": {},
     "output_type": "execute_result"
    }
   ],
   "source": [
    "delta = datetime(2011, 1, 7) - datetime(2008, 6, 24, 8, 15)\n",
    "delta"
   ]
  },
  {
   "cell_type": "code",
   "execution_count": 5,
   "id": "a38dbca2",
   "metadata": {},
   "outputs": [
    {
     "data": {
      "text/plain": [
       "(926, 56700)"
      ]
     },
     "execution_count": 5,
     "metadata": {},
     "output_type": "execute_result"
    }
   ],
   "source": [
    "delta.days, delta.seconds"
   ]
  },
  {
   "cell_type": "markdown",
   "id": "30cf591c",
   "metadata": {},
   "source": [
    "We can add, subtract or multiply a timedelta object to shift datetime object;"
   ]
  },
  {
   "cell_type": "code",
   "execution_count": 3,
   "id": "4aef1605",
   "metadata": {},
   "outputs": [
    {
     "data": {
      "text/plain": [
       "datetime.datetime(2011, 1, 19, 0, 0)"
      ]
     },
     "execution_count": 3,
     "metadata": {},
     "output_type": "execute_result"
    }
   ],
   "source": [
    "from datetime import timedelta\n",
    "start = datetime(2011, 1, 7)\n",
    "start + timedelta(12)"
   ]
  },
  {
   "cell_type": "code",
   "execution_count": 10,
   "id": "e612dfce",
   "metadata": {},
   "outputs": [
    {
     "data": {
      "text/plain": [
       "datetime.datetime(2010, 12, 14, 0, 0)"
      ]
     },
     "execution_count": 10,
     "metadata": {},
     "output_type": "execute_result"
    }
   ],
   "source": [
    "start - 2 * timedelta(12)"
   ]
  },
  {
   "cell_type": "markdown",
   "id": "7daaf84a",
   "metadata": {},
   "source": [
    "### Converting between String and Datetime\n",
    "We can format datetime objects in timeseries and timestamp objects in pandas.\n",
    "\n",
    "We can convert a timestamp to a string using str or strftime (formatted time convertion method);"
   ]
  },
  {
   "cell_type": "code",
   "execution_count": 11,
   "id": "651deb9c",
   "metadata": {},
   "outputs": [
    {
     "data": {
      "text/plain": [
       "'2011-01-03 00:00:00'"
      ]
     },
     "execution_count": 11,
     "metadata": {},
     "output_type": "execute_result"
    }
   ],
   "source": [
    "stamp = datetime(2011, 1, 3)\n",
    "str(stamp)"
   ]
  },
  {
   "cell_type": "code",
   "execution_count": 12,
   "id": "90637404",
   "metadata": {},
   "outputs": [
    {
     "data": {
      "text/plain": [
       "'2011-01-03'"
      ]
     },
     "execution_count": 12,
     "metadata": {},
     "output_type": "execute_result"
    }
   ],
   "source": [
    "stamp.strftime('%Y-%m-%d') "
   ]
  },
  {
   "cell_type": "markdown",
   "id": "7427b793",
   "metadata": {},
   "source": [
    "We can use the similar formatting from above to convert strings to dates using datetime.strptime (string parse time);"
   ]
  },
  {
   "cell_type": "code",
   "execution_count": 16,
   "id": "98642cc2",
   "metadata": {},
   "outputs": [
    {
     "data": {
      "text/plain": [
       "datetime.datetime(2011, 1, 3, 0, 0)"
      ]
     },
     "execution_count": 16,
     "metadata": {},
     "output_type": "execute_result"
    }
   ],
   "source": [
    "value = '2011-01-03'\n",
    "datetime.strptime(value, '%Y-%m-%d')"
   ]
  },
  {
   "cell_type": "code",
   "execution_count": 17,
   "id": "c1be41a4",
   "metadata": {},
   "outputs": [
    {
     "data": {
      "text/plain": [
       "[datetime.datetime(2011, 6, 7, 0, 0), datetime.datetime(2011, 6, 8, 0, 0)]"
      ]
     },
     "execution_count": 17,
     "metadata": {},
     "output_type": "execute_result"
    }
   ],
   "source": [
    "datestrs = ['7/6/2011', '8/6/2011']\n",
    "[datetime.strptime(x, '%d/%m/%Y') for x in datestrs]"
   ]
  },
  {
   "cell_type": "markdown",
   "id": "21adeaeb",
   "metadata": {},
   "source": [
    "strptime is a good way to parse a date with a known format. But it can be difficult to write a format each time. To solve this we can use dateutil.parser.parse;"
   ]
  },
  {
   "cell_type": "code",
   "execution_count": 5,
   "id": "05e65bac",
   "metadata": {},
   "outputs": [
    {
     "data": {
      "text/plain": [
       "datetime.datetime(2011, 1, 3, 0, 0)"
      ]
     },
     "execution_count": 5,
     "metadata": {},
     "output_type": "execute_result"
    }
   ],
   "source": [
    "from dateutil.parser import parse\n",
    "parse('2011-01-03')"
   ]
  },
  {
   "cell_type": "code",
   "execution_count": 6,
   "id": "35dd6007",
   "metadata": {},
   "outputs": [
    {
     "data": {
      "text/plain": [
       "datetime.datetime(1997, 1, 31, 22, 45)"
      ]
     },
     "execution_count": 6,
     "metadata": {},
     "output_type": "execute_result"
    }
   ],
   "source": [
    "parse('Jan 31, 1997 10:45 PM')"
   ]
  },
  {
   "cell_type": "markdown",
   "id": "07ab8fa5",
   "metadata": {},
   "source": [
    "For international time where the day appears before the month we can pass dayfirst=True;"
   ]
  },
  {
   "cell_type": "code",
   "execution_count": 7,
   "id": "4fb7d751",
   "metadata": {},
   "outputs": [
    {
     "data": {
      "text/plain": [
       "datetime.datetime(2011, 12, 6, 0, 0)"
      ]
     },
     "execution_count": 7,
     "metadata": {},
     "output_type": "execute_result"
    }
   ],
   "source": [
    "parse('6/12/2011', dayfirst=True)"
   ]
  },
  {
   "cell_type": "markdown",
   "id": "e0d08b17",
   "metadata": {},
   "source": [
    "In pandas, the 'to_date' method can be used to parse many different kinds of date representations;"
   ]
  },
  {
   "cell_type": "code",
   "execution_count": 8,
   "id": "bdf62058",
   "metadata": {},
   "outputs": [
    {
     "data": {
      "text/plain": [
       "DatetimeIndex(['2011-07-06 12:00:00', '2011-08-06 08:00:00'], dtype='datetime64[ns]', freq=None)"
      ]
     },
     "execution_count": 8,
     "metadata": {},
     "output_type": "execute_result"
    }
   ],
   "source": [
    "import pandas as pd\n",
    "datestrs = ['2011-07-06 12:00:00', '2011-08-06 08:00:00']\n",
    "pd.to_datetime(datestrs)"
   ]
  },
  {
   "cell_type": "markdown",
   "id": "898b2975",
   "metadata": {},
   "source": [
    "It also handles missing values. Nat - Not a Time is a pandas null value for timestamp data;"
   ]
  },
  {
   "cell_type": "code",
   "execution_count": 9,
   "id": "89f6e50a",
   "metadata": {},
   "outputs": [
    {
     "data": {
      "text/plain": [
       "DatetimeIndex(['2011-07-06 12:00:00', '2011-08-06 08:00:00', 'NaT'], dtype='datetime64[ns]', freq=None)"
      ]
     },
     "execution_count": 9,
     "metadata": {},
     "output_type": "execute_result"
    }
   ],
   "source": [
    "idx = pd.to_datetime(datestrs + [None])\n",
    "idx"
   ]
  },
  {
   "cell_type": "code",
   "execution_count": 10,
   "id": "bab3ee99",
   "metadata": {},
   "outputs": [
    {
     "data": {
      "text/plain": [
       "NaT"
      ]
     },
     "execution_count": 10,
     "metadata": {},
     "output_type": "execute_result"
    }
   ],
   "source": [
    "idx[2]"
   ]
  },
  {
   "cell_type": "code",
   "execution_count": 11,
   "id": "ad626c9a",
   "metadata": {},
   "outputs": [
    {
     "data": {
      "text/plain": [
       "array([False, False,  True])"
      ]
     },
     "execution_count": 11,
     "metadata": {},
     "output_type": "execute_result"
    }
   ],
   "source": [
    "pd.isnull(idx)"
   ]
  },
  {
   "cell_type": "markdown",
   "id": "7d1d1204",
   "metadata": {},
   "source": [
    "'datetime' objects also have some specific formatting options that we can use as per our local time formats or requirements."
   ]
  },
  {
   "cell_type": "markdown",
   "id": "8198718e",
   "metadata": {},
   "source": [
    "## Time series basics"
   ]
  },
  {
   "cell_type": "markdown",
   "id": "92f3d929",
   "metadata": {},
   "source": [
    "The basic kind of time series object in pandas is basically a Series indexed by timestamps.\n",
    "\n",
    "This is represented as Python 'strings' or 'datetime' objects external to pandas."
   ]
  },
  {
   "cell_type": "code",
   "execution_count": 13,
   "id": "3ba230f1",
   "metadata": {},
   "outputs": [
    {
     "data": {
      "text/plain": [
       "2011-01-02   -0.572919\n",
       "2011-01-05    2.170066\n",
       "2011-01-07   -1.151224\n",
       "2011-01-08    0.876510\n",
       "2011-01-10   -0.090903\n",
       "2011-01-12    0.022251\n",
       "dtype: float64"
      ]
     },
     "execution_count": 13,
     "metadata": {},
     "output_type": "execute_result"
    }
   ],
   "source": [
    "import numpy as np\n",
    "from datetime import datetime\n",
    "dates = [datetime(2011, 1, 2), datetime(2011, 1, 5),\n",
    "         datetime(2011, 1, 7), datetime(2011, 1, 8),\n",
    "         datetime(2011, 1, 10), datetime(2011, 1, 12)]\n",
    "ts = pd.Series(np.random.randn(6), index=dates)\n",
    "ts"
   ]
  },
  {
   "cell_type": "markdown",
   "id": "848cbf5f",
   "metadata": {},
   "source": [
    "Under the hood, these 'datetime' objects have been put in a 'DatetimeIndex' object;"
   ]
  },
  {
   "cell_type": "code",
   "execution_count": 15,
   "id": "274ad7e7",
   "metadata": {},
   "outputs": [
    {
     "data": {
      "text/plain": [
       "DatetimeIndex(['2011-01-02', '2011-01-05', '2011-01-07', '2011-01-08',\n",
       "               '2011-01-10', '2011-01-12'],\n",
       "              dtype='datetime64[ns]', freq=None)"
      ]
     },
     "execution_count": 15,
     "metadata": {},
     "output_type": "execute_result"
    }
   ],
   "source": [
    "ts.index"
   ]
  },
  {
   "cell_type": "markdown",
   "id": "ba6bb0e5",
   "metadata": {},
   "source": [
    "Like any other Series, arithmetic operations between differently indexed time series automatically align on the dates;"
   ]
  },
  {
   "cell_type": "code",
   "execution_count": 16,
   "id": "4914eb52",
   "metadata": {},
   "outputs": [
    {
     "data": {
      "text/plain": [
       "2011-01-02   -1.145837\n",
       "2011-01-05         NaN\n",
       "2011-01-07   -2.302448\n",
       "2011-01-08         NaN\n",
       "2011-01-10   -0.181806\n",
       "2011-01-12         NaN\n",
       "dtype: float64"
      ]
     },
     "execution_count": 16,
     "metadata": {},
     "output_type": "execute_result"
    }
   ],
   "source": [
    "ts + ts[::2]"
   ]
  },
  {
   "cell_type": "markdown",
   "id": "14fab286",
   "metadata": {},
   "source": [
    "Pandas stores timestamps using Numpy's 'datetime64' datatype in nanosecond resolution;"
   ]
  },
  {
   "cell_type": "code",
   "execution_count": 17,
   "id": "0214fc43",
   "metadata": {},
   "outputs": [
    {
     "data": {
      "text/plain": [
       "dtype('<M8[ns]')"
      ]
     },
     "execution_count": 17,
     "metadata": {},
     "output_type": "execute_result"
    }
   ],
   "source": [
    "ts.index.dtype"
   ]
  },
  {
   "cell_type": "markdown",
   "id": "d9592e33",
   "metadata": {},
   "source": [
    "Scalar values from a 'DatetimeIndex' are pandas 'Timestamp' objects;"
   ]
  },
  {
   "cell_type": "code",
   "execution_count": 19,
   "id": "0877e348",
   "metadata": {},
   "outputs": [
    {
     "data": {
      "text/plain": [
       "Timestamp('2011-01-02 00:00:00')"
      ]
     },
     "execution_count": 19,
     "metadata": {},
     "output_type": "execute_result"
    }
   ],
   "source": [
    "stamp = ts.index[0]\n",
    "stamp"
   ]
  },
  {
   "cell_type": "markdown",
   "id": "90e4cdb0",
   "metadata": {},
   "source": [
    "In conclusion, for pandas a 'Timestamp' object can be substituted anywhere we would use a 'datetime' object."
   ]
  },
  {
   "cell_type": "markdown",
   "id": "3f01c780",
   "metadata": {},
   "source": [
    "### Indexing, Selection, Subsetting"
   ]
  },
  {
   "cell_type": "markdown",
   "id": "ff93c7e2",
   "metadata": {},
   "source": [
    "Time series behaves like any other pandas.Series where you are indexing and selecting data based on a lebel;"
   ]
  },
  {
   "cell_type": "code",
   "execution_count": 20,
   "id": "da39a276",
   "metadata": {},
   "outputs": [
    {
     "data": {
      "text/plain": [
       "-1.1512238153123908"
      ]
     },
     "execution_count": 20,
     "metadata": {},
     "output_type": "execute_result"
    }
   ],
   "source": [
    "stamp = ts.index[2]\n",
    "ts[stamp]"
   ]
  },
  {
   "cell_type": "markdown",
   "id": "c753d831",
   "metadata": {},
   "source": [
    "We can also pass a string that will be interpreted as a date;"
   ]
  },
  {
   "cell_type": "code",
   "execution_count": 21,
   "id": "264bc538",
   "metadata": {},
   "outputs": [
    {
     "data": {
      "text/plain": [
       "-0.09090281835917519"
      ]
     },
     "execution_count": 21,
     "metadata": {},
     "output_type": "execute_result"
    }
   ],
   "source": [
    "ts['1/10/2011']"
   ]
  },
  {
   "cell_type": "code",
   "execution_count": 22,
   "id": "0418444a",
   "metadata": {},
   "outputs": [
    {
     "data": {
      "text/plain": [
       "-0.09090281835917519"
      ]
     },
     "execution_count": 22,
     "metadata": {},
     "output_type": "execute_result"
    }
   ],
   "source": [
    "ts['20110110']"
   ]
  },
  {
   "cell_type": "markdown",
   "id": "0823e3db",
   "metadata": {},
   "source": [
    "For a longer time series, only a year and month can be passed to easily select slices of data;"
   ]
  },
  {
   "cell_type": "code",
   "execution_count": 23,
   "id": "052e809d",
   "metadata": {},
   "outputs": [
    {
     "data": {
      "text/plain": [
       "2000-01-01    0.570112\n",
       "2000-01-02    0.821075\n",
       "2000-01-03   -1.044851\n",
       "2000-01-04    0.107176\n",
       "2000-01-05   -0.137355\n",
       "                ...   \n",
       "2002-09-22   -0.490467\n",
       "2002-09-23    0.463822\n",
       "2002-09-24   -0.448189\n",
       "2002-09-25    2.271216\n",
       "2002-09-26    0.987391\n",
       "Freq: D, Length: 1000, dtype: float64"
      ]
     },
     "execution_count": 23,
     "metadata": {},
     "output_type": "execute_result"
    }
   ],
   "source": [
    "longer_ts = pd.Series(np.random.randn(1000),\n",
    "                      index=pd.date_range('1/1/2000', periods=1000))\n",
    "longer_ts"
   ]
  },
  {
   "cell_type": "code",
   "execution_count": 24,
   "id": "aac00274",
   "metadata": {},
   "outputs": [
    {
     "data": {
      "text/plain": [
       "2001-01-01    0.525111\n",
       "2001-01-02   -2.058920\n",
       "2001-01-03   -0.509295\n",
       "2001-01-04    0.160580\n",
       "2001-01-05   -0.075682\n",
       "                ...   \n",
       "2001-12-27    1.035449\n",
       "2001-12-28    0.157344\n",
       "2001-12-29   -0.079166\n",
       "2001-12-30    1.119621\n",
       "2001-12-31    0.544866\n",
       "Freq: D, Length: 365, dtype: float64"
      ]
     },
     "execution_count": 24,
     "metadata": {},
     "output_type": "execute_result"
    }
   ],
   "source": [
    "longer_ts['2001'] # slicing with year"
   ]
  },
  {
   "cell_type": "code",
   "execution_count": 25,
   "id": "768ebb50",
   "metadata": {},
   "outputs": [
    {
     "data": {
      "text/plain": [
       "2001-05-01   -0.308292\n",
       "2001-05-02   -1.089592\n",
       "2001-05-03    0.758852\n",
       "2001-05-04    1.003154\n",
       "2001-05-05    2.207004\n",
       "2001-05-06    0.687528\n",
       "2001-05-07   -0.697254\n",
       "2001-05-08    1.738610\n",
       "2001-05-09   -0.562399\n",
       "2001-05-10   -2.414949\n",
       "2001-05-11   -0.811928\n",
       "2001-05-12   -0.145140\n",
       "2001-05-13    0.195906\n",
       "2001-05-14    0.366436\n",
       "2001-05-15    0.604073\n",
       "2001-05-16    0.466092\n",
       "2001-05-17    0.907865\n",
       "2001-05-18    0.267544\n",
       "2001-05-19   -2.387417\n",
       "2001-05-20   -0.743256\n",
       "2001-05-21    2.775229\n",
       "2001-05-22   -0.880143\n",
       "2001-05-23    0.956812\n",
       "2001-05-24    0.166430\n",
       "2001-05-25   -0.605185\n",
       "2001-05-26   -0.429513\n",
       "2001-05-27    0.826244\n",
       "2001-05-28   -1.149769\n",
       "2001-05-29   -0.752842\n",
       "2001-05-30    0.693708\n",
       "2001-05-31   -0.334432\n",
       "Freq: D, dtype: float64"
      ]
     },
     "execution_count": 25,
     "metadata": {},
     "output_type": "execute_result"
    }
   ],
   "source": [
    "longer_ts['2001-05'] # slicing with year and month"
   ]
  },
  {
   "cell_type": "code",
   "execution_count": 26,
   "id": "5ea5ac93",
   "metadata": {},
   "outputs": [
    {
     "data": {
      "text/plain": [
       "2011-01-07   -1.151224\n",
       "2011-01-08    0.876510\n",
       "2011-01-10   -0.090903\n",
       "2011-01-12    0.022251\n",
       "dtype: float64"
      ]
     },
     "execution_count": 26,
     "metadata": {},
     "output_type": "execute_result"
    }
   ],
   "source": [
    "ts[datetime(2011, 1, 7):] # slicing with datetime object"
   ]
  },
  {
   "cell_type": "markdown",
   "id": "c849784b",
   "metadata": {},
   "source": [
    "Since most time series data is ordered chronologically, you can slice with timestamps that are present in the time series to perform a range like query;"
   ]
  },
  {
   "cell_type": "code",
   "execution_count": 27,
   "id": "8a50682b",
   "metadata": {},
   "outputs": [
    {
     "data": {
      "text/plain": [
       "2011-01-02   -0.572919\n",
       "2011-01-05    2.170066\n",
       "2011-01-07   -1.151224\n",
       "2011-01-08    0.876510\n",
       "2011-01-10   -0.090903\n",
       "2011-01-12    0.022251\n",
       "dtype: float64"
      ]
     },
     "execution_count": 27,
     "metadata": {},
     "output_type": "execute_result"
    }
   ],
   "source": [
    "ts"
   ]
  },
  {
   "cell_type": "code",
   "execution_count": 28,
   "id": "7c12fabb",
   "metadata": {},
   "outputs": [
    {
     "data": {
      "text/plain": [
       "2011-01-07   -1.151224\n",
       "2011-01-08    0.876510\n",
       "2011-01-10   -0.090903\n",
       "dtype: float64"
      ]
     },
     "execution_count": 28,
     "metadata": {},
     "output_type": "execute_result"
    }
   ],
   "source": [
    "ts['1/6/2011' : '1/11/2011']"
   ]
  },
  {
   "cell_type": "markdown",
   "id": "97f723ca",
   "metadata": {},
   "source": [
    "As before, we can pass either a string date, 'datetime' or a pd.Timestamp."
   ]
  },
  {
   "cell_type": "markdown",
   "id": "f9740f8a",
   "metadata": {},
   "source": [
    "There is an equivalent method to slice a Series between 2 dates called 'Truncate';"
   ]
  },
  {
   "cell_type": "code",
   "execution_count": 31,
   "id": "b57cd256",
   "metadata": {},
   "outputs": [
    {
     "data": {
      "text/plain": [
       "2011-01-02   -0.572919\n",
       "2011-01-05    2.170066\n",
       "2011-01-07   -1.151224\n",
       "2011-01-08    0.876510\n",
       "dtype: float64"
      ]
     },
     "execution_count": 31,
     "metadata": {},
     "output_type": "execute_result"
    }
   ],
   "source": [
    "ts.truncate(after='1/9/2011')"
   ]
  },
  {
   "cell_type": "markdown",
   "id": "d7f139d1",
   "metadata": {},
   "source": [
    "All of the above holds true for DataFrames as well;"
   ]
  },
  {
   "cell_type": "code",
   "execution_count": 34,
   "id": "89cca34c",
   "metadata": {},
   "outputs": [
    {
     "data": {
      "text/plain": [
       "DatetimeIndex(['2000-01-05', '2000-01-12', '2000-01-19', '2000-01-26',\n",
       "               '2000-02-02', '2000-02-09', '2000-02-16', '2000-02-23',\n",
       "               '2000-03-01', '2000-03-08', '2000-03-15', '2000-03-22',\n",
       "               '2000-03-29', '2000-04-05', '2000-04-12', '2000-04-19',\n",
       "               '2000-04-26', '2000-05-03', '2000-05-10', '2000-05-17',\n",
       "               '2000-05-24', '2000-05-31', '2000-06-07', '2000-06-14',\n",
       "               '2000-06-21', '2000-06-28', '2000-07-05', '2000-07-12',\n",
       "               '2000-07-19', '2000-07-26', '2000-08-02', '2000-08-09',\n",
       "               '2000-08-16', '2000-08-23', '2000-08-30', '2000-09-06',\n",
       "               '2000-09-13', '2000-09-20', '2000-09-27', '2000-10-04',\n",
       "               '2000-10-11', '2000-10-18', '2000-10-25', '2000-11-01',\n",
       "               '2000-11-08', '2000-11-15', '2000-11-22', '2000-11-29',\n",
       "               '2000-12-06', '2000-12-13', '2000-12-20', '2000-12-27',\n",
       "               '2001-01-03', '2001-01-10', '2001-01-17', '2001-01-24',\n",
       "               '2001-01-31', '2001-02-07', '2001-02-14', '2001-02-21',\n",
       "               '2001-02-28', '2001-03-07', '2001-03-14', '2001-03-21',\n",
       "               '2001-03-28', '2001-04-04', '2001-04-11', '2001-04-18',\n",
       "               '2001-04-25', '2001-05-02', '2001-05-09', '2001-05-16',\n",
       "               '2001-05-23', '2001-05-30', '2001-06-06', '2001-06-13',\n",
       "               '2001-06-20', '2001-06-27', '2001-07-04', '2001-07-11',\n",
       "               '2001-07-18', '2001-07-25', '2001-08-01', '2001-08-08',\n",
       "               '2001-08-15', '2001-08-22', '2001-08-29', '2001-09-05',\n",
       "               '2001-09-12', '2001-09-19', '2001-09-26', '2001-10-03',\n",
       "               '2001-10-10', '2001-10-17', '2001-10-24', '2001-10-31',\n",
       "               '2001-11-07', '2001-11-14', '2001-11-21', '2001-11-28'],\n",
       "              dtype='datetime64[ns]', freq='W-WED')"
      ]
     },
     "execution_count": 34,
     "metadata": {},
     "output_type": "execute_result"
    }
   ],
   "source": [
    "dates = pd.date_range('1/1/2000', periods=100, freq='W-WED')\n",
    "dates"
   ]
  },
  {
   "cell_type": "code",
   "execution_count": 35,
   "id": "840dfdf0",
   "metadata": {},
   "outputs": [
    {
     "data": {
      "text/html": [
       "<div>\n",
       "<style scoped>\n",
       "    .dataframe tbody tr th:only-of-type {\n",
       "        vertical-align: middle;\n",
       "    }\n",
       "\n",
       "    .dataframe tbody tr th {\n",
       "        vertical-align: top;\n",
       "    }\n",
       "\n",
       "    .dataframe thead th {\n",
       "        text-align: right;\n",
       "    }\n",
       "</style>\n",
       "<table border=\"1\" class=\"dataframe\">\n",
       "  <thead>\n",
       "    <tr style=\"text-align: right;\">\n",
       "      <th></th>\n",
       "      <th>Colorado</th>\n",
       "      <th>Texas</th>\n",
       "      <th>New York</th>\n",
       "      <th>Ohio</th>\n",
       "    </tr>\n",
       "  </thead>\n",
       "  <tbody>\n",
       "    <tr>\n",
       "      <th>2000-01-05</th>\n",
       "      <td>-1.000369</td>\n",
       "      <td>-1.247161</td>\n",
       "      <td>1.778649</td>\n",
       "      <td>-0.018983</td>\n",
       "    </tr>\n",
       "    <tr>\n",
       "      <th>2000-01-12</th>\n",
       "      <td>0.457700</td>\n",
       "      <td>-1.295501</td>\n",
       "      <td>0.642533</td>\n",
       "      <td>2.792595</td>\n",
       "    </tr>\n",
       "    <tr>\n",
       "      <th>2000-01-19</th>\n",
       "      <td>-0.285074</td>\n",
       "      <td>-0.532179</td>\n",
       "      <td>-0.689406</td>\n",
       "      <td>-0.572022</td>\n",
       "    </tr>\n",
       "    <tr>\n",
       "      <th>2000-01-26</th>\n",
       "      <td>0.785800</td>\n",
       "      <td>0.872043</td>\n",
       "      <td>-1.255189</td>\n",
       "      <td>-0.530965</td>\n",
       "    </tr>\n",
       "    <tr>\n",
       "      <th>2000-02-02</th>\n",
       "      <td>0.766489</td>\n",
       "      <td>1.599521</td>\n",
       "      <td>-0.911576</td>\n",
       "      <td>0.556493</td>\n",
       "    </tr>\n",
       "  </tbody>\n",
       "</table>\n",
       "</div>"
      ],
      "text/plain": [
       "            Colorado     Texas  New York      Ohio\n",
       "2000-01-05 -1.000369 -1.247161  1.778649 -0.018983\n",
       "2000-01-12  0.457700 -1.295501  0.642533  2.792595\n",
       "2000-01-19 -0.285074 -0.532179 -0.689406 -0.572022\n",
       "2000-01-26  0.785800  0.872043 -1.255189 -0.530965\n",
       "2000-02-02  0.766489  1.599521 -0.911576  0.556493"
      ]
     },
     "execution_count": 35,
     "metadata": {},
     "output_type": "execute_result"
    }
   ],
   "source": [
    "long_df = pd.DataFrame(np.random.randn(100, 4), index=dates,\n",
    "                      columns=['Colorado', 'Texas', 'New York', 'Ohio'])\n",
    "long_df.head()"
   ]
  },
  {
   "cell_type": "code",
   "execution_count": 36,
   "id": "ba21ad01",
   "metadata": {},
   "outputs": [
    {
     "data": {
      "text/html": [
       "<div>\n",
       "<style scoped>\n",
       "    .dataframe tbody tr th:only-of-type {\n",
       "        vertical-align: middle;\n",
       "    }\n",
       "\n",
       "    .dataframe tbody tr th {\n",
       "        vertical-align: top;\n",
       "    }\n",
       "\n",
       "    .dataframe thead th {\n",
       "        text-align: right;\n",
       "    }\n",
       "</style>\n",
       "<table border=\"1\" class=\"dataframe\">\n",
       "  <thead>\n",
       "    <tr style=\"text-align: right;\">\n",
       "      <th></th>\n",
       "      <th>Colorado</th>\n",
       "      <th>Texas</th>\n",
       "      <th>New York</th>\n",
       "      <th>Ohio</th>\n",
       "    </tr>\n",
       "  </thead>\n",
       "  <tbody>\n",
       "    <tr>\n",
       "      <th>2001-05-02</th>\n",
       "      <td>0.872604</td>\n",
       "      <td>0.238751</td>\n",
       "      <td>-0.372476</td>\n",
       "      <td>-0.242318</td>\n",
       "    </tr>\n",
       "    <tr>\n",
       "      <th>2001-05-09</th>\n",
       "      <td>0.434003</td>\n",
       "      <td>-0.069693</td>\n",
       "      <td>0.056493</td>\n",
       "      <td>0.432164</td>\n",
       "    </tr>\n",
       "    <tr>\n",
       "      <th>2001-05-16</th>\n",
       "      <td>0.535296</td>\n",
       "      <td>0.926945</td>\n",
       "      <td>-0.591140</td>\n",
       "      <td>-2.064325</td>\n",
       "    </tr>\n",
       "    <tr>\n",
       "      <th>2001-05-23</th>\n",
       "      <td>0.024452</td>\n",
       "      <td>1.731774</td>\n",
       "      <td>-1.663885</td>\n",
       "      <td>0.307730</td>\n",
       "    </tr>\n",
       "    <tr>\n",
       "      <th>2001-05-30</th>\n",
       "      <td>0.393423</td>\n",
       "      <td>-0.190993</td>\n",
       "      <td>0.611352</td>\n",
       "      <td>1.930100</td>\n",
       "    </tr>\n",
       "  </tbody>\n",
       "</table>\n",
       "</div>"
      ],
      "text/plain": [
       "            Colorado     Texas  New York      Ohio\n",
       "2001-05-02  0.872604  0.238751 -0.372476 -0.242318\n",
       "2001-05-09  0.434003 -0.069693  0.056493  0.432164\n",
       "2001-05-16  0.535296  0.926945 -0.591140 -2.064325\n",
       "2001-05-23  0.024452  1.731774 -1.663885  0.307730\n",
       "2001-05-30  0.393423 -0.190993  0.611352  1.930100"
      ]
     },
     "execution_count": 36,
     "metadata": {},
     "output_type": "execute_result"
    }
   ],
   "source": [
    "long_df.loc['5-2001']"
   ]
  },
  {
   "cell_type": "markdown",
   "id": "4f538b4f",
   "metadata": {},
   "source": [
    "### Time Series with duplicate indices"
   ]
  },
  {
   "cell_type": "markdown",
   "id": "d8334e0a",
   "metadata": {},
   "source": [
    "In some appliacations, there may be multiple data observations falling on a particular timestamp;"
   ]
  },
  {
   "cell_type": "code",
   "execution_count": 48,
   "id": "f3f75e5e",
   "metadata": {},
   "outputs": [
    {
     "data": {
      "text/plain": [
       "DatetimeIndex(['2000-01-01', '2000-01-02', '2000-01-02', '2000-01-02',\n",
       "               '2000-01-03'],\n",
       "              dtype='datetime64[ns]', freq=None)"
      ]
     },
     "execution_count": 48,
     "metadata": {},
     "output_type": "execute_result"
    }
   ],
   "source": [
    "dates = pd.DatetimeIndex(['1/1/2000', '1/2/2000', '1/2/2000', '1/2/2000', \n",
    "                     '1/3/2000'])\n",
    "dates"
   ]
  },
  {
   "cell_type": "code",
   "execution_count": 49,
   "id": "d3c1f6fd",
   "metadata": {},
   "outputs": [
    {
     "data": {
      "text/plain": [
       "2000-01-01    0\n",
       "2000-01-02    1\n",
       "2000-01-02    2\n",
       "2000-01-02    3\n",
       "2000-01-03    4\n",
       "dtype: int32"
      ]
     },
     "execution_count": 49,
     "metadata": {},
     "output_type": "execute_result"
    }
   ],
   "source": [
    "dup_ts = pd.Series(np.arange(5), index=dates)\n",
    "dup_ts"
   ]
  },
  {
   "cell_type": "markdown",
   "id": "8ac8c379",
   "metadata": {},
   "source": [
    "We can tell that the index is not unique by checking 'is_unique';"
   ]
  },
  {
   "cell_type": "code",
   "execution_count": 43,
   "id": "35eee742",
   "metadata": {},
   "outputs": [
    {
     "data": {
      "text/plain": [
       "False"
      ]
     },
     "execution_count": 43,
     "metadata": {},
     "output_type": "execute_result"
    }
   ],
   "source": [
    "dup_ts.index.is_unique"
   ]
  },
  {
   "cell_type": "markdown",
   "id": "2a9a03dd",
   "metadata": {},
   "source": [
    "Indexing on this Series can either produce scalar values or duplicated values depending on the indexed timestamp;"
   ]
  },
  {
   "cell_type": "code",
   "execution_count": 50,
   "id": "7c705bd4",
   "metadata": {},
   "outputs": [
    {
     "data": {
      "text/plain": [
       "4"
      ]
     },
     "execution_count": 50,
     "metadata": {},
     "output_type": "execute_result"
    }
   ],
   "source": [
    "dup_ts['1/3/2000'] # not duplicated"
   ]
  },
  {
   "cell_type": "code",
   "execution_count": 51,
   "id": "70189587",
   "metadata": {},
   "outputs": [
    {
     "data": {
      "text/plain": [
       "2000-01-02    1\n",
       "2000-01-02    2\n",
       "2000-01-02    3\n",
       "dtype: int32"
      ]
     },
     "execution_count": 51,
     "metadata": {},
     "output_type": "execute_result"
    }
   ],
   "source": [
    "dup_ts['1/2/2000'] # duplicated"
   ]
  },
  {
   "cell_type": "markdown",
   "id": "fa784f15",
   "metadata": {},
   "source": [
    "Suppose we want to aggregate the data having non-unique timestamps, we can do this using groupby and pass level=0;"
   ]
  },
  {
   "cell_type": "code",
   "execution_count": 52,
   "id": "778b48a3",
   "metadata": {},
   "outputs": [
    {
     "data": {
      "text/plain": [
       "2000-01-01    0.0\n",
       "2000-01-02    2.0\n",
       "2000-01-03    4.0\n",
       "dtype: float64"
      ]
     },
     "execution_count": 52,
     "metadata": {},
     "output_type": "execute_result"
    }
   ],
   "source": [
    "grouped = dup_ts.groupby(level=0)\n",
    "grouped.mean()"
   ]
  },
  {
   "cell_type": "code",
   "execution_count": 53,
   "id": "76742888",
   "metadata": {},
   "outputs": [
    {
     "data": {
      "text/plain": [
       "2000-01-01    1\n",
       "2000-01-02    3\n",
       "2000-01-03    1\n",
       "dtype: int64"
      ]
     },
     "execution_count": 53,
     "metadata": {},
     "output_type": "execute_result"
    }
   ],
   "source": [
    "grouped.count()"
   ]
  },
  {
   "cell_type": "markdown",
   "id": "6772ed23",
   "metadata": {},
   "source": [
    "## Date Ranges, Frequencies and Shifting"
   ]
  },
  {
   "cell_type": "markdown",
   "id": "9f2dfe27",
   "metadata": {},
   "source": [
    "Generic time series in pandas are assumend to be irregular, i.e: they have no fixed frequncy.\n",
    "\n",
    "But it is often desirable to work relative to a fixed frequency such as daily, monthly, every 15 mins, etc even if it means including some missing values into a time series.\n",
    "\n",
    "Pandas has time series frequencies and tools for this case."
   ]
  },
  {
   "cell_type": "markdown",
   "id": "73823639",
   "metadata": {},
   "source": [
    "We can convert a sample time series to be fixed daily frequency by calling 'resample';"
   ]
  },
  {
   "cell_type": "code",
   "execution_count": 54,
   "id": "fc939853",
   "metadata": {},
   "outputs": [
    {
     "data": {
      "text/plain": [
       "2011-01-02   -0.572919\n",
       "2011-01-05    2.170066\n",
       "2011-01-07   -1.151224\n",
       "2011-01-08    0.876510\n",
       "2011-01-10   -0.090903\n",
       "2011-01-12    0.022251\n",
       "dtype: float64"
      ]
     },
     "execution_count": 54,
     "metadata": {},
     "output_type": "execute_result"
    }
   ],
   "source": [
    "ts"
   ]
  },
  {
   "cell_type": "code",
   "execution_count": 55,
   "id": "0ae8ac93",
   "metadata": {},
   "outputs": [
    {
     "data": {
      "text/plain": [
       "<pandas.core.resample.DatetimeIndexResampler object at 0x0000020D66A00160>"
      ]
     },
     "execution_count": 55,
     "metadata": {},
     "output_type": "execute_result"
    }
   ],
   "source": [
    "resampler = ts.resample('D')  # D - daily\n",
    "resampler"
   ]
  },
  {
   "cell_type": "markdown",
   "id": "07d2347f",
   "metadata": {},
   "source": [
    "As we can see the object returned is 'DatetimeIndexResampler'."
   ]
  },
  {
   "cell_type": "markdown",
   "id": "932fc7a2",
   "metadata": {},
   "source": [
    "### Generating date ranges"
   ]
  },
  {
   "cell_type": "markdown",
   "id": "edbc5a92",
   "metadata": {},
   "source": [
    "pandas.date_range generates a 'DatetimeIndex' with an indicated length according to a particular frequency (daily freq by default); "
   ]
  },
  {
   "cell_type": "code",
   "execution_count": 56,
   "id": "62805448",
   "metadata": {},
   "outputs": [
    {
     "data": {
      "text/plain": [
       "DatetimeIndex(['2012-04-01', '2012-04-02', '2012-04-03', '2012-04-04',\n",
       "               '2012-04-05', '2012-04-06', '2012-04-07', '2012-04-08',\n",
       "               '2012-04-09', '2012-04-10', '2012-04-11', '2012-04-12',\n",
       "               '2012-04-13', '2012-04-14', '2012-04-15', '2012-04-16',\n",
       "               '2012-04-17', '2012-04-18', '2012-04-19', '2012-04-20',\n",
       "               '2012-04-21', '2012-04-22', '2012-04-23', '2012-04-24',\n",
       "               '2012-04-25', '2012-04-26', '2012-04-27', '2012-04-28',\n",
       "               '2012-04-29', '2012-04-30', '2012-05-01', '2012-05-02',\n",
       "               '2012-05-03', '2012-05-04', '2012-05-05', '2012-05-06',\n",
       "               '2012-05-07', '2012-05-08', '2012-05-09', '2012-05-10',\n",
       "               '2012-05-11', '2012-05-12', '2012-05-13', '2012-05-14',\n",
       "               '2012-05-15', '2012-05-16', '2012-05-17', '2012-05-18',\n",
       "               '2012-05-19', '2012-05-20', '2012-05-21', '2012-05-22',\n",
       "               '2012-05-23', '2012-05-24', '2012-05-25', '2012-05-26',\n",
       "               '2012-05-27', '2012-05-28', '2012-05-29', '2012-05-30',\n",
       "               '2012-05-31', '2012-06-01'],\n",
       "              dtype='datetime64[ns]', freq='D')"
      ]
     },
     "execution_count": 56,
     "metadata": {},
     "output_type": "execute_result"
    }
   ],
   "source": [
    "index = pd.date_range('2012-04-01', '2012-06-01')\n",
    "index"
   ]
  },
  {
   "cell_type": "markdown",
   "id": "20101a35",
   "metadata": {},
   "source": [
    "If we pass only a start or an end date, then we must pass the number of periods to generate;"
   ]
  },
  {
   "cell_type": "code",
   "execution_count": 57,
   "id": "6412f173",
   "metadata": {},
   "outputs": [
    {
     "data": {
      "text/plain": [
       "DatetimeIndex(['2012-04-01', '2012-04-02', '2012-04-03', '2012-04-04',\n",
       "               '2012-04-05', '2012-04-06', '2012-04-07', '2012-04-08',\n",
       "               '2012-04-09', '2012-04-10', '2012-04-11', '2012-04-12',\n",
       "               '2012-04-13', '2012-04-14', '2012-04-15', '2012-04-16',\n",
       "               '2012-04-17', '2012-04-18', '2012-04-19', '2012-04-20'],\n",
       "              dtype='datetime64[ns]', freq='D')"
      ]
     },
     "execution_count": 57,
     "metadata": {},
     "output_type": "execute_result"
    }
   ],
   "source": [
    "pd.date_range(start='2012-04-01', periods=20)"
   ]
  },
  {
   "cell_type": "code",
   "execution_count": 58,
   "id": "487cbb72",
   "metadata": {},
   "outputs": [
    {
     "data": {
      "text/plain": [
       "DatetimeIndex(['2012-05-13', '2012-05-14', '2012-05-15', '2012-05-16',\n",
       "               '2012-05-17', '2012-05-18', '2012-05-19', '2012-05-20',\n",
       "               '2012-05-21', '2012-05-22', '2012-05-23', '2012-05-24',\n",
       "               '2012-05-25', '2012-05-26', '2012-05-27', '2012-05-28',\n",
       "               '2012-05-29', '2012-05-30', '2012-05-31', '2012-06-01'],\n",
       "              dtype='datetime64[ns]', freq='D')"
      ]
     },
     "execution_count": 58,
     "metadata": {},
     "output_type": "execute_result"
    }
   ],
   "source": [
    "pd.date_range(end='2012-06-01', periods=20)"
   ]
  },
  {
   "cell_type": "markdown",
   "id": "0fc5a8c5",
   "metadata": {},
   "source": [
    "We can also pass differnt frequencies like, 'BM' - business end of month (contains the last business day for each month);"
   ]
  },
  {
   "cell_type": "code",
   "execution_count": 59,
   "id": "550fc7fd",
   "metadata": {},
   "outputs": [
    {
     "data": {
      "text/plain": [
       "DatetimeIndex(['2000-01-31', '2000-02-29', '2000-03-31', '2000-04-28',\n",
       "               '2000-05-31', '2000-06-30', '2000-07-31', '2000-08-31',\n",
       "               '2000-09-29', '2000-10-31', '2000-11-30'],\n",
       "              dtype='datetime64[ns]', freq='BM')"
      ]
     },
     "execution_count": 59,
     "metadata": {},
     "output_type": "execute_result"
    }
   ],
   "source": [
    "pd.date_range('2000-01-01', '2000-12-01', freq='BM')"
   ]
  },
  {
   "cell_type": "markdown",
   "id": "3ecf4b39",
   "metadata": {},
   "source": [
    "By default, date_range preserves the time of the start and the end stamp;"
   ]
  },
  {
   "cell_type": "code",
   "execution_count": 60,
   "id": "2ebc4641",
   "metadata": {},
   "outputs": [
    {
     "data": {
      "text/plain": [
       "DatetimeIndex(['2012-05-02 12:56:31', '2012-05-03 12:56:31',\n",
       "               '2012-05-04 12:56:31', '2012-05-05 12:56:31',\n",
       "               '2012-05-06 12:56:31'],\n",
       "              dtype='datetime64[ns]', freq='D')"
      ]
     },
     "execution_count": 60,
     "metadata": {},
     "output_type": "execute_result"
    }
   ],
   "source": [
    "pd.date_range('2012-05-02 12:56:31', periods=5)"
   ]
  },
  {
   "cell_type": "markdown",
   "id": "54badec5",
   "metadata": {},
   "source": [
    "Sometimes we have time info in the start and end dates but we may want to normalize to midnight as a convention;"
   ]
  },
  {
   "cell_type": "code",
   "execution_count": 61,
   "id": "94d37c3b",
   "metadata": {},
   "outputs": [
    {
     "data": {
      "text/plain": [
       "DatetimeIndex(['2012-05-02', '2012-05-03', '2012-05-04', '2012-05-05',\n",
       "               '2012-05-06'],\n",
       "              dtype='datetime64[ns]', freq='D')"
      ]
     },
     "execution_count": 61,
     "metadata": {},
     "output_type": "execute_result"
    }
   ],
   "source": [
    "pd.date_range('2012-05-02 12:56:31', periods=5, normalize=True)"
   ]
  },
  {
   "cell_type": "markdown",
   "id": "ea81e94a",
   "metadata": {},
   "source": [
    "### Frequencies and Date offsets"
   ]
  },
  {
   "cell_type": "markdown",
   "id": "ea60452e",
   "metadata": {},
   "source": [
    "Frequencies in pandas are composed of a base frequncy like hourly-'H' or monthly-'M' and a multiplier which is the date offset;"
   ]
  },
  {
   "cell_type": "code",
   "execution_count": 62,
   "id": "71701c60",
   "metadata": {},
   "outputs": [
    {
     "data": {
      "text/plain": [
       "<Hour>"
      ]
     },
     "execution_count": 62,
     "metadata": {},
     "output_type": "execute_result"
    }
   ],
   "source": [
    "from pandas.tseries.offsets import Hour, Minute\n",
    "hour = Hour()\n",
    "hour"
   ]
  },
  {
   "cell_type": "markdown",
   "id": "f92ca15d",
   "metadata": {},
   "source": [
    "We can define a multiple of an offset by passing an integer;"
   ]
  },
  {
   "cell_type": "code",
   "execution_count": 63,
   "id": "cb219a09",
   "metadata": {},
   "outputs": [
    {
     "data": {
      "text/plain": [
       "<4 * Hours>"
      ]
     },
     "execution_count": 63,
     "metadata": {},
     "output_type": "execute_result"
    }
   ],
   "source": [
    "four_hours = Hour(4)\n",
    "four_hours"
   ]
  },
  {
   "cell_type": "markdown",
   "id": "674d2bdd",
   "metadata": {},
   "source": [
    "We won't be needing to expicitly create one of these objects, instead we use a string alias like '4H';"
   ]
  },
  {
   "cell_type": "code",
   "execution_count": 65,
   "id": "a0eeda73",
   "metadata": {},
   "outputs": [
    {
     "data": {
      "text/plain": [
       "DatetimeIndex(['2000-01-01 00:00:00', '2000-01-01 04:00:00',\n",
       "               '2000-01-01 08:00:00', '2000-01-01 12:00:00',\n",
       "               '2000-01-01 16:00:00', '2000-01-01 20:00:00',\n",
       "               '2000-01-02 00:00:00', '2000-01-02 04:00:00',\n",
       "               '2000-01-02 08:00:00', '2000-01-02 12:00:00',\n",
       "               '2000-01-02 16:00:00', '2000-01-02 20:00:00',\n",
       "               '2000-01-03 00:00:00', '2000-01-03 04:00:00',\n",
       "               '2000-01-03 08:00:00', '2000-01-03 12:00:00',\n",
       "               '2000-01-03 16:00:00', '2000-01-03 20:00:00'],\n",
       "              dtype='datetime64[ns]', freq='4H')"
      ]
     },
     "execution_count": 65,
     "metadata": {},
     "output_type": "execute_result"
    }
   ],
   "source": [
    "pd.date_range('2000-01-01', '2000-01-03 23:59', freq='4H')"
   ]
  },
  {
   "cell_type": "markdown",
   "id": "9c18702d",
   "metadata": {},
   "source": [
    "Many offsets can be combined together by addition;"
   ]
  },
  {
   "cell_type": "code",
   "execution_count": 66,
   "id": "4e56db81",
   "metadata": {},
   "outputs": [
    {
     "data": {
      "text/plain": [
       "<150 * Minutes>"
      ]
     },
     "execution_count": 66,
     "metadata": {},
     "output_type": "execute_result"
    }
   ],
   "source": [
    "Hour(2) + Minute(30)"
   ]
  },
  {
   "cell_type": "markdown",
   "id": "faceee64",
   "metadata": {},
   "source": [
    "We can also pass frequency strings as given below;"
   ]
  },
  {
   "cell_type": "code",
   "execution_count": 67,
   "id": "4b024c4d",
   "metadata": {},
   "outputs": [
    {
     "data": {
      "text/plain": [
       "DatetimeIndex(['2000-01-01 00:00:00', '2000-01-01 01:30:00',\n",
       "               '2000-01-01 03:00:00', '2000-01-01 04:30:00',\n",
       "               '2000-01-01 06:00:00', '2000-01-01 07:30:00',\n",
       "               '2000-01-01 09:00:00', '2000-01-01 10:30:00',\n",
       "               '2000-01-01 12:00:00', '2000-01-01 13:30:00'],\n",
       "              dtype='datetime64[ns]', freq='90T')"
      ]
     },
     "execution_count": 67,
     "metadata": {},
     "output_type": "execute_result"
    }
   ],
   "source": [
    "pd.date_range('2000-01-01', periods=10, freq='1h30min')"
   ]
  },
  {
   "cell_type": "markdown",
   "id": "ce0d62fc",
   "metadata": {},
   "source": [
    "Some frequencies describe points in time that are not evenly spaced like 'BM' which depends on whether the month ends in a weekend or not. These are referred to as anchored offsets."
   ]
  },
  {
   "cell_type": "markdown",
   "id": "040441ef",
   "metadata": {},
   "source": [
    "#### Week of month dates\n",
    "WOM - enables us to get dates like the third Friday of each month."
   ]
  },
  {
   "cell_type": "code",
   "execution_count": 68,
   "id": "8675202f",
   "metadata": {},
   "outputs": [
    {
     "data": {
      "text/plain": [
       "[Timestamp('2012-01-20 00:00:00', freq='WOM-3FRI'),\n",
       " Timestamp('2012-02-17 00:00:00', freq='WOM-3FRI'),\n",
       " Timestamp('2012-03-16 00:00:00', freq='WOM-3FRI'),\n",
       " Timestamp('2012-04-20 00:00:00', freq='WOM-3FRI'),\n",
       " Timestamp('2012-05-18 00:00:00', freq='WOM-3FRI'),\n",
       " Timestamp('2012-06-15 00:00:00', freq='WOM-3FRI'),\n",
       " Timestamp('2012-07-20 00:00:00', freq='WOM-3FRI'),\n",
       " Timestamp('2012-08-17 00:00:00', freq='WOM-3FRI')]"
      ]
     },
     "execution_count": 68,
     "metadata": {},
     "output_type": "execute_result"
    }
   ],
   "source": [
    "rng = pd.date_range('2012-01-01', '2012-09-01', freq='WOM-3FRI')\n",
    "list(rng)"
   ]
  },
  {
   "cell_type": "markdown",
   "id": "5b6f4125",
   "metadata": {},
   "source": [
    "### Shifting (leading and lagging) data\n",
    "We can shift forwards and backwards in a Series or a DataFrame without modifying the index;"
   ]
  },
  {
   "cell_type": "code",
   "execution_count": 69,
   "id": "0218a8f4",
   "metadata": {},
   "outputs": [
    {
     "data": {
      "text/plain": [
       "2000-01-31   -0.249563\n",
       "2000-02-29   -0.624552\n",
       "2000-03-31   -2.721904\n",
       "2000-04-30   -0.526986\n",
       "Freq: M, dtype: float64"
      ]
     },
     "execution_count": 69,
     "metadata": {},
     "output_type": "execute_result"
    }
   ],
   "source": [
    "ts = pd.Series(np.random.randn(4), index=pd.date_range('1/1/2000', \n",
    "                                                       periods=4, \n",
    "                                                       freq='M'))\n",
    "ts"
   ]
  },
  {
   "cell_type": "code",
   "execution_count": 70,
   "id": "15cc8ae5",
   "metadata": {},
   "outputs": [
    {
     "data": {
      "text/plain": [
       "2000-01-31         NaN\n",
       "2000-02-29         NaN\n",
       "2000-03-31   -0.249563\n",
       "2000-04-30   -0.624552\n",
       "Freq: M, dtype: float64"
      ]
     },
     "execution_count": 70,
     "metadata": {},
     "output_type": "execute_result"
    }
   ],
   "source": [
    "ts.shift(2)"
   ]
  },
  {
   "cell_type": "code",
   "execution_count": 71,
   "id": "9163de9d",
   "metadata": {},
   "outputs": [
    {
     "data": {
      "text/plain": [
       "2000-01-31   -2.721904\n",
       "2000-02-29   -0.526986\n",
       "2000-03-31         NaN\n",
       "2000-04-30         NaN\n",
       "Freq: M, dtype: float64"
      ]
     },
     "execution_count": 71,
     "metadata": {},
     "output_type": "execute_result"
    }
   ],
   "source": [
    "ts.shift(-2)"
   ]
  },
  {
   "cell_type": "markdown",
   "id": "9cfb804c",
   "metadata": {},
   "source": [
    "A common use of shift is computing the percent changes in a time series. It can be expressed as;"
   ]
  },
  {
   "cell_type": "code",
   "execution_count": 72,
   "id": "3f4e1d86",
   "metadata": {},
   "outputs": [
    {
     "data": {
      "text/plain": [
       "2000-01-31         NaN\n",
       "2000-02-29    1.502586\n",
       "2000-03-31    3.358172\n",
       "2000-04-30   -0.806391\n",
       "Freq: M, dtype: float64"
      ]
     },
     "execution_count": 72,
     "metadata": {},
     "output_type": "execute_result"
    }
   ],
   "source": [
    "ts / ts.shift(1) - 1"
   ]
  },
  {
   "cell_type": "markdown",
   "id": "0f68fda0",
   "metadata": {},
   "source": [
    "As we can see naive shift discards some data, so we can shift it to advance the timestamps instead of just the data;"
   ]
  },
  {
   "cell_type": "code",
   "execution_count": 73,
   "id": "6dee2839",
   "metadata": {},
   "outputs": [
    {
     "data": {
      "text/plain": [
       "2000-03-31   -0.249563\n",
       "2000-04-30   -0.624552\n",
       "2000-05-31   -2.721904\n",
       "2000-06-30   -0.526986\n",
       "Freq: M, dtype: float64"
      ]
     },
     "execution_count": 73,
     "metadata": {},
     "output_type": "execute_result"
    }
   ],
   "source": [
    "ts.shift(2, freq='M')"
   ]
  },
  {
   "cell_type": "markdown",
   "id": "00a2e626",
   "metadata": {},
   "source": [
    "We can pass other frequencies as well;"
   ]
  },
  {
   "cell_type": "code",
   "execution_count": 74,
   "id": "29d27b9c",
   "metadata": {},
   "outputs": [
    {
     "data": {
      "text/plain": [
       "2000-02-03   -0.249563\n",
       "2000-03-03   -0.624552\n",
       "2000-04-03   -2.721904\n",
       "2000-05-03   -0.526986\n",
       "dtype: float64"
      ]
     },
     "execution_count": 74,
     "metadata": {},
     "output_type": "execute_result"
    }
   ],
   "source": [
    "ts.shift(3, freq='D')"
   ]
  },
  {
   "cell_type": "code",
   "execution_count": 75,
   "id": "2eef1c83",
   "metadata": {},
   "outputs": [
    {
     "data": {
      "text/plain": [
       "2000-01-31 01:30:00   -0.249563\n",
       "2000-02-29 01:30:00   -0.624552\n",
       "2000-03-31 01:30:00   -2.721904\n",
       "2000-04-30 01:30:00   -0.526986\n",
       "dtype: float64"
      ]
     },
     "execution_count": 75,
     "metadata": {},
     "output_type": "execute_result"
    }
   ],
   "source": [
    "ts.shift(1, freq='90T')"
   ]
  },
  {
   "cell_type": "markdown",
   "id": "4fc6087e",
   "metadata": {},
   "source": [
    "#### Shifting data with offsets"
   ]
  },
  {
   "cell_type": "markdown",
   "id": "0055263c",
   "metadata": {},
   "source": [
    "We can use offsets with 'datetime' and 'Timestamp' objects as well;"
   ]
  },
  {
   "cell_type": "code",
   "execution_count": 76,
   "id": "eee51daf",
   "metadata": {},
   "outputs": [
    {
     "data": {
      "text/plain": [
       "Timestamp('2011-11-20 00:00:00')"
      ]
     },
     "execution_count": 76,
     "metadata": {},
     "output_type": "execute_result"
    }
   ],
   "source": [
    "from pandas.tseries.offsets import Day, MonthEnd\n",
    "now = datetime(2011, 11, 17)\n",
    "now + 3 * Day()"
   ]
  },
  {
   "cell_type": "markdown",
   "id": "4cc484e9",
   "metadata": {},
   "source": [
    "If we use an anchored offset like MonthEnd, it will roll forward to the next date according to the frequency;"
   ]
  },
  {
   "cell_type": "code",
   "execution_count": 77,
   "id": "60c15721",
   "metadata": {},
   "outputs": [
    {
     "data": {
      "text/plain": [
       "Timestamp('2011-11-30 00:00:00')"
      ]
     },
     "execution_count": 77,
     "metadata": {},
     "output_type": "execute_result"
    }
   ],
   "source": [
    "now + MonthEnd()"
   ]
  },
  {
   "cell_type": "code",
   "execution_count": 78,
   "id": "ad597b1e",
   "metadata": {},
   "outputs": [
    {
     "data": {
      "text/plain": [
       "Timestamp('2011-12-31 00:00:00')"
      ]
     },
     "execution_count": 78,
     "metadata": {},
     "output_type": "execute_result"
    }
   ],
   "source": [
    "now + MonthEnd(2)"
   ]
  },
  {
   "cell_type": "markdown",
   "id": "e6eccafe",
   "metadata": {},
   "source": [
    "Anchored offsets can roll dates forward or backward using their 'rollforward' and 'rollback' methods;"
   ]
  },
  {
   "cell_type": "code",
   "execution_count": 79,
   "id": "5c54fa00",
   "metadata": {},
   "outputs": [
    {
     "data": {
      "text/plain": [
       "Timestamp('2011-11-30 00:00:00')"
      ]
     },
     "execution_count": 79,
     "metadata": {},
     "output_type": "execute_result"
    }
   ],
   "source": [
    "offset = MonthEnd()\n",
    "offset.rollforward(now)"
   ]
  },
  {
   "cell_type": "code",
   "execution_count": 80,
   "id": "112fa380",
   "metadata": {},
   "outputs": [
    {
     "data": {
      "text/plain": [
       "Timestamp('2011-10-31 00:00:00')"
      ]
     },
     "execution_count": 80,
     "metadata": {},
     "output_type": "execute_result"
    }
   ],
   "source": [
    "offset.rollback(now)"
   ]
  },
  {
   "cell_type": "markdown",
   "id": "5ff35da3",
   "metadata": {},
   "source": [
    "A useful way of using this is with groupby;"
   ]
  },
  {
   "cell_type": "code",
   "execution_count": 81,
   "id": "4346292d",
   "metadata": {},
   "outputs": [
    {
     "data": {
      "text/plain": [
       "2000-01-15    1.317710\n",
       "2000-01-19   -0.457001\n",
       "2000-01-23   -0.203509\n",
       "2000-01-27    0.632818\n",
       "2000-01-31    1.277243\n",
       "2000-02-04    1.418249\n",
       "2000-02-08   -0.793585\n",
       "2000-02-12   -0.079054\n",
       "2000-02-16   -0.917601\n",
       "2000-02-20   -0.113054\n",
       "2000-02-24    0.354441\n",
       "2000-02-28   -1.454293\n",
       "2000-03-03   -0.992363\n",
       "2000-03-07    0.591924\n",
       "2000-03-11    0.720922\n",
       "2000-03-15    0.444269\n",
       "2000-03-19    0.357418\n",
       "2000-03-23    1.353763\n",
       "2000-03-27   -1.027356\n",
       "2000-03-31    1.105836\n",
       "Freq: 4D, dtype: float64"
      ]
     },
     "execution_count": 81,
     "metadata": {},
     "output_type": "execute_result"
    }
   ],
   "source": [
    "ts = pd.Series(np.random.randn(20),\n",
    "               index=pd.date_range('1/15/2000', periods=20, freq='4d'))\n",
    "ts"
   ]
  },
  {
   "cell_type": "code",
   "execution_count": 82,
   "id": "bd8b04ab",
   "metadata": {},
   "outputs": [
    {
     "data": {
      "text/plain": [
       "2000-01-31    0.513452\n",
       "2000-02-29   -0.226414\n",
       "2000-03-31    0.319302\n",
       "dtype: float64"
      ]
     },
     "execution_count": 82,
     "metadata": {},
     "output_type": "execute_result"
    }
   ],
   "source": [
    "ts.groupby(offset.rollforward).mean()"
   ]
  },
  {
   "cell_type": "markdown",
   "id": "5969a0f3",
   "metadata": {},
   "source": [
    "The more effective way of doing this however is by resampling as we learnty before;"
   ]
  },
  {
   "cell_type": "code",
   "execution_count": 83,
   "id": "91a3bce5",
   "metadata": {},
   "outputs": [
    {
     "data": {
      "text/plain": [
       "2000-01-31    0.513452\n",
       "2000-02-29   -0.226414\n",
       "2000-03-31    0.319302\n",
       "Freq: M, dtype: float64"
      ]
     },
     "execution_count": 83,
     "metadata": {},
     "output_type": "execute_result"
    }
   ],
   "source": [
    "ts.resample('M').mean()"
   ]
  },
  {
   "cell_type": "markdown",
   "id": "981261be",
   "metadata": {},
   "source": [
    "## Time Zone handling"
   ]
  },
  {
   "cell_type": "markdown",
   "id": "1e2f2b4c",
   "metadata": {},
   "source": [
    "Most time series users choose to work with time series in a coordinated universal time (UTC).\n",
    "\n",
    "All other time zones are expressed as offsets of UTC.\n",
    "\n",
    "In Python, time zone info comes from 'pytz' library which uses the Olsen database which contains world time zone info;"
   ]
  },
  {
   "cell_type": "code",
   "execution_count": 1,
   "id": "390aee30",
   "metadata": {},
   "outputs": [
    {
     "data": {
      "text/plain": [
       "['US/Eastern', 'US/Hawaii', 'US/Mountain', 'US/Pacific', 'UTC']"
      ]
     },
     "execution_count": 1,
     "metadata": {},
     "output_type": "execute_result"
    }
   ],
   "source": [
    "import pytz\n",
    "pytz.common_timezones[-5:]"
   ]
  },
  {
   "cell_type": "markdown",
   "id": "e999f10f",
   "metadata": {},
   "source": [
    "To get a timezone object from pytz, we use pytz.timezone;"
   ]
  },
  {
   "cell_type": "code",
   "execution_count": 2,
   "id": "d518966d",
   "metadata": {},
   "outputs": [
    {
     "data": {
      "text/plain": [
       "<DstTzInfo 'America/New_York' LMT-1 day, 19:04:00 STD>"
      ]
     },
     "execution_count": 2,
     "metadata": {},
     "output_type": "execute_result"
    }
   ],
   "source": [
    "tz = pytz.timezone('America/New_York')\n",
    "tz"
   ]
  },
  {
   "cell_type": "markdown",
   "id": "b12fc6b8",
   "metadata": {},
   "source": [
    "Methods in pandas will either accept the time zone names as strings or like the above object."
   ]
  },
  {
   "cell_type": "markdown",
   "id": "eaa7348d",
   "metadata": {},
   "source": [
    "### Time zone Localization and Conversion"
   ]
  },
  {
   "cell_type": "markdown",
   "id": "30c36641",
   "metadata": {},
   "source": [
    "By default, time seires in Pandas do not have a time zone associated with them (time zone naive);"
   ]
  },
  {
   "cell_type": "code",
   "execution_count": 3,
   "id": "b2ed01b7",
   "metadata": {},
   "outputs": [],
   "source": [
    "import pandas as pd\n",
    "import numpy as np"
   ]
  },
  {
   "cell_type": "code",
   "execution_count": 4,
   "id": "f5a83e91",
   "metadata": {},
   "outputs": [
    {
     "data": {
      "text/plain": [
       "2012-03-09 09:30:00   -0.824044\n",
       "2012-03-10 09:30:00    1.365843\n",
       "2012-03-11 09:30:00    0.363004\n",
       "2012-03-12 09:30:00    0.131379\n",
       "2012-03-13 09:30:00    0.317891\n",
       "2012-03-14 09:30:00   -1.302140\n",
       "Freq: D, dtype: float64"
      ]
     },
     "execution_count": 4,
     "metadata": {},
     "output_type": "execute_result"
    }
   ],
   "source": [
    "rng = pd.date_range('3/9/2012 9:30', periods=6, freq='D')\n",
    "ts = pd.Series(np.random.randn(len(rng)), index=rng)\n",
    "ts"
   ]
  },
  {
   "cell_type": "code",
   "execution_count": 5,
   "id": "283d678c",
   "metadata": {},
   "outputs": [
    {
     "name": "stdout",
     "output_type": "stream",
     "text": [
      "None\n"
     ]
    }
   ],
   "source": [
    "print(ts.index.tz)"
   ]
  },
  {
   "cell_type": "markdown",
   "id": "809fdef9",
   "metadata": {},
   "source": [
    "As we can see from the above, the index's tz field is None."
   ]
  },
  {
   "cell_type": "markdown",
   "id": "5741ca19",
   "metadata": {},
   "source": [
    "Date ranges can be generated with a time zone set;"
   ]
  },
  {
   "cell_type": "code",
   "execution_count": 6,
   "id": "0abf094c",
   "metadata": {},
   "outputs": [
    {
     "data": {
      "text/plain": [
       "DatetimeIndex(['2012-03-09 00:00:00+00:00', '2012-03-10 00:00:00+00:00',\n",
       "               '2012-03-11 00:00:00+00:00', '2012-03-12 00:00:00+00:00',\n",
       "               '2012-03-13 00:00:00+00:00', '2012-03-14 00:00:00+00:00'],\n",
       "              dtype='datetime64[ns, UTC]', freq='D')"
      ]
     },
     "execution_count": 6,
     "metadata": {},
     "output_type": "execute_result"
    }
   ],
   "source": [
    "pd.date_range('3/9/2012', periods=6, freq='D', tz='UTC')"
   ]
  },
  {
   "cell_type": "markdown",
   "id": "54b5c2fb",
   "metadata": {},
   "source": [
    "We can also covert a naive time series to a one with a time zone (localized) using 'tz_localize' method;"
   ]
  },
  {
   "cell_type": "code",
   "execution_count": 7,
   "id": "48870680",
   "metadata": {},
   "outputs": [
    {
     "data": {
      "text/plain": [
       "2012-03-09 09:30:00   -0.824044\n",
       "2012-03-10 09:30:00    1.365843\n",
       "2012-03-11 09:30:00    0.363004\n",
       "2012-03-12 09:30:00    0.131379\n",
       "2012-03-13 09:30:00    0.317891\n",
       "2012-03-14 09:30:00   -1.302140\n",
       "Freq: D, dtype: float64"
      ]
     },
     "execution_count": 7,
     "metadata": {},
     "output_type": "execute_result"
    }
   ],
   "source": [
    "ts"
   ]
  },
  {
   "cell_type": "code",
   "execution_count": 9,
   "id": "6da0d77f",
   "metadata": {},
   "outputs": [
    {
     "data": {
      "text/plain": [
       "2012-03-09 09:30:00+00:00   -0.824044\n",
       "2012-03-10 09:30:00+00:00    1.365843\n",
       "2012-03-11 09:30:00+00:00    0.363004\n",
       "2012-03-12 09:30:00+00:00    0.131379\n",
       "2012-03-13 09:30:00+00:00    0.317891\n",
       "2012-03-14 09:30:00+00:00   -1.302140\n",
       "Freq: D, dtype: float64"
      ]
     },
     "execution_count": 9,
     "metadata": {},
     "output_type": "execute_result"
    }
   ],
   "source": [
    "ts_utc = ts.tz_localize('UTC')\n",
    "ts_utc"
   ]
  },
  {
   "cell_type": "code",
   "execution_count": 10,
   "id": "c917ddbc",
   "metadata": {},
   "outputs": [
    {
     "data": {
      "text/plain": [
       "DatetimeIndex(['2012-03-09 09:30:00+00:00', '2012-03-10 09:30:00+00:00',\n",
       "               '2012-03-11 09:30:00+00:00', '2012-03-12 09:30:00+00:00',\n",
       "               '2012-03-13 09:30:00+00:00', '2012-03-14 09:30:00+00:00'],\n",
       "              dtype='datetime64[ns, UTC]', freq='D')"
      ]
     },
     "execution_count": 10,
     "metadata": {},
     "output_type": "execute_result"
    }
   ],
   "source": [
    "ts_utc.index"
   ]
  },
  {
   "cell_type": "markdown",
   "id": "fe521e30",
   "metadata": {},
   "source": [
    "A time series can be converted from one time zone to another with the 'tz_convert' method;"
   ]
  },
  {
   "cell_type": "code",
   "execution_count": 11,
   "id": "addc56a8",
   "metadata": {},
   "outputs": [
    {
     "data": {
      "text/plain": [
       "2012-03-09 04:30:00-05:00   -0.824044\n",
       "2012-03-10 04:30:00-05:00    1.365843\n",
       "2012-03-11 05:30:00-04:00    0.363004\n",
       "2012-03-12 05:30:00-04:00    0.131379\n",
       "2012-03-13 05:30:00-04:00    0.317891\n",
       "2012-03-14 05:30:00-04:00   -1.302140\n",
       "Freq: D, dtype: float64"
      ]
     },
     "execution_count": 11,
     "metadata": {},
     "output_type": "execute_result"
    }
   ],
   "source": [
    "ts_utc.tz_convert('America/New_York')"
   ]
  },
  {
   "cell_type": "markdown",
   "id": "52f6bc29",
   "metadata": {},
   "source": [
    "From a New York time zone, we can localize it to EST then we can convert it to UTC or Berlin time;"
   ]
  },
  {
   "cell_type": "code",
   "execution_count": 12,
   "id": "c158e9a6",
   "metadata": {},
   "outputs": [
    {
     "data": {
      "text/plain": [
       "2012-03-09 14:30:00+00:00   -0.824044\n",
       "2012-03-10 14:30:00+00:00    1.365843\n",
       "2012-03-11 13:30:00+00:00    0.363004\n",
       "2012-03-12 13:30:00+00:00    0.131379\n",
       "2012-03-13 13:30:00+00:00    0.317891\n",
       "2012-03-14 13:30:00+00:00   -1.302140\n",
       "dtype: float64"
      ]
     },
     "execution_count": 12,
     "metadata": {},
     "output_type": "execute_result"
    }
   ],
   "source": [
    "ts_east = ts.tz_localize('America/New_York')\n",
    "ts_east.tz_convert('UTC')"
   ]
  },
  {
   "cell_type": "code",
   "execution_count": 13,
   "id": "d44a9b3c",
   "metadata": {},
   "outputs": [
    {
     "data": {
      "text/plain": [
       "2012-03-09 15:30:00+01:00   -0.824044\n",
       "2012-03-10 15:30:00+01:00    1.365843\n",
       "2012-03-11 14:30:00+01:00    0.363004\n",
       "2012-03-12 14:30:00+01:00    0.131379\n",
       "2012-03-13 14:30:00+01:00    0.317891\n",
       "2012-03-14 14:30:00+01:00   -1.302140\n",
       "dtype: float64"
      ]
     },
     "execution_count": 13,
     "metadata": {},
     "output_type": "execute_result"
    }
   ],
   "source": [
    "ts_east.tz_convert('Europe/Berlin')"
   ]
  },
  {
   "cell_type": "markdown",
   "id": "cdeedfa6",
   "metadata": {},
   "source": [
    "'tz_localize' and 'tz_convert' are also methods of DatetimeIndex;"
   ]
  },
  {
   "cell_type": "code",
   "execution_count": 18,
   "id": "72a9b669",
   "metadata": {},
   "outputs": [
    {
     "data": {
      "text/plain": [
       "DatetimeIndex(['2012-03-09 09:30:00+08:00', '2012-03-10 09:30:00+08:00',\n",
       "               '2012-03-11 09:30:00+08:00', '2012-03-12 09:30:00+08:00',\n",
       "               '2012-03-13 09:30:00+08:00', '2012-03-14 09:30:00+08:00'],\n",
       "              dtype='datetime64[ns, Asia/Shanghai]', freq=None)"
      ]
     },
     "execution_count": 18,
     "metadata": {},
     "output_type": "execute_result"
    }
   ],
   "source": [
    "ts.index.tz_localize('Asia/Shanghai')"
   ]
  },
  {
   "cell_type": "markdown",
   "id": "f5d51976",
   "metadata": {},
   "source": [
    "### Operations with time zone - Aware Timestamp objects"
   ]
  },
  {
   "cell_type": "markdown",
   "id": "326b4f2d",
   "metadata": {},
   "source": [
    "Similar to time series and date ranges, induvidula timestamp objects can also be localized from naive to time zone-aware;"
   ]
  },
  {
   "cell_type": "code",
   "execution_count": 21,
   "id": "37563846",
   "metadata": {},
   "outputs": [
    {
     "data": {
      "text/plain": [
       "Timestamp('2011-03-11 23:00:00-0500', tz='America/New_York')"
      ]
     },
     "execution_count": 21,
     "metadata": {},
     "output_type": "execute_result"
    }
   ],
   "source": [
    "stamp = pd.Timestamp('2011-03-12 04:00')\n",
    "stamp_utc = stamp.tz_localize('utc')\n",
    "stamp_utc.tz_convert('America/New_York')"
   ]
  },
  {
   "cell_type": "markdown",
   "id": "868b470d",
   "metadata": {},
   "source": [
    "We can also pass a time zone when creating a timestamp;"
   ]
  },
  {
   "cell_type": "code",
   "execution_count": 22,
   "id": "e523146d",
   "metadata": {},
   "outputs": [
    {
     "data": {
      "text/plain": [
       "Timestamp('2011-03-12 04:00:00+0300', tz='Europe/Moscow')"
      ]
     },
     "execution_count": 22,
     "metadata": {},
     "output_type": "execute_result"
    }
   ],
   "source": [
    "stamp_moscow = pd.Timestamp('2011-03-12 04:00', tz='Europe/Moscow')\n",
    "stamp_moscow"
   ]
  },
  {
   "cell_type": "markdown",
   "id": "f13e387e",
   "metadata": {},
   "source": [
    "Timezone aware timestamps internally store the a UTC timestamp value as nanoseconds since the Unix eoch (Jan 1, 1970) whose value does not change between timzone conversions;"
   ]
  },
  {
   "cell_type": "code",
   "execution_count": 23,
   "id": "b3bd5bec",
   "metadata": {},
   "outputs": [
    {
     "data": {
      "text/plain": [
       "1299902400000000000"
      ]
     },
     "execution_count": 23,
     "metadata": {},
     "output_type": "execute_result"
    }
   ],
   "source": [
    "stamp_utc.value"
   ]
  },
  {
   "cell_type": "code",
   "execution_count": 24,
   "id": "87ec6026",
   "metadata": {},
   "outputs": [
    {
     "data": {
      "text/plain": [
       "1299902400000000000"
      ]
     },
     "execution_count": 24,
     "metadata": {},
     "output_type": "execute_result"
    }
   ],
   "source": [
    "stamp_utc.tz_convert('America/New_York').value"
   ]
  },
  {
   "cell_type": "markdown",
   "id": "374ee072",
   "metadata": {},
   "source": [
    "Pandas respects daylight saving time (DST) transitions (shifting time forward or backward) where possible.\n",
    "\n",
    "30 minutes before transitioning to DST;"
   ]
  },
  {
   "cell_type": "code",
   "execution_count": 26,
   "id": "7f22ae4a",
   "metadata": {},
   "outputs": [
    {
     "data": {
      "text/plain": [
       "Timestamp('2012-03-12 01:30:00-0400', tz='US/Eastern')"
      ]
     },
     "execution_count": 26,
     "metadata": {},
     "output_type": "execute_result"
    }
   ],
   "source": [
    "from pandas.tseries.offsets import Hour\n",
    "stamp = pd.Timestamp('2012-03-12 01:30', tz='US/Eastern')\n",
    "stamp"
   ]
  },
  {
   "cell_type": "code",
   "execution_count": 27,
   "id": "88727a0f",
   "metadata": {},
   "outputs": [
    {
     "data": {
      "text/plain": [
       "Timestamp('2012-03-12 02:30:00-0400', tz='US/Eastern')"
      ]
     },
     "execution_count": 27,
     "metadata": {},
     "output_type": "execute_result"
    }
   ],
   "source": [
    "stamp + Hour()"
   ]
  },
  {
   "cell_type": "markdown",
   "id": "f9211ff9",
   "metadata": {},
   "source": [
    "90 minutes before transitioning out of DST;"
   ]
  },
  {
   "cell_type": "code",
   "execution_count": 28,
   "id": "5f488396",
   "metadata": {},
   "outputs": [
    {
     "data": {
      "text/plain": [
       "Timestamp('2012-11-04 00:30:00-0400', tz='US/Eastern')"
      ]
     },
     "execution_count": 28,
     "metadata": {},
     "output_type": "execute_result"
    }
   ],
   "source": [
    "stamp = pd.Timestamp('2012-11-04 00:30', tz='US/Eastern')\n",
    "stamp"
   ]
  },
  {
   "cell_type": "code",
   "execution_count": 30,
   "id": "2df0258e",
   "metadata": {},
   "outputs": [
    {
     "data": {
      "text/plain": [
       "Timestamp('2012-11-04 01:00:00-0500', tz='US/Eastern')"
      ]
     },
     "execution_count": 30,
     "metadata": {},
     "output_type": "execute_result"
    }
   ],
   "source": [
    "stamp + 1.5 * Hour()"
   ]
  },
  {
   "cell_type": "markdown",
   "id": "7e71db8b",
   "metadata": {},
   "source": [
    "### Operations between different time zones"
   ]
  },
  {
   "cell_type": "markdown",
   "id": "d3d6e5fd",
   "metadata": {},
   "source": [
    "If 2 time series of different time zones are combined then the result will be a UTC;"
   ]
  },
  {
   "cell_type": "code",
   "execution_count": 31,
   "id": "a388356e",
   "metadata": {},
   "outputs": [
    {
     "data": {
      "text/plain": [
       "2012-03-07 09:30:00   -0.708876\n",
       "2012-03-08 09:30:00    0.764895\n",
       "2012-03-09 09:30:00    2.703133\n",
       "2012-03-12 09:30:00   -0.199357\n",
       "2012-03-13 09:30:00    0.943681\n",
       "2012-03-14 09:30:00   -0.972070\n",
       "2012-03-15 09:30:00    0.435652\n",
       "2012-03-16 09:30:00   -0.871545\n",
       "2012-03-19 09:30:00   -0.445826\n",
       "2012-03-20 09:30:00   -0.114310\n",
       "Freq: B, dtype: float64"
      ]
     },
     "execution_count": 31,
     "metadata": {},
     "output_type": "execute_result"
    }
   ],
   "source": [
    "rng = pd.date_range('3/7/2012 9:30', periods=10, freq='B')\n",
    "ts = pd.Series(np.random.randn(len(rng)), index=rng)\n",
    "ts"
   ]
  },
  {
   "cell_type": "code",
   "execution_count": 32,
   "id": "c9e3a0b2",
   "metadata": {},
   "outputs": [
    {
     "data": {
      "text/plain": [
       "DatetimeIndex(['2012-03-07 09:30:00+00:00', '2012-03-08 09:30:00+00:00',\n",
       "               '2012-03-09 09:30:00+00:00', '2012-03-12 09:30:00+00:00',\n",
       "               '2012-03-13 09:30:00+00:00', '2012-03-14 09:30:00+00:00',\n",
       "               '2012-03-15 09:30:00+00:00'],\n",
       "              dtype='datetime64[ns, UTC]', freq=None)"
      ]
     },
     "execution_count": 32,
     "metadata": {},
     "output_type": "execute_result"
    }
   ],
   "source": [
    "ts1 = ts[:7].tz_localize('Europe/London')\n",
    "ts2 = ts1[2:].tz_convert('Europe/Moscow')\n",
    "result = ts1 + ts2\n",
    "result.index"
   ]
  },
  {
   "cell_type": "markdown",
   "id": "2d6fb901",
   "metadata": {},
   "source": [
    "## Periods and Period Arithmetic"
   ]
  },
  {
   "cell_type": "markdown",
   "id": "42700232",
   "metadata": {},
   "source": [
    "Periods represents timespans like days, months, qaurters or years. The 'Period' object represents this datatype;"
   ]
  },
  {
   "cell_type": "code",
   "execution_count": 33,
   "id": "42266a52",
   "metadata": {},
   "outputs": [
    {
     "data": {
      "text/plain": [
       "Period('2007', 'A-DEC')"
      ]
     },
     "execution_count": 33,
     "metadata": {},
     "output_type": "execute_result"
    }
   ],
   "source": [
    "p = pd.Period(2007, freq='A-DEC')\n",
    "p"
   ]
  },
  {
   "cell_type": "markdown",
   "id": "9e5f49ae",
   "metadata": {},
   "source": [
    "In the above case, the Period object represents the full timespan from Jan 1, 2007 to Dec 31, 2007.\n",
    "\n",
    "Adding or Subtracting integers from periods causes shiting wrt the frequency;"
   ]
  },
  {
   "cell_type": "code",
   "execution_count": 34,
   "id": "787a19dc",
   "metadata": {},
   "outputs": [
    {
     "data": {
      "text/plain": [
       "Period('2012', 'A-DEC')"
      ]
     },
     "execution_count": 34,
     "metadata": {},
     "output_type": "execute_result"
    }
   ],
   "source": [
    "p + 5"
   ]
  },
  {
   "cell_type": "code",
   "execution_count": 35,
   "id": "fc7b7619",
   "metadata": {},
   "outputs": [
    {
     "data": {
      "text/plain": [
       "Period('2005', 'A-DEC')"
      ]
     },
     "execution_count": 35,
     "metadata": {},
     "output_type": "execute_result"
    }
   ],
   "source": [
    "p - 2"
   ]
  },
  {
   "cell_type": "markdown",
   "id": "8208d16e",
   "metadata": {},
   "source": [
    "If two periods have the same frequency, then the differnce is the amount of units between them;"
   ]
  },
  {
   "cell_type": "code",
   "execution_count": 36,
   "id": "0584fdc1",
   "metadata": {},
   "outputs": [
    {
     "data": {
      "text/plain": [
       "<7 * YearEnds: month=12>"
      ]
     },
     "execution_count": 36,
     "metadata": {},
     "output_type": "execute_result"
    }
   ],
   "source": [
    "pd.Period('2014', freq='A-DEC') - p"
   ]
  },
  {
   "cell_type": "markdown",
   "id": "d8d2ca0e",
   "metadata": {},
   "source": [
    "Regular range of periods can be constructed using 'period_range';"
   ]
  },
  {
   "cell_type": "code",
   "execution_count": 37,
   "id": "6552e8cc",
   "metadata": {},
   "outputs": [
    {
     "data": {
      "text/plain": [
       "PeriodIndex(['2000-01', '2000-02', '2000-03', '2000-04', '2000-05', '2000-06'], dtype='period[M]')"
      ]
     },
     "execution_count": 37,
     "metadata": {},
     "output_type": "execute_result"
    }
   ],
   "source": [
    "rng = pd.period_range('2000-01-01', '2000-06-30', freq='M')\n",
    "rng"
   ]
  },
  {
   "cell_type": "markdown",
   "id": "69bd8d3a",
   "metadata": {},
   "source": [
    "As we can see the 'PeriodIndex' object stores a sequence of periods that can be passed as an index any pandas data structure;"
   ]
  },
  {
   "cell_type": "code",
   "execution_count": 38,
   "id": "33aefccc",
   "metadata": {},
   "outputs": [
    {
     "data": {
      "text/plain": [
       "2000-01   -1.604468\n",
       "2000-02    0.014403\n",
       "2000-03   -0.674339\n",
       "2000-04    0.944798\n",
       "2000-05   -2.734440\n",
       "2000-06    0.559397\n",
       "Freq: M, dtype: float64"
      ]
     },
     "execution_count": 38,
     "metadata": {},
     "output_type": "execute_result"
    }
   ],
   "source": [
    "pd.Series(np.random.randn(6), index=rng)"
   ]
  },
  {
   "cell_type": "markdown",
   "id": "aa6591e4",
   "metadata": {},
   "source": [
    "We can also pass an array of string to a 'PeriodIndex' object;"
   ]
  },
  {
   "cell_type": "code",
   "execution_count": 40,
   "id": "224ae4a9",
   "metadata": {},
   "outputs": [
    {
     "data": {
      "text/plain": [
       "PeriodIndex(['2001Q1', '2002Q2', '2003Q1'], dtype='period[Q-DEC]')"
      ]
     },
     "execution_count": 40,
     "metadata": {},
     "output_type": "execute_result"
    }
   ],
   "source": [
    "values = ['2001Q1', '2002Q2', '2003Q1']\n",
    "index = pd.PeriodIndex(values, freq='Q-DEC') # in quarters\n",
    "index"
   ]
  },
  {
   "cell_type": "markdown",
   "id": "5e43c59c",
   "metadata": {},
   "source": [
    "### Period frequency conversion"
   ]
  },
  {
   "cell_type": "markdown",
   "id": "e106dd57",
   "metadata": {},
   "source": [
    "'Period' and 'PeriodIndex' objects can be converted to another frequency with the 'asfreq' method;"
   ]
  },
  {
   "cell_type": "markdown",
   "id": "1b6375ab",
   "metadata": {},
   "source": [
    "For example, we want to convert annual period to a monthly period;"
   ]
  },
  {
   "cell_type": "code",
   "execution_count": 41,
   "id": "c6c9eb4a",
   "metadata": {},
   "outputs": [
    {
     "data": {
      "text/plain": [
       "Period('2007', 'A-DEC')"
      ]
     },
     "execution_count": 41,
     "metadata": {},
     "output_type": "execute_result"
    }
   ],
   "source": [
    "p = pd.Period('2007', freq='A-DEC')\n",
    "p"
   ]
  },
  {
   "cell_type": "code",
   "execution_count": 42,
   "id": "e164a18d",
   "metadata": {},
   "outputs": [
    {
     "data": {
      "text/plain": [
       "Period('2007-01', 'M')"
      ]
     },
     "execution_count": 42,
     "metadata": {},
     "output_type": "execute_result"
    }
   ],
   "source": [
    "p.asfreq('M', how='start')"
   ]
  },
  {
   "cell_type": "code",
   "execution_count": 43,
   "id": "176df3f2",
   "metadata": {},
   "outputs": [
    {
     "data": {
      "text/plain": [
       "Period('2007-12', 'M')"
      ]
     },
     "execution_count": 43,
     "metadata": {},
     "output_type": "execute_result"
    }
   ],
   "source": [
    "p.asfreq('M', how='end')"
   ]
  },
  {
   "attachments": {
    "image.png": {
     "image/png": "[encoded data removed]"
    }
   },
   "cell_type": "markdown",
   "id": "07abdda6",
   "metadata": {},
   "source": [
    "We can think of a Period ('2007', 'A-DEC') as a sort of cursor pointing to a span of time, subdivided by monthly periods;\n",
    "![image.png](attachment:image.png)"
   ]
  },
  {
   "cell_type": "markdown",
   "id": "5be1aee5",
   "metadata": {},
   "source": [
    "We can also create for a year not ending in December (fiscal year - year containing 12 consecutive months ending on the last day of any month other than December);"
   ]
  },
  {
   "cell_type": "code",
   "execution_count": 44,
   "id": "c4414427",
   "metadata": {},
   "outputs": [
    {
     "data": {
      "text/plain": [
       "Period('2007', 'A-JUN')"
      ]
     },
     "execution_count": 44,
     "metadata": {},
     "output_type": "execute_result"
    }
   ],
   "source": [
    "p = pd.Period('2007', freq='A-JUN')\n",
    "p"
   ]
  },
  {
   "cell_type": "code",
   "execution_count": 45,
   "id": "72e72466",
   "metadata": {},
   "outputs": [
    {
     "data": {
      "text/plain": [
       "Period('2006-07', 'M')"
      ]
     },
     "execution_count": 45,
     "metadata": {},
     "output_type": "execute_result"
    }
   ],
   "source": [
    "p.asfreq('M', 'start')"
   ]
  },
  {
   "cell_type": "code",
   "execution_count": 46,
   "id": "9d22a48a",
   "metadata": {},
   "outputs": [
    {
     "data": {
      "text/plain": [
       "Period('2007-06', 'M')"
      ]
     },
     "execution_count": 46,
     "metadata": {},
     "output_type": "execute_result"
    }
   ],
   "source": [
    "p.asfreq('M', 'end')"
   ]
  },
  {
   "cell_type": "markdown",
   "id": "e2434990",
   "metadata": {},
   "source": [
    "When covering from high to low frequency pandas determines the superperiod depending on where the superperiod belongs. Eg: in a A-JUN frequency, the month Aug-2007 is actually a part of the 2008 period;"
   ]
  },
  {
   "cell_type": "code",
   "execution_count": 47,
   "id": "6865efca",
   "metadata": {},
   "outputs": [
    {
     "data": {
      "text/plain": [
       "Period('2008', 'A-JUN')"
      ]
     },
     "execution_count": 47,
     "metadata": {},
     "output_type": "execute_result"
    }
   ],
   "source": [
    "p = pd.Period('Aug-2007', 'M')\n",
    "p.asfreq('A-JUN')"
   ]
  },
  {
   "cell_type": "markdown",
   "id": "7cf50543",
   "metadata": {},
   "source": [
    "Whole PeriodIndex objects can be converted using the same logic;"
   ]
  },
  {
   "cell_type": "code",
   "execution_count": 48,
   "id": "ead74dd3",
   "metadata": {},
   "outputs": [
    {
     "data": {
      "text/plain": [
       "2006    1.945601\n",
       "2007   -0.301744\n",
       "2008    1.425630\n",
       "2009   -0.827797\n",
       "Freq: A-DEC, dtype: float64"
      ]
     },
     "execution_count": 48,
     "metadata": {},
     "output_type": "execute_result"
    }
   ],
   "source": [
    "rng = pd.period_range('2006', '2009', freq='A-DEC')\n",
    "ts = pd.Series(np.random.randn(len(rng)), index=rng)\n",
    "ts"
   ]
  },
  {
   "cell_type": "code",
   "execution_count": 49,
   "id": "0dab205d",
   "metadata": {},
   "outputs": [
    {
     "data": {
      "text/plain": [
       "2006-01    1.945601\n",
       "2007-01   -0.301744\n",
       "2008-01    1.425630\n",
       "2009-01   -0.827797\n",
       "Freq: M, dtype: float64"
      ]
     },
     "execution_count": 49,
     "metadata": {},
     "output_type": "execute_result"
    }
   ],
   "source": [
    "ts.asfreq('M', how='start')"
   ]
  },
  {
   "cell_type": "code",
   "execution_count": 50,
   "id": "65f7e976",
   "metadata": {},
   "outputs": [
    {
     "data": {
      "text/plain": [
       "2006-12-29    1.945601\n",
       "2007-12-31   -0.301744\n",
       "2008-12-31    1.425630\n",
       "2009-12-31   -0.827797\n",
       "Freq: B, dtype: float64"
      ]
     },
     "execution_count": 50,
     "metadata": {},
     "output_type": "execute_result"
    }
   ],
   "source": [
    "ts.asfreq('B', how='end')"
   ]
  },
  {
   "cell_type": "markdown",
   "id": "8fc4fe37",
   "metadata": {},
   "source": [
    "### Quarterly period frequencies"
   ]
  },
  {
   "cell_type": "markdown",
   "id": "39525056",
   "metadata": {},
   "source": [
    "Quarterly data is standar in accounting, finance and other fields.\n",
    "\n",
    "Qarterly data is often reported wrt a fiscal year.\n",
    "\n",
    "Pandas supports all 12 possible quarterly frequencies as Q-JAN throught Q-DEC."
   ]
  },
  {
   "cell_type": "code",
   "execution_count": 51,
   "id": "293b4aa8",
   "metadata": {},
   "outputs": [
    {
     "data": {
      "text/plain": [
       "Period('2012Q4', 'Q-JAN')"
      ]
     },
     "execution_count": 51,
     "metadata": {},
     "output_type": "execute_result"
    }
   ],
   "source": [
    "p = pd.Period('2012Q4', freq='Q-JAN')\n",
    "p"
   ]
  },
  {
   "attachments": {
    "image.png": {
     "image/png": "[encoded data removed]"
    }
   },
   "cell_type": "markdown",
   "id": "fd63a4bb",
   "metadata": {},
   "source": [
    "In case of a fiscal year ending in January, 2012Q4 runs from November through January similary others are;\n",
    "![image.png](attachment:image.png)"
   ]
  },
  {
   "cell_type": "code",
   "execution_count": 52,
   "id": "5222304b",
   "metadata": {},
   "outputs": [
    {
     "data": {
      "text/plain": [
       "Period('2011-11-01', 'D')"
      ]
     },
     "execution_count": 52,
     "metadata": {},
     "output_type": "execute_result"
    }
   ],
   "source": [
    "p.asfreq('D', 'start')"
   ]
  },
  {
   "cell_type": "code",
   "execution_count": 53,
   "id": "8ef74543",
   "metadata": {},
   "outputs": [
    {
     "data": {
      "text/plain": [
       "Period('2012-01-31', 'D')"
      ]
     },
     "execution_count": 53,
     "metadata": {},
     "output_type": "execute_result"
    }
   ],
   "source": [
    "p.asfreq('D', 'end')"
   ]
  },
  {
   "cell_type": "markdown",
   "id": "2e2fd78e",
   "metadata": {},
   "source": [
    "It's possible to do easy period arithmetic, for example to get the timestamp at 4PM on the second to least buisiness day of the quarter;"
   ]
  },
  {
   "cell_type": "code",
   "execution_count": 54,
   "id": "c70356f3",
   "metadata": {},
   "outputs": [
    {
     "data": {
      "text/plain": [
       "Period('2012-01-30 16:00', 'T')"
      ]
     },
     "execution_count": 54,
     "metadata": {},
     "output_type": "execute_result"
    }
   ],
   "source": [
    "p4pm = (p.asfreq('B', 'e') - 1).asfreq('T', 's') + 16 * 60\n",
    "p4pm"
   ]
  },
  {
   "cell_type": "code",
   "execution_count": 55,
   "id": "efed9677",
   "metadata": {},
   "outputs": [
    {
     "data": {
      "text/plain": [
       "Timestamp('2012-01-30 16:00:00')"
      ]
     },
     "execution_count": 55,
     "metadata": {},
     "output_type": "execute_result"
    }
   ],
   "source": [
    "p4pm.to_timestamp()"
   ]
  },
  {
   "cell_type": "markdown",
   "id": "c373b500",
   "metadata": {},
   "source": [
    "We can generate quarterly ranges using 'period_range';"
   ]
  },
  {
   "cell_type": "code",
   "execution_count": 56,
   "id": "59e63d83",
   "metadata": {},
   "outputs": [
    {
     "data": {
      "text/plain": [
       "2011Q3    0\n",
       "2011Q4    1\n",
       "2012Q1    2\n",
       "2012Q2    3\n",
       "2012Q3    4\n",
       "2012Q4    5\n",
       "Freq: Q-JAN, dtype: int32"
      ]
     },
     "execution_count": 56,
     "metadata": {},
     "output_type": "execute_result"
    }
   ],
   "source": [
    "rng = pd.period_range('2011Q3', '2012Q4', freq='Q-JAN')\n",
    "ts = pd.Series(np.arange(len(rng)), index=rng)\n",
    "ts"
   ]
  },
  {
   "cell_type": "markdown",
   "id": "be35e9a1",
   "metadata": {},
   "source": [
    "The arithmetic for the period_range is also the similar;"
   ]
  },
  {
   "cell_type": "code",
   "execution_count": 59,
   "id": "e447e62b",
   "metadata": {},
   "outputs": [
    {
     "data": {
      "text/plain": [
       "2010-10-28 16:00:00    0\n",
       "2011-01-28 16:00:00    1\n",
       "2011-04-28 16:00:00    2\n",
       "2011-07-28 16:00:00    3\n",
       "2011-10-28 16:00:00    4\n",
       "2012-01-30 16:00:00    5\n",
       "dtype: int32"
      ]
     },
     "execution_count": 59,
     "metadata": {},
     "output_type": "execute_result"
    }
   ],
   "source": [
    "new_rng = (rng.asfreq('B', 'e') - 1).asfreq('T', 's') + 16 * 60\n",
    "ts.index = new_rng.to_timestamp()\n",
    "ts"
   ]
  },
  {
   "cell_type": "markdown",
   "id": "06e8b3f6",
   "metadata": {},
   "source": [
    "### Converting Timestamps to Periods and back"
   ]
  },
  {
   "cell_type": "markdown",
   "id": "c282c58c",
   "metadata": {},
   "source": [
    "Series and DataFrame objects indexed by timestamps can be converted into periods with the 'to_period' method;"
   ]
  },
  {
   "cell_type": "code",
   "execution_count": 60,
   "id": "8808626d",
   "metadata": {},
   "outputs": [
    {
     "data": {
      "text/plain": [
       "2000-01-31   -0.149179\n",
       "2000-02-29   -0.509014\n",
       "2000-03-31    0.394112\n",
       "Freq: M, dtype: float64"
      ]
     },
     "execution_count": 60,
     "metadata": {},
     "output_type": "execute_result"
    }
   ],
   "source": [
    "rng = pd.date_range('2000-01-01', periods=3, freq='M')\n",
    "ts = pd.Series(np.random.randn(len(rng)), index=rng)\n",
    "ts"
   ]
  },
  {
   "cell_type": "code",
   "execution_count": 61,
   "id": "0cb1e0c7",
   "metadata": {},
   "outputs": [
    {
     "data": {
      "text/plain": [
       "2000-01   -0.149179\n",
       "2000-02   -0.509014\n",
       "2000-03    0.394112\n",
       "Freq: M, dtype: float64"
      ]
     },
     "execution_count": 61,
     "metadata": {},
     "output_type": "execute_result"
    }
   ],
   "source": [
    "pts = ts.to_period()\n",
    "pts"
   ]
  },
  {
   "cell_type": "markdown",
   "id": "abf07fdd",
   "metadata": {},
   "source": [
    "A timestamp can only belong to a single period for a given frequency. But there is no issues in having duplicate periods in the result;"
   ]
  },
  {
   "cell_type": "code",
   "execution_count": 62,
   "id": "242babc2",
   "metadata": {},
   "outputs": [
    {
     "data": {
      "text/plain": [
       "2000-01-29   -1.235988\n",
       "2000-01-30    0.701285\n",
       "2000-01-31   -0.829758\n",
       "2000-02-01    0.103972\n",
       "2000-02-02    1.342535\n",
       "2000-02-03   -0.410824\n",
       "Freq: D, dtype: float64"
      ]
     },
     "execution_count": 62,
     "metadata": {},
     "output_type": "execute_result"
    }
   ],
   "source": [
    "rng = pd.date_range('1/29/2000', periods=6, freq='D')\n",
    "ts2 = pd.Series(np.random.randn(6), index=rng)\n",
    "ts2"
   ]
  },
  {
   "cell_type": "code",
   "execution_count": 64,
   "id": "0ad84016",
   "metadata": {},
   "outputs": [
    {
     "data": {
      "text/plain": [
       "2000-01   -1.235988\n",
       "2000-01    0.701285\n",
       "2000-01   -0.829758\n",
       "2000-02    0.103972\n",
       "2000-02    1.342535\n",
       "2000-02   -0.410824\n",
       "Freq: M, dtype: float64"
      ]
     },
     "execution_count": 64,
     "metadata": {},
     "output_type": "execute_result"
    }
   ],
   "source": [
    "ts2.to_period('M')"
   ]
  },
  {
   "cell_type": "markdown",
   "id": "13ae87ab",
   "metadata": {},
   "source": [
    "To convert back to timestamp use 'to_timestamp';"
   ]
  },
  {
   "cell_type": "code",
   "execution_count": 65,
   "id": "30a1362a",
   "metadata": {},
   "outputs": [
    {
     "data": {
      "text/plain": [
       "2000-01-29   -1.235988\n",
       "2000-01-30    0.701285\n",
       "2000-01-31   -0.829758\n",
       "2000-02-01    0.103972\n",
       "2000-02-02    1.342535\n",
       "2000-02-03   -0.410824\n",
       "Freq: D, dtype: float64"
      ]
     },
     "execution_count": 65,
     "metadata": {},
     "output_type": "execute_result"
    }
   ],
   "source": [
    "pts = ts2.to_period()\n",
    "pts"
   ]
  },
  {
   "cell_type": "code",
   "execution_count": 66,
   "id": "4ab951f6",
   "metadata": {},
   "outputs": [
    {
     "data": {
      "text/plain": [
       "2000-01-29 23:59:59.999999999   -1.235988\n",
       "2000-01-30 23:59:59.999999999    0.701285\n",
       "2000-01-31 23:59:59.999999999   -0.829758\n",
       "2000-02-01 23:59:59.999999999    0.103972\n",
       "2000-02-02 23:59:59.999999999    1.342535\n",
       "2000-02-03 23:59:59.999999999   -0.410824\n",
       "Freq: D, dtype: float64"
      ]
     },
     "execution_count": 66,
     "metadata": {},
     "output_type": "execute_result"
    }
   ],
   "source": [
    "pts.to_timestamp(how='end')"
   ]
  },
  {
   "cell_type": "markdown",
   "id": "b06bac68",
   "metadata": {},
   "source": [
    "### Creating a PeriodIndex from arrays"
   ]
  },
  {
   "cell_type": "markdown",
   "id": "f15dbded",
   "metadata": {},
   "source": [
    "Fixed frequncy datesets are sometimes stored with timespan information spread across multiple columns like in the dataset given below;"
   ]
  },
  {
   "cell_type": "code",
   "execution_count": 67,
   "id": "8f4f425c",
   "metadata": {},
   "outputs": [
    {
     "data": {
      "text/html": [
       "<div>\n",
       "<style scoped>\n",
       "    .dataframe tbody tr th:only-of-type {\n",
       "        vertical-align: middle;\n",
       "    }\n",
       "\n",
       "    .dataframe tbody tr th {\n",
       "        vertical-align: top;\n",
       "    }\n",
       "\n",
       "    .dataframe thead th {\n",
       "        text-align: right;\n",
       "    }\n",
       "</style>\n",
       "<table border=\"1\" class=\"dataframe\">\n",
       "  <thead>\n",
       "    <tr style=\"text-align: right;\">\n",
       "      <th></th>\n",
       "      <th>year</th>\n",
       "      <th>quarter</th>\n",
       "      <th>realgdp</th>\n",
       "      <th>realcons</th>\n",
       "      <th>realinv</th>\n",
       "      <th>realgovt</th>\n",
       "      <th>realdpi</th>\n",
       "      <th>cpi</th>\n",
       "      <th>m1</th>\n",
       "      <th>tbilrate</th>\n",
       "      <th>unemp</th>\n",
       "      <th>pop</th>\n",
       "      <th>infl</th>\n",
       "      <th>realint</th>\n",
       "    </tr>\n",
       "  </thead>\n",
       "  <tbody>\n",
       "    <tr>\n",
       "      <th>0</th>\n",
       "      <td>1959.0</td>\n",
       "      <td>1.0</td>\n",
       "      <td>2710.349</td>\n",
       "      <td>1707.4</td>\n",
       "      <td>286.898</td>\n",
       "      <td>470.045</td>\n",
       "      <td>1886.9</td>\n",
       "      <td>28.98</td>\n",
       "      <td>139.7</td>\n",
       "      <td>2.82</td>\n",
       "      <td>5.8</td>\n",
       "      <td>177.146</td>\n",
       "      <td>0.00</td>\n",
       "      <td>0.00</td>\n",
       "    </tr>\n",
       "    <tr>\n",
       "      <th>1</th>\n",
       "      <td>1959.0</td>\n",
       "      <td>2.0</td>\n",
       "      <td>2778.801</td>\n",
       "      <td>1733.7</td>\n",
       "      <td>310.859</td>\n",
       "      <td>481.301</td>\n",
       "      <td>1919.7</td>\n",
       "      <td>29.15</td>\n",
       "      <td>141.7</td>\n",
       "      <td>3.08</td>\n",
       "      <td>5.1</td>\n",
       "      <td>177.830</td>\n",
       "      <td>2.34</td>\n",
       "      <td>0.74</td>\n",
       "    </tr>\n",
       "    <tr>\n",
       "      <th>2</th>\n",
       "      <td>1959.0</td>\n",
       "      <td>3.0</td>\n",
       "      <td>2775.488</td>\n",
       "      <td>1751.8</td>\n",
       "      <td>289.226</td>\n",
       "      <td>491.260</td>\n",
       "      <td>1916.4</td>\n",
       "      <td>29.35</td>\n",
       "      <td>140.5</td>\n",
       "      <td>3.82</td>\n",
       "      <td>5.3</td>\n",
       "      <td>178.657</td>\n",
       "      <td>2.74</td>\n",
       "      <td>1.09</td>\n",
       "    </tr>\n",
       "    <tr>\n",
       "      <th>3</th>\n",
       "      <td>1959.0</td>\n",
       "      <td>4.0</td>\n",
       "      <td>2785.204</td>\n",
       "      <td>1753.7</td>\n",
       "      <td>299.356</td>\n",
       "      <td>484.052</td>\n",
       "      <td>1931.3</td>\n",
       "      <td>29.37</td>\n",
       "      <td>140.0</td>\n",
       "      <td>4.33</td>\n",
       "      <td>5.6</td>\n",
       "      <td>179.386</td>\n",
       "      <td>0.27</td>\n",
       "      <td>4.06</td>\n",
       "    </tr>\n",
       "    <tr>\n",
       "      <th>4</th>\n",
       "      <td>1960.0</td>\n",
       "      <td>1.0</td>\n",
       "      <td>2847.699</td>\n",
       "      <td>1770.5</td>\n",
       "      <td>331.722</td>\n",
       "      <td>462.199</td>\n",
       "      <td>1955.5</td>\n",
       "      <td>29.54</td>\n",
       "      <td>139.6</td>\n",
       "      <td>3.50</td>\n",
       "      <td>5.2</td>\n",
       "      <td>180.007</td>\n",
       "      <td>2.31</td>\n",
       "      <td>1.19</td>\n",
       "    </tr>\n",
       "  </tbody>\n",
       "</table>\n",
       "</div>"
      ],
      "text/plain": [
       "     year  quarter   realgdp  realcons  realinv  realgovt  realdpi    cpi  \\\n",
       "0  1959.0      1.0  2710.349    1707.4  286.898   470.045   1886.9  28.98   \n",
       "1  1959.0      2.0  2778.801    1733.7  310.859   481.301   1919.7  29.15   \n",
       "2  1959.0      3.0  2775.488    1751.8  289.226   491.260   1916.4  29.35   \n",
       "3  1959.0      4.0  2785.204    1753.7  299.356   484.052   1931.3  29.37   \n",
       "4  1960.0      1.0  2847.699    1770.5  331.722   462.199   1955.5  29.54   \n",
       "\n",
       "      m1  tbilrate  unemp      pop  infl  realint  \n",
       "0  139.7      2.82    5.8  177.146  0.00     0.00  \n",
       "1  141.7      3.08    5.1  177.830  2.34     0.74  \n",
       "2  140.5      3.82    5.3  178.657  2.74     1.09  \n",
       "3  140.0      4.33    5.6  179.386  0.27     4.06  \n",
       "4  139.6      3.50    5.2  180.007  2.31     1.19  "
      ]
     },
     "execution_count": 67,
     "metadata": {},
     "output_type": "execute_result"
    }
   ],
   "source": [
    "data = pd.read_csv('examples/macrodata.csv')\n",
    "data.head()"
   ]
  },
  {
   "cell_type": "code",
   "execution_count": 68,
   "id": "15829861",
   "metadata": {},
   "outputs": [
    {
     "data": {
      "text/plain": [
       "0      1959.0\n",
       "1      1959.0\n",
       "2      1959.0\n",
       "3      1959.0\n",
       "4      1960.0\n",
       "        ...  \n",
       "198    2008.0\n",
       "199    2008.0\n",
       "200    2009.0\n",
       "201    2009.0\n",
       "202    2009.0\n",
       "Name: year, Length: 203, dtype: float64"
      ]
     },
     "execution_count": 68,
     "metadata": {},
     "output_type": "execute_result"
    }
   ],
   "source": [
    "data.year"
   ]
  },
  {
   "cell_type": "code",
   "execution_count": 70,
   "id": "91347f04",
   "metadata": {},
   "outputs": [
    {
     "data": {
      "text/plain": [
       "0      1.0\n",
       "1      2.0\n",
       "2      3.0\n",
       "3      4.0\n",
       "4      1.0\n",
       "      ... \n",
       "198    3.0\n",
       "199    4.0\n",
       "200    1.0\n",
       "201    2.0\n",
       "202    3.0\n",
       "Name: quarter, Length: 203, dtype: float64"
      ]
     },
     "execution_count": 70,
     "metadata": {},
     "output_type": "execute_result"
    }
   ],
   "source": [
    "data.quarter"
   ]
  },
  {
   "cell_type": "markdown",
   "id": "dd884c64",
   "metadata": {},
   "source": [
    "By passing these arrays to 'PeriodIndex' with a frequency, we can combine them to form an index for the DataFrame;"
   ]
  },
  {
   "cell_type": "code",
   "execution_count": 71,
   "id": "11b35b0e",
   "metadata": {},
   "outputs": [
    {
     "data": {
      "text/plain": [
       "PeriodIndex(['1959Q1', '1959Q2', '1959Q3', '1959Q4', '1960Q1', '1960Q2',\n",
       "             '1960Q3', '1960Q4', '1961Q1', '1961Q2',\n",
       "             ...\n",
       "             '2007Q2', '2007Q3', '2007Q4', '2008Q1', '2008Q2', '2008Q3',\n",
       "             '2008Q4', '2009Q1', '2009Q2', '2009Q3'],\n",
       "            dtype='period[Q-DEC]', length=203)"
      ]
     },
     "execution_count": 71,
     "metadata": {},
     "output_type": "execute_result"
    }
   ],
   "source": [
    "index = pd.PeriodIndex(year=data.year, quarter=data.quarter, freq='Q-DEC')\n",
    "index"
   ]
  },
  {
   "cell_type": "code",
   "execution_count": 73,
   "id": "3e4364ca",
   "metadata": {},
   "outputs": [
    {
     "data": {
      "text/plain": [
       "1959Q1    0.00\n",
       "1959Q2    2.34\n",
       "1959Q3    2.74\n",
       "1959Q4    0.27\n",
       "1960Q1    2.31\n",
       "          ... \n",
       "2008Q3   -3.16\n",
       "2008Q4   -8.79\n",
       "2009Q1    0.94\n",
       "2009Q2    3.37\n",
       "2009Q3    3.56\n",
       "Freq: Q-DEC, Name: infl, Length: 203, dtype: float64"
      ]
     },
     "execution_count": 73,
     "metadata": {},
     "output_type": "execute_result"
    }
   ],
   "source": [
    "data.index = index\n",
    "data.infl"
   ]
  },
  {
   "cell_type": "markdown",
   "id": "3dab4896",
   "metadata": {},
   "source": [
    "## Resampling and Frequency conversion"
   ]
  },
  {
   "cell_type": "markdown",
   "id": "017182b5",
   "metadata": {},
   "source": [
    "Resampling is the process of converting a time series from one frequency to another.\n",
    "\n",
    "Aggregating higher frequency data to lower frequency is called downsampling, while vice versa is called upsampling.\n",
    "\n",
    "Not all resampling is of the above 2 categories. Eg: converting W-WED to W-FRI is neither of the two.\n",
    "\n",
    "For this pandas has the 'resample' method."
   ]
  },
  {
   "cell_type": "code",
   "execution_count": 1,
   "id": "2879ab58",
   "metadata": {},
   "outputs": [],
   "source": [
    "import pandas as pd\n",
    "import numpy as np"
   ]
  },
  {
   "cell_type": "code",
   "execution_count": 2,
   "id": "68b8e2d2",
   "metadata": {},
   "outputs": [
    {
     "data": {
      "text/plain": [
       "2000-01-01    0.120379\n",
       "2000-01-02    0.664164\n",
       "2000-01-03   -0.308346\n",
       "2000-01-04   -0.007846\n",
       "2000-01-05   -0.669719\n",
       "                ...   \n",
       "2000-04-05    0.349450\n",
       "2000-04-06    0.205449\n",
       "2000-04-07    0.777220\n",
       "2000-04-08   -0.278765\n",
       "2000-04-09   -0.901228\n",
       "Freq: D, Length: 100, dtype: float64"
      ]
     },
     "execution_count": 2,
     "metadata": {},
     "output_type": "execute_result"
    }
   ],
   "source": [
    "rng = pd.date_range('2000-01-01', periods=100, freq='D')\n",
    "ts = pd.Series(np.random.randn(len(rng)), index=rng)\n",
    "ts"
   ]
  },
  {
   "cell_type": "code",
   "execution_count": 3,
   "id": "5c582c99",
   "metadata": {},
   "outputs": [
    {
     "data": {
      "text/plain": [
       "2000-01-31   -0.387215\n",
       "2000-02-29    0.026634\n",
       "2000-03-31    0.050696\n",
       "2000-04-30    0.092624\n",
       "Freq: M, dtype: float64"
      ]
     },
     "execution_count": 3,
     "metadata": {},
     "output_type": "execute_result"
    }
   ],
   "source": [
    "ts.resample('M').mean() # M - month end"
   ]
  },
  {
   "cell_type": "markdown",
   "id": "cbe583a6",
   "metadata": {},
   "source": [
    "### Downsampling"
   ]
  },
  {
   "cell_type": "markdown",
   "id": "0eb280a1",
   "metadata": {},
   "source": [
    "Aggregating data to a lower frequency.\n",
    "\n",
    "The desired frequency to convert to defines bin edges that are used to slice the time series into pieces to aggregate.\n",
    "\n",
    "Eg: to convert from 'M' to 'BM' we need to chop up the data into one month intervals.\n",
    "\n",
    "Each interval is half-open and the intervals are aggregated together.\n",
    "\n",
    "Things to consider when using resample to downsample data,\n",
    "* Which side the interval is on.\n",
    "* How to label each bin, either with the start or the end of the interval."
   ]
  },
  {
   "cell_type": "markdown",
   "id": "23209945",
   "metadata": {},
   "source": [
    "For example, consider a timeseries consisting of some one-minute data;"
   ]
  },
  {
   "cell_type": "code",
   "execution_count": 4,
   "id": "524e84c2",
   "metadata": {},
   "outputs": [
    {
     "data": {
      "text/plain": [
       "2000-01-01 00:00:00     0\n",
       "2000-01-01 00:01:00     1\n",
       "2000-01-01 00:02:00     2\n",
       "2000-01-01 00:03:00     3\n",
       "2000-01-01 00:04:00     4\n",
       "2000-01-01 00:05:00     5\n",
       "2000-01-01 00:06:00     6\n",
       "2000-01-01 00:07:00     7\n",
       "2000-01-01 00:08:00     8\n",
       "2000-01-01 00:09:00     9\n",
       "2000-01-01 00:10:00    10\n",
       "2000-01-01 00:11:00    11\n",
       "Freq: T, dtype: int32"
      ]
     },
     "execution_count": 4,
     "metadata": {},
     "output_type": "execute_result"
    }
   ],
   "source": [
    "rng = pd.date_range('2000-01-01', periods=12, freq='T')\n",
    "ts = pd.Series(np.arange(12), index=rng)\n",
    "ts"
   ]
  },
  {
   "cell_type": "markdown",
   "id": "56a5a8b5",
   "metadata": {},
   "source": [
    "Suppose we want to aggregate this data into 5-minute chunks by taking the sum of each group;"
   ]
  },
  {
   "cell_type": "code",
   "execution_count": 5,
   "id": "aac242a0",
   "metadata": {},
   "outputs": [
    {
     "data": {
      "text/plain": [
       "1999-12-31 23:55:00     0\n",
       "2000-01-01 00:00:00    15\n",
       "2000-01-01 00:05:00    40\n",
       "2000-01-01 00:10:00    11\n",
       "Freq: 5T, dtype: int32"
      ]
     },
     "execution_count": 5,
     "metadata": {},
     "output_type": "execute_result"
    }
   ],
   "source": [
    "ts.resample('5min', closed='right').sum()"
   ]
  },
  {
   "cell_type": "code",
   "execution_count": 6,
   "id": "277097e3",
   "metadata": {},
   "outputs": [
    {
     "data": {
      "text/plain": [
       "2000-01-01 00:00:00    10\n",
       "2000-01-01 00:05:00    35\n",
       "2000-01-01 00:10:00    21\n",
       "Freq: 5T, dtype: int32"
      ]
     },
     "execution_count": 6,
     "metadata": {},
     "output_type": "execute_result"
    }
   ],
   "source": [
    "ts.resample('5min', closed='left').sum()"
   ]
  },
  {
   "cell_type": "markdown",
   "id": "7a9530d3",
   "metadata": {},
   "source": [
    "We can also provide labels based on the bin edge - 'left' or 'right';"
   ]
  },
  {
   "cell_type": "code",
   "execution_count": 7,
   "id": "860ac210",
   "metadata": {},
   "outputs": [
    {
     "data": {
      "text/plain": [
       "1999-12-31 23:55:00     0\n",
       "2000-01-01 00:00:00    15\n",
       "2000-01-01 00:05:00    40\n",
       "2000-01-01 00:10:00    11\n",
       "Freq: 5T, dtype: int32"
      ]
     },
     "execution_count": 7,
     "metadata": {},
     "output_type": "execute_result"
    }
   ],
   "source": [
    "ts.resample('5min', closed='right', label='left').sum()"
   ]
  },
  {
   "attachments": {
    "image.png": {
     "image/png": "[encoded data removed]"
    }
   },
   "cell_type": "markdown",
   "id": "cc25bac6",
   "metadata": {},
   "source": [
    "An illustration of this is;\n",
    "![image.png](attachment:image.png)"
   ]
  },
  {
   "cell_type": "markdown",
   "id": "31206602",
   "metadata": {},
   "source": [
    "We might want to shift the result index by some amount, we can use 'loffset=';"
   ]
  },
  {
   "cell_type": "code",
   "execution_count": 8,
   "id": "eae4b4ff",
   "metadata": {},
   "outputs": [
    {
     "name": "stderr",
     "output_type": "stream",
     "text": [
      "C:\\Users\\Visakan\\AppData\\Local\\Temp\\ipykernel_12504\\2183295028.py:1: FutureWarning: 'loffset' in .resample() and in Grouper() is deprecated.\n",
      "\n",
      ">>> df.resample(freq=\"3s\", loffset=\"8H\")\n",
      "\n",
      "becomes:\n",
      "\n",
      ">>> from pandas.tseries.frequencies import to_offset\n",
      ">>> df = df.resample(freq=\"3s\").mean()\n",
      ">>> df.index = df.index.to_timestamp() + to_offset(\"8H\")\n",
      "\n",
      "  ts.resample('5min', closed='right', label='left', loffset='-1s').sum()\n"
     ]
    },
    {
     "data": {
      "text/plain": [
       "1999-12-31 23:54:59     0\n",
       "1999-12-31 23:59:59    15\n",
       "2000-01-01 00:04:59    40\n",
       "2000-01-01 00:09:59    11\n",
       "Freq: 5T, dtype: int32"
      ]
     },
     "execution_count": 8,
     "metadata": {},
     "output_type": "execute_result"
    }
   ],
   "source": [
    "ts.resample('5min', closed='right', label='left', loffset='-1s').sum()"
   ]
  },
  {
   "cell_type": "markdown",
   "id": "c5faeaed",
   "metadata": {},
   "source": [
    "OHLC - In finance, it is a popular way to aggregate a time series by computing 4 values for each bucket - first(open), last(close), maximum(high) and minimal(low) values;"
   ]
  },
  {
   "cell_type": "code",
   "execution_count": 9,
   "id": "dd6b9bce",
   "metadata": {},
   "outputs": [
    {
     "data": {
      "text/html": [
       "<div>\n",
       "<style scoped>\n",
       "    .dataframe tbody tr th:only-of-type {\n",
       "        vertical-align: middle;\n",
       "    }\n",
       "\n",
       "    .dataframe tbody tr th {\n",
       "        vertical-align: top;\n",
       "    }\n",
       "\n",
       "    .dataframe thead th {\n",
       "        text-align: right;\n",
       "    }\n",
       "</style>\n",
       "<table border=\"1\" class=\"dataframe\">\n",
       "  <thead>\n",
       "    <tr style=\"text-align: right;\">\n",
       "      <th></th>\n",
       "      <th>open</th>\n",
       "      <th>high</th>\n",
       "      <th>low</th>\n",
       "      <th>close</th>\n",
       "    </tr>\n",
       "  </thead>\n",
       "  <tbody>\n",
       "    <tr>\n",
       "      <th>2000-01-01 00:00:00</th>\n",
       "      <td>0</td>\n",
       "      <td>4</td>\n",
       "      <td>0</td>\n",
       "      <td>4</td>\n",
       "    </tr>\n",
       "    <tr>\n",
       "      <th>2000-01-01 00:05:00</th>\n",
       "      <td>5</td>\n",
       "      <td>9</td>\n",
       "      <td>5</td>\n",
       "      <td>9</td>\n",
       "    </tr>\n",
       "    <tr>\n",
       "      <th>2000-01-01 00:10:00</th>\n",
       "      <td>10</td>\n",
       "      <td>11</td>\n",
       "      <td>10</td>\n",
       "      <td>11</td>\n",
       "    </tr>\n",
       "  </tbody>\n",
       "</table>\n",
       "</div>"
      ],
      "text/plain": [
       "                     open  high  low  close\n",
       "2000-01-01 00:00:00     0     4    0      4\n",
       "2000-01-01 00:05:00     5     9    5      9\n",
       "2000-01-01 00:10:00    10    11   10     11"
      ]
     },
     "execution_count": 9,
     "metadata": {},
     "output_type": "execute_result"
    }
   ],
   "source": [
    "ts.resample('5min').ohlc()"
   ]
  },
  {
   "cell_type": "markdown",
   "id": "c5f3c891",
   "metadata": {},
   "source": [
    "### Upsampling and Interpolation"
   ]
  },
  {
   "cell_type": "markdown",
   "id": "a36a4ee0",
   "metadata": {},
   "source": [
    "When converting from low frequency to a higher frequency, no aggregation is needed;"
   ]
  },
  {
   "cell_type": "code",
   "execution_count": 10,
   "id": "1199ca4c",
   "metadata": {},
   "outputs": [
    {
     "data": {
      "text/html": [
       "<div>\n",
       "<style scoped>\n",
       "    .dataframe tbody tr th:only-of-type {\n",
       "        vertical-align: middle;\n",
       "    }\n",
       "\n",
       "    .dataframe tbody tr th {\n",
       "        vertical-align: top;\n",
       "    }\n",
       "\n",
       "    .dataframe thead th {\n",
       "        text-align: right;\n",
       "    }\n",
       "</style>\n",
       "<table border=\"1\" class=\"dataframe\">\n",
       "  <thead>\n",
       "    <tr style=\"text-align: right;\">\n",
       "      <th></th>\n",
       "      <th>Colorado</th>\n",
       "      <th>Texas</th>\n",
       "      <th>New York</th>\n",
       "      <th>Ohio</th>\n",
       "    </tr>\n",
       "  </thead>\n",
       "  <tbody>\n",
       "    <tr>\n",
       "      <th>2000-01-05</th>\n",
       "      <td>-1.680978</td>\n",
       "      <td>-1.106859</td>\n",
       "      <td>-1.043297</td>\n",
       "      <td>-0.016343</td>\n",
       "    </tr>\n",
       "    <tr>\n",
       "      <th>2000-01-12</th>\n",
       "      <td>0.253742</td>\n",
       "      <td>-0.084337</td>\n",
       "      <td>-0.686927</td>\n",
       "      <td>-0.182261</td>\n",
       "    </tr>\n",
       "  </tbody>\n",
       "</table>\n",
       "</div>"
      ],
      "text/plain": [
       "            Colorado     Texas  New York      Ohio\n",
       "2000-01-05 -1.680978 -1.106859 -1.043297 -0.016343\n",
       "2000-01-12  0.253742 -0.084337 -0.686927 -0.182261"
      ]
     },
     "execution_count": 10,
     "metadata": {},
     "output_type": "execute_result"
    }
   ],
   "source": [
    "frame = pd.DataFrame(np.random.randn(2, 4), \n",
    "                     index=pd.date_range('1/1/2000', periods=2, freq='W-WED'),\n",
    "                     columns=['Colorado', 'Texas', 'New York', 'Ohio'])\n",
    "frame"
   ]
  },
  {
   "cell_type": "markdown",
   "id": "f3894697",
   "metadata": {},
   "source": [
    "We use asfreq method here to convert to higher frequency data without any aggregation;"
   ]
  },
  {
   "cell_type": "code",
   "execution_count": 11,
   "id": "eadfd0cd",
   "metadata": {},
   "outputs": [
    {
     "data": {
      "text/html": [
       "<div>\n",
       "<style scoped>\n",
       "    .dataframe tbody tr th:only-of-type {\n",
       "        vertical-align: middle;\n",
       "    }\n",
       "\n",
       "    .dataframe tbody tr th {\n",
       "        vertical-align: top;\n",
       "    }\n",
       "\n",
       "    .dataframe thead th {\n",
       "        text-align: right;\n",
       "    }\n",
       "</style>\n",
       "<table border=\"1\" class=\"dataframe\">\n",
       "  <thead>\n",
       "    <tr style=\"text-align: right;\">\n",
       "      <th></th>\n",
       "      <th>Colorado</th>\n",
       "      <th>Texas</th>\n",
       "      <th>New York</th>\n",
       "      <th>Ohio</th>\n",
       "    </tr>\n",
       "  </thead>\n",
       "  <tbody>\n",
       "    <tr>\n",
       "      <th>2000-01-05</th>\n",
       "      <td>-1.680978</td>\n",
       "      <td>-1.106859</td>\n",
       "      <td>-1.043297</td>\n",
       "      <td>-0.016343</td>\n",
       "    </tr>\n",
       "    <tr>\n",
       "      <th>2000-01-06</th>\n",
       "      <td>NaN</td>\n",
       "      <td>NaN</td>\n",
       "      <td>NaN</td>\n",
       "      <td>NaN</td>\n",
       "    </tr>\n",
       "    <tr>\n",
       "      <th>2000-01-07</th>\n",
       "      <td>NaN</td>\n",
       "      <td>NaN</td>\n",
       "      <td>NaN</td>\n",
       "      <td>NaN</td>\n",
       "    </tr>\n",
       "    <tr>\n",
       "      <th>2000-01-08</th>\n",
       "      <td>NaN</td>\n",
       "      <td>NaN</td>\n",
       "      <td>NaN</td>\n",
       "      <td>NaN</td>\n",
       "    </tr>\n",
       "    <tr>\n",
       "      <th>2000-01-09</th>\n",
       "      <td>NaN</td>\n",
       "      <td>NaN</td>\n",
       "      <td>NaN</td>\n",
       "      <td>NaN</td>\n",
       "    </tr>\n",
       "    <tr>\n",
       "      <th>2000-01-10</th>\n",
       "      <td>NaN</td>\n",
       "      <td>NaN</td>\n",
       "      <td>NaN</td>\n",
       "      <td>NaN</td>\n",
       "    </tr>\n",
       "    <tr>\n",
       "      <th>2000-01-11</th>\n",
       "      <td>NaN</td>\n",
       "      <td>NaN</td>\n",
       "      <td>NaN</td>\n",
       "      <td>NaN</td>\n",
       "    </tr>\n",
       "    <tr>\n",
       "      <th>2000-01-12</th>\n",
       "      <td>0.253742</td>\n",
       "      <td>-0.084337</td>\n",
       "      <td>-0.686927</td>\n",
       "      <td>-0.182261</td>\n",
       "    </tr>\n",
       "  </tbody>\n",
       "</table>\n",
       "</div>"
      ],
      "text/plain": [
       "            Colorado     Texas  New York      Ohio\n",
       "2000-01-05 -1.680978 -1.106859 -1.043297 -0.016343\n",
       "2000-01-06       NaN       NaN       NaN       NaN\n",
       "2000-01-07       NaN       NaN       NaN       NaN\n",
       "2000-01-08       NaN       NaN       NaN       NaN\n",
       "2000-01-09       NaN       NaN       NaN       NaN\n",
       "2000-01-10       NaN       NaN       NaN       NaN\n",
       "2000-01-11       NaN       NaN       NaN       NaN\n",
       "2000-01-12  0.253742 -0.084337 -0.686927 -0.182261"
      ]
     },
     "execution_count": 11,
     "metadata": {},
     "output_type": "execute_result"
    }
   ],
   "source": [
    "df_daily = frame.resample('D').asfreq()\n",
    "df_daily"
   ]
  },
  {
   "cell_type": "markdown",
   "id": "fcfc3ff5",
   "metadata": {},
   "source": [
    "Suppose we want to fill forward each weekly value on the non-Wednesday then 'fillna' method for filling and the 'reindex' method for interpolation;"
   ]
  },
  {
   "cell_type": "code",
   "execution_count": 12,
   "id": "49da6c41",
   "metadata": {},
   "outputs": [
    {
     "data": {
      "text/html": [
       "<div>\n",
       "<style scoped>\n",
       "    .dataframe tbody tr th:only-of-type {\n",
       "        vertical-align: middle;\n",
       "    }\n",
       "\n",
       "    .dataframe tbody tr th {\n",
       "        vertical-align: top;\n",
       "    }\n",
       "\n",
       "    .dataframe thead th {\n",
       "        text-align: right;\n",
       "    }\n",
       "</style>\n",
       "<table border=\"1\" class=\"dataframe\">\n",
       "  <thead>\n",
       "    <tr style=\"text-align: right;\">\n",
       "      <th></th>\n",
       "      <th>Colorado</th>\n",
       "      <th>Texas</th>\n",
       "      <th>New York</th>\n",
       "      <th>Ohio</th>\n",
       "    </tr>\n",
       "  </thead>\n",
       "  <tbody>\n",
       "    <tr>\n",
       "      <th>2000-01-05</th>\n",
       "      <td>-1.680978</td>\n",
       "      <td>-1.106859</td>\n",
       "      <td>-1.043297</td>\n",
       "      <td>-0.016343</td>\n",
       "    </tr>\n",
       "    <tr>\n",
       "      <th>2000-01-06</th>\n",
       "      <td>-1.680978</td>\n",
       "      <td>-1.106859</td>\n",
       "      <td>-1.043297</td>\n",
       "      <td>-0.016343</td>\n",
       "    </tr>\n",
       "    <tr>\n",
       "      <th>2000-01-07</th>\n",
       "      <td>-1.680978</td>\n",
       "      <td>-1.106859</td>\n",
       "      <td>-1.043297</td>\n",
       "      <td>-0.016343</td>\n",
       "    </tr>\n",
       "    <tr>\n",
       "      <th>2000-01-08</th>\n",
       "      <td>-1.680978</td>\n",
       "      <td>-1.106859</td>\n",
       "      <td>-1.043297</td>\n",
       "      <td>-0.016343</td>\n",
       "    </tr>\n",
       "    <tr>\n",
       "      <th>2000-01-09</th>\n",
       "      <td>-1.680978</td>\n",
       "      <td>-1.106859</td>\n",
       "      <td>-1.043297</td>\n",
       "      <td>-0.016343</td>\n",
       "    </tr>\n",
       "    <tr>\n",
       "      <th>2000-01-10</th>\n",
       "      <td>-1.680978</td>\n",
       "      <td>-1.106859</td>\n",
       "      <td>-1.043297</td>\n",
       "      <td>-0.016343</td>\n",
       "    </tr>\n",
       "    <tr>\n",
       "      <th>2000-01-11</th>\n",
       "      <td>-1.680978</td>\n",
       "      <td>-1.106859</td>\n",
       "      <td>-1.043297</td>\n",
       "      <td>-0.016343</td>\n",
       "    </tr>\n",
       "    <tr>\n",
       "      <th>2000-01-12</th>\n",
       "      <td>0.253742</td>\n",
       "      <td>-0.084337</td>\n",
       "      <td>-0.686927</td>\n",
       "      <td>-0.182261</td>\n",
       "    </tr>\n",
       "  </tbody>\n",
       "</table>\n",
       "</div>"
      ],
      "text/plain": [
       "            Colorado     Texas  New York      Ohio\n",
       "2000-01-05 -1.680978 -1.106859 -1.043297 -0.016343\n",
       "2000-01-06 -1.680978 -1.106859 -1.043297 -0.016343\n",
       "2000-01-07 -1.680978 -1.106859 -1.043297 -0.016343\n",
       "2000-01-08 -1.680978 -1.106859 -1.043297 -0.016343\n",
       "2000-01-09 -1.680978 -1.106859 -1.043297 -0.016343\n",
       "2000-01-10 -1.680978 -1.106859 -1.043297 -0.016343\n",
       "2000-01-11 -1.680978 -1.106859 -1.043297 -0.016343\n",
       "2000-01-12  0.253742 -0.084337 -0.686927 -0.182261"
      ]
     },
     "execution_count": 12,
     "metadata": {},
     "output_type": "execute_result"
    }
   ],
   "source": [
    "frame.resample('D').ffill()"
   ]
  },
  {
   "cell_type": "code",
   "execution_count": 14,
   "id": "8473eca6",
   "metadata": {},
   "outputs": [
    {
     "data": {
      "text/html": [
       "<div>\n",
       "<style scoped>\n",
       "    .dataframe tbody tr th:only-of-type {\n",
       "        vertical-align: middle;\n",
       "    }\n",
       "\n",
       "    .dataframe tbody tr th {\n",
       "        vertical-align: top;\n",
       "    }\n",
       "\n",
       "    .dataframe thead th {\n",
       "        text-align: right;\n",
       "    }\n",
       "</style>\n",
       "<table border=\"1\" class=\"dataframe\">\n",
       "  <thead>\n",
       "    <tr style=\"text-align: right;\">\n",
       "      <th></th>\n",
       "      <th>Colorado</th>\n",
       "      <th>Texas</th>\n",
       "      <th>New York</th>\n",
       "      <th>Ohio</th>\n",
       "    </tr>\n",
       "  </thead>\n",
       "  <tbody>\n",
       "    <tr>\n",
       "      <th>2000-01-05</th>\n",
       "      <td>-1.680978</td>\n",
       "      <td>-1.106859</td>\n",
       "      <td>-1.043297</td>\n",
       "      <td>-0.016343</td>\n",
       "    </tr>\n",
       "    <tr>\n",
       "      <th>2000-01-06</th>\n",
       "      <td>-1.680978</td>\n",
       "      <td>-1.106859</td>\n",
       "      <td>-1.043297</td>\n",
       "      <td>-0.016343</td>\n",
       "    </tr>\n",
       "    <tr>\n",
       "      <th>2000-01-07</th>\n",
       "      <td>-1.680978</td>\n",
       "      <td>-1.106859</td>\n",
       "      <td>-1.043297</td>\n",
       "      <td>-0.016343</td>\n",
       "    </tr>\n",
       "    <tr>\n",
       "      <th>2000-01-08</th>\n",
       "      <td>-1.680978</td>\n",
       "      <td>-1.106859</td>\n",
       "      <td>-1.043297</td>\n",
       "      <td>-0.016343</td>\n",
       "    </tr>\n",
       "    <tr>\n",
       "      <th>2000-01-09</th>\n",
       "      <td>-1.680978</td>\n",
       "      <td>-1.106859</td>\n",
       "      <td>-1.043297</td>\n",
       "      <td>-0.016343</td>\n",
       "    </tr>\n",
       "    <tr>\n",
       "      <th>2000-01-10</th>\n",
       "      <td>-1.680978</td>\n",
       "      <td>-1.106859</td>\n",
       "      <td>-1.043297</td>\n",
       "      <td>-0.016343</td>\n",
       "    </tr>\n",
       "    <tr>\n",
       "      <th>2000-01-11</th>\n",
       "      <td>-1.680978</td>\n",
       "      <td>-1.106859</td>\n",
       "      <td>-1.043297</td>\n",
       "      <td>-0.016343</td>\n",
       "    </tr>\n",
       "    <tr>\n",
       "      <th>2000-01-12</th>\n",
       "      <td>0.253742</td>\n",
       "      <td>-0.084337</td>\n",
       "      <td>-0.686927</td>\n",
       "      <td>-0.182261</td>\n",
       "    </tr>\n",
       "  </tbody>\n",
       "</table>\n",
       "</div>"
      ],
      "text/plain": [
       "            Colorado     Texas  New York      Ohio\n",
       "2000-01-05 -1.680978 -1.106859 -1.043297 -0.016343\n",
       "2000-01-06 -1.680978 -1.106859 -1.043297 -0.016343\n",
       "2000-01-07 -1.680978 -1.106859 -1.043297 -0.016343\n",
       "2000-01-08 -1.680978 -1.106859 -1.043297 -0.016343\n",
       "2000-01-09 -1.680978 -1.106859 -1.043297 -0.016343\n",
       "2000-01-10 -1.680978 -1.106859 -1.043297 -0.016343\n",
       "2000-01-11 -1.680978 -1.106859 -1.043297 -0.016343\n",
       "2000-01-12  0.253742 -0.084337 -0.686927 -0.182261"
      ]
     },
     "execution_count": 14,
     "metadata": {},
     "output_type": "execute_result"
    }
   ],
   "source": [
    "frame.resample('D').ffill()"
   ]
  },
  {
   "cell_type": "markdown",
   "id": "b354421a",
   "metadata": {},
   "source": [
    "We can also limit the fill to only a certain number of periods;"
   ]
  },
  {
   "cell_type": "code",
   "execution_count": 15,
   "id": "52784e85",
   "metadata": {},
   "outputs": [
    {
     "data": {
      "text/html": [
       "<div>\n",
       "<style scoped>\n",
       "    .dataframe tbody tr th:only-of-type {\n",
       "        vertical-align: middle;\n",
       "    }\n",
       "\n",
       "    .dataframe tbody tr th {\n",
       "        vertical-align: top;\n",
       "    }\n",
       "\n",
       "    .dataframe thead th {\n",
       "        text-align: right;\n",
       "    }\n",
       "</style>\n",
       "<table border=\"1\" class=\"dataframe\">\n",
       "  <thead>\n",
       "    <tr style=\"text-align: right;\">\n",
       "      <th></th>\n",
       "      <th>Colorado</th>\n",
       "      <th>Texas</th>\n",
       "      <th>New York</th>\n",
       "      <th>Ohio</th>\n",
       "    </tr>\n",
       "  </thead>\n",
       "  <tbody>\n",
       "    <tr>\n",
       "      <th>2000-01-05</th>\n",
       "      <td>-1.680978</td>\n",
       "      <td>-1.106859</td>\n",
       "      <td>-1.043297</td>\n",
       "      <td>-0.016343</td>\n",
       "    </tr>\n",
       "    <tr>\n",
       "      <th>2000-01-06</th>\n",
       "      <td>-1.680978</td>\n",
       "      <td>-1.106859</td>\n",
       "      <td>-1.043297</td>\n",
       "      <td>-0.016343</td>\n",
       "    </tr>\n",
       "    <tr>\n",
       "      <th>2000-01-07</th>\n",
       "      <td>-1.680978</td>\n",
       "      <td>-1.106859</td>\n",
       "      <td>-1.043297</td>\n",
       "      <td>-0.016343</td>\n",
       "    </tr>\n",
       "    <tr>\n",
       "      <th>2000-01-08</th>\n",
       "      <td>NaN</td>\n",
       "      <td>NaN</td>\n",
       "      <td>NaN</td>\n",
       "      <td>NaN</td>\n",
       "    </tr>\n",
       "    <tr>\n",
       "      <th>2000-01-09</th>\n",
       "      <td>NaN</td>\n",
       "      <td>NaN</td>\n",
       "      <td>NaN</td>\n",
       "      <td>NaN</td>\n",
       "    </tr>\n",
       "    <tr>\n",
       "      <th>2000-01-10</th>\n",
       "      <td>NaN</td>\n",
       "      <td>NaN</td>\n",
       "      <td>NaN</td>\n",
       "      <td>NaN</td>\n",
       "    </tr>\n",
       "    <tr>\n",
       "      <th>2000-01-11</th>\n",
       "      <td>NaN</td>\n",
       "      <td>NaN</td>\n",
       "      <td>NaN</td>\n",
       "      <td>NaN</td>\n",
       "    </tr>\n",
       "    <tr>\n",
       "      <th>2000-01-12</th>\n",
       "      <td>0.253742</td>\n",
       "      <td>-0.084337</td>\n",
       "      <td>-0.686927</td>\n",
       "      <td>-0.182261</td>\n",
       "    </tr>\n",
       "  </tbody>\n",
       "</table>\n",
       "</div>"
      ],
      "text/plain": [
       "            Colorado     Texas  New York      Ohio\n",
       "2000-01-05 -1.680978 -1.106859 -1.043297 -0.016343\n",
       "2000-01-06 -1.680978 -1.106859 -1.043297 -0.016343\n",
       "2000-01-07 -1.680978 -1.106859 -1.043297 -0.016343\n",
       "2000-01-08       NaN       NaN       NaN       NaN\n",
       "2000-01-09       NaN       NaN       NaN       NaN\n",
       "2000-01-10       NaN       NaN       NaN       NaN\n",
       "2000-01-11       NaN       NaN       NaN       NaN\n",
       "2000-01-12  0.253742 -0.084337 -0.686927 -0.182261"
      ]
     },
     "execution_count": 15,
     "metadata": {},
     "output_type": "execute_result"
    }
   ],
   "source": [
    "frame.resample('D').ffill(limit=2)"
   ]
  },
  {
   "cell_type": "code",
   "execution_count": 16,
   "id": "f276dc94",
   "metadata": {},
   "outputs": [
    {
     "data": {
      "text/html": [
       "<div>\n",
       "<style scoped>\n",
       "    .dataframe tbody tr th:only-of-type {\n",
       "        vertical-align: middle;\n",
       "    }\n",
       "\n",
       "    .dataframe tbody tr th {\n",
       "        vertical-align: top;\n",
       "    }\n",
       "\n",
       "    .dataframe thead th {\n",
       "        text-align: right;\n",
       "    }\n",
       "</style>\n",
       "<table border=\"1\" class=\"dataframe\">\n",
       "  <thead>\n",
       "    <tr style=\"text-align: right;\">\n",
       "      <th></th>\n",
       "      <th>Colorado</th>\n",
       "      <th>Texas</th>\n",
       "      <th>New York</th>\n",
       "      <th>Ohio</th>\n",
       "    </tr>\n",
       "  </thead>\n",
       "  <tbody>\n",
       "    <tr>\n",
       "      <th>2000-01-06</th>\n",
       "      <td>-1.680978</td>\n",
       "      <td>-1.106859</td>\n",
       "      <td>-1.043297</td>\n",
       "      <td>-0.016343</td>\n",
       "    </tr>\n",
       "    <tr>\n",
       "      <th>2000-01-13</th>\n",
       "      <td>0.253742</td>\n",
       "      <td>-0.084337</td>\n",
       "      <td>-0.686927</td>\n",
       "      <td>-0.182261</td>\n",
       "    </tr>\n",
       "  </tbody>\n",
       "</table>\n",
       "</div>"
      ],
      "text/plain": [
       "            Colorado     Texas  New York      Ohio\n",
       "2000-01-06 -1.680978 -1.106859 -1.043297 -0.016343\n",
       "2000-01-13  0.253742 -0.084337 -0.686927 -0.182261"
      ]
     },
     "execution_count": 16,
     "metadata": {},
     "output_type": "execute_result"
    }
   ],
   "source": [
    "frame.resample('W-THU').ffill()"
   ]
  },
  {
   "cell_type": "markdown",
   "id": "5144f44f",
   "metadata": {},
   "source": [
    "### Resampling with periods"
   ]
  },
  {
   "cell_type": "markdown",
   "id": "75a8686d",
   "metadata": {},
   "source": [
    "It is similar to timestamps resampling;"
   ]
  },
  {
   "cell_type": "code",
   "execution_count": 19,
   "id": "8d8ff1de",
   "metadata": {},
   "outputs": [
    {
     "data": {
      "text/html": [
       "<div>\n",
       "<style scoped>\n",
       "    .dataframe tbody tr th:only-of-type {\n",
       "        vertical-align: middle;\n",
       "    }\n",
       "\n",
       "    .dataframe tbody tr th {\n",
       "        vertical-align: top;\n",
       "    }\n",
       "\n",
       "    .dataframe thead th {\n",
       "        text-align: right;\n",
       "    }\n",
       "</style>\n",
       "<table border=\"1\" class=\"dataframe\">\n",
       "  <thead>\n",
       "    <tr style=\"text-align: right;\">\n",
       "      <th></th>\n",
       "      <th>Colorado</th>\n",
       "      <th>Texas</th>\n",
       "      <th>New York</th>\n",
       "      <th>Ohio</th>\n",
       "    </tr>\n",
       "  </thead>\n",
       "  <tbody>\n",
       "    <tr>\n",
       "      <th>2000-01-31</th>\n",
       "      <td>0.991328</td>\n",
       "      <td>-1.691841</td>\n",
       "      <td>-0.902161</td>\n",
       "      <td>-0.511062</td>\n",
       "    </tr>\n",
       "    <tr>\n",
       "      <th>2000-02-29</th>\n",
       "      <td>0.347321</td>\n",
       "      <td>-1.240429</td>\n",
       "      <td>0.309667</td>\n",
       "      <td>-0.280622</td>\n",
       "    </tr>\n",
       "    <tr>\n",
       "      <th>2000-03-31</th>\n",
       "      <td>-0.642007</td>\n",
       "      <td>-1.364596</td>\n",
       "      <td>-0.847515</td>\n",
       "      <td>-1.122186</td>\n",
       "    </tr>\n",
       "    <tr>\n",
       "      <th>2000-04-30</th>\n",
       "      <td>-0.378461</td>\n",
       "      <td>-2.995228</td>\n",
       "      <td>-0.508513</td>\n",
       "      <td>-2.252377</td>\n",
       "    </tr>\n",
       "    <tr>\n",
       "      <th>2000-05-31</th>\n",
       "      <td>-0.317991</td>\n",
       "      <td>-0.476234</td>\n",
       "      <td>-1.376285</td>\n",
       "      <td>-1.152544</td>\n",
       "    </tr>\n",
       "  </tbody>\n",
       "</table>\n",
       "</div>"
      ],
      "text/plain": [
       "            Colorado     Texas  New York      Ohio\n",
       "2000-01-31  0.991328 -1.691841 -0.902161 -0.511062\n",
       "2000-02-29  0.347321 -1.240429  0.309667 -0.280622\n",
       "2000-03-31 -0.642007 -1.364596 -0.847515 -1.122186\n",
       "2000-04-30 -0.378461 -2.995228 -0.508513 -2.252377\n",
       "2000-05-31 -0.317991 -0.476234 -1.376285 -1.152544"
      ]
     },
     "execution_count": 19,
     "metadata": {},
     "output_type": "execute_result"
    }
   ],
   "source": [
    "frame = pd.DataFrame(np.random.randn(23, 4), \n",
    "                     index=pd.date_range('1-2000', '12-2001', freq='M'),\n",
    "                     columns=['Colorado', 'Texas', 'New York', 'Ohio'])\n",
    "frame[:5]"
   ]
  },
  {
   "cell_type": "code",
   "execution_count": 20,
   "id": "900d8504",
   "metadata": {},
   "outputs": [
    {
     "data": {
      "text/html": [
       "<div>\n",
       "<style scoped>\n",
       "    .dataframe tbody tr th:only-of-type {\n",
       "        vertical-align: middle;\n",
       "    }\n",
       "\n",
       "    .dataframe tbody tr th {\n",
       "        vertical-align: top;\n",
       "    }\n",
       "\n",
       "    .dataframe thead th {\n",
       "        text-align: right;\n",
       "    }\n",
       "</style>\n",
       "<table border=\"1\" class=\"dataframe\">\n",
       "  <thead>\n",
       "    <tr style=\"text-align: right;\">\n",
       "      <th></th>\n",
       "      <th>Colorado</th>\n",
       "      <th>Texas</th>\n",
       "      <th>New York</th>\n",
       "      <th>Ohio</th>\n",
       "    </tr>\n",
       "  </thead>\n",
       "  <tbody>\n",
       "    <tr>\n",
       "      <th>2000-12-31</th>\n",
       "      <td>0.062823</td>\n",
       "      <td>-0.638964</td>\n",
       "      <td>-0.032293</td>\n",
       "      <td>-0.573094</td>\n",
       "    </tr>\n",
       "    <tr>\n",
       "      <th>2001-12-31</th>\n",
       "      <td>0.011133</td>\n",
       "      <td>0.516669</td>\n",
       "      <td>0.029981</td>\n",
       "      <td>-0.341042</td>\n",
       "    </tr>\n",
       "  </tbody>\n",
       "</table>\n",
       "</div>"
      ],
      "text/plain": [
       "            Colorado     Texas  New York      Ohio\n",
       "2000-12-31  0.062823 -0.638964 -0.032293 -0.573094\n",
       "2001-12-31  0.011133  0.516669  0.029981 -0.341042"
      ]
     },
     "execution_count": 20,
     "metadata": {},
     "output_type": "execute_result"
    }
   ],
   "source": [
    "annual_frame = frame.resample('A-DEC').mean()\n",
    "annual_frame"
   ]
  },
  {
   "cell_type": "markdown",
   "id": "2ae63647",
   "metadata": {},
   "source": [
    "In upsampling, which must make a decision about which end of the timespan in the new frequncy to place the values;"
   ]
  },
  {
   "cell_type": "code",
   "execution_count": 21,
   "id": "5be75815",
   "metadata": {},
   "outputs": [
    {
     "data": {
      "text/html": [
       "<div>\n",
       "<style scoped>\n",
       "    .dataframe tbody tr th:only-of-type {\n",
       "        vertical-align: middle;\n",
       "    }\n",
       "\n",
       "    .dataframe tbody tr th {\n",
       "        vertical-align: top;\n",
       "    }\n",
       "\n",
       "    .dataframe thead th {\n",
       "        text-align: right;\n",
       "    }\n",
       "</style>\n",
       "<table border=\"1\" class=\"dataframe\">\n",
       "  <thead>\n",
       "    <tr style=\"text-align: right;\">\n",
       "      <th></th>\n",
       "      <th>Colorado</th>\n",
       "      <th>Texas</th>\n",
       "      <th>New York</th>\n",
       "      <th>Ohio</th>\n",
       "    </tr>\n",
       "  </thead>\n",
       "  <tbody>\n",
       "    <tr>\n",
       "      <th>2000-12-31</th>\n",
       "      <td>0.062823</td>\n",
       "      <td>-0.638964</td>\n",
       "      <td>-0.032293</td>\n",
       "      <td>-0.573094</td>\n",
       "    </tr>\n",
       "    <tr>\n",
       "      <th>2001-03-31</th>\n",
       "      <td>0.062823</td>\n",
       "      <td>-0.638964</td>\n",
       "      <td>-0.032293</td>\n",
       "      <td>-0.573094</td>\n",
       "    </tr>\n",
       "    <tr>\n",
       "      <th>2001-06-30</th>\n",
       "      <td>0.062823</td>\n",
       "      <td>-0.638964</td>\n",
       "      <td>-0.032293</td>\n",
       "      <td>-0.573094</td>\n",
       "    </tr>\n",
       "    <tr>\n",
       "      <th>2001-09-30</th>\n",
       "      <td>0.062823</td>\n",
       "      <td>-0.638964</td>\n",
       "      <td>-0.032293</td>\n",
       "      <td>-0.573094</td>\n",
       "    </tr>\n",
       "    <tr>\n",
       "      <th>2001-12-31</th>\n",
       "      <td>0.011133</td>\n",
       "      <td>0.516669</td>\n",
       "      <td>0.029981</td>\n",
       "      <td>-0.341042</td>\n",
       "    </tr>\n",
       "  </tbody>\n",
       "</table>\n",
       "</div>"
      ],
      "text/plain": [
       "            Colorado     Texas  New York      Ohio\n",
       "2000-12-31  0.062823 -0.638964 -0.032293 -0.573094\n",
       "2001-03-31  0.062823 -0.638964 -0.032293 -0.573094\n",
       "2001-06-30  0.062823 -0.638964 -0.032293 -0.573094\n",
       "2001-09-30  0.062823 -0.638964 -0.032293 -0.573094\n",
       "2001-12-31  0.011133  0.516669  0.029981 -0.341042"
      ]
     },
     "execution_count": 21,
     "metadata": {},
     "output_type": "execute_result"
    }
   ],
   "source": [
    "annual_frame.resample('Q-DEC').ffill()"
   ]
  },
  {
   "cell_type": "code",
   "execution_count": 22,
   "id": "8ec6affe",
   "metadata": {},
   "outputs": [
    {
     "data": {
      "text/html": [
       "<div>\n",
       "<style scoped>\n",
       "    .dataframe tbody tr th:only-of-type {\n",
       "        vertical-align: middle;\n",
       "    }\n",
       "\n",
       "    .dataframe tbody tr th {\n",
       "        vertical-align: top;\n",
       "    }\n",
       "\n",
       "    .dataframe thead th {\n",
       "        text-align: right;\n",
       "    }\n",
       "</style>\n",
       "<table border=\"1\" class=\"dataframe\">\n",
       "  <thead>\n",
       "    <tr style=\"text-align: right;\">\n",
       "      <th></th>\n",
       "      <th>Colorado</th>\n",
       "      <th>Texas</th>\n",
       "      <th>New York</th>\n",
       "      <th>Ohio</th>\n",
       "    </tr>\n",
       "  </thead>\n",
       "  <tbody>\n",
       "    <tr>\n",
       "      <th>2000-12-31</th>\n",
       "      <td>0.062823</td>\n",
       "      <td>-0.638964</td>\n",
       "      <td>-0.032293</td>\n",
       "      <td>-0.573094</td>\n",
       "    </tr>\n",
       "    <tr>\n",
       "      <th>2001-03-31</th>\n",
       "      <td>0.062823</td>\n",
       "      <td>-0.638964</td>\n",
       "      <td>-0.032293</td>\n",
       "      <td>-0.573094</td>\n",
       "    </tr>\n",
       "    <tr>\n",
       "      <th>2001-06-30</th>\n",
       "      <td>0.062823</td>\n",
       "      <td>-0.638964</td>\n",
       "      <td>-0.032293</td>\n",
       "      <td>-0.573094</td>\n",
       "    </tr>\n",
       "    <tr>\n",
       "      <th>2001-09-30</th>\n",
       "      <td>0.062823</td>\n",
       "      <td>-0.638964</td>\n",
       "      <td>-0.032293</td>\n",
       "      <td>-0.573094</td>\n",
       "    </tr>\n",
       "    <tr>\n",
       "      <th>2001-12-31</th>\n",
       "      <td>0.011133</td>\n",
       "      <td>0.516669</td>\n",
       "      <td>0.029981</td>\n",
       "      <td>-0.341042</td>\n",
       "    </tr>\n",
       "  </tbody>\n",
       "</table>\n",
       "</div>"
      ],
      "text/plain": [
       "            Colorado     Texas  New York      Ohio\n",
       "2000-12-31  0.062823 -0.638964 -0.032293 -0.573094\n",
       "2001-03-31  0.062823 -0.638964 -0.032293 -0.573094\n",
       "2001-06-30  0.062823 -0.638964 -0.032293 -0.573094\n",
       "2001-09-30  0.062823 -0.638964 -0.032293 -0.573094\n",
       "2001-12-31  0.011133  0.516669  0.029981 -0.341042"
      ]
     },
     "execution_count": 22,
     "metadata": {},
     "output_type": "execute_result"
    }
   ],
   "source": [
    "annual_frame.resample('Q-DEC', convention='end').ffill()"
   ]
  },
  {
   "cell_type": "markdown",
   "id": "0aefb807",
   "metadata": {},
   "source": [
    "Since periods refer to timespans, the rules about upsampling and downsampling are more rigid:\n",
    "* In downsampling, the target frequency must be a subperiod of the source\n",
    "frequency.\n",
    "* In upsampling, the target frequency must be a superperiod of the source\n",
    "frequency."
   ]
  },
  {
   "cell_type": "code",
   "execution_count": 23,
   "id": "8bf119e5",
   "metadata": {},
   "outputs": [
    {
     "data": {
      "text/html": [
       "<div>\n",
       "<style scoped>\n",
       "    .dataframe tbody tr th:only-of-type {\n",
       "        vertical-align: middle;\n",
       "    }\n",
       "\n",
       "    .dataframe tbody tr th {\n",
       "        vertical-align: top;\n",
       "    }\n",
       "\n",
       "    .dataframe thead th {\n",
       "        text-align: right;\n",
       "    }\n",
       "</style>\n",
       "<table border=\"1\" class=\"dataframe\">\n",
       "  <thead>\n",
       "    <tr style=\"text-align: right;\">\n",
       "      <th></th>\n",
       "      <th>Colorado</th>\n",
       "      <th>Texas</th>\n",
       "      <th>New York</th>\n",
       "      <th>Ohio</th>\n",
       "    </tr>\n",
       "  </thead>\n",
       "  <tbody>\n",
       "    <tr>\n",
       "      <th>2000-12-31</th>\n",
       "      <td>0.062823</td>\n",
       "      <td>-0.638964</td>\n",
       "      <td>-0.032293</td>\n",
       "      <td>-0.573094</td>\n",
       "    </tr>\n",
       "    <tr>\n",
       "      <th>2001-03-31</th>\n",
       "      <td>0.062823</td>\n",
       "      <td>-0.638964</td>\n",
       "      <td>-0.032293</td>\n",
       "      <td>-0.573094</td>\n",
       "    </tr>\n",
       "    <tr>\n",
       "      <th>2001-06-30</th>\n",
       "      <td>0.062823</td>\n",
       "      <td>-0.638964</td>\n",
       "      <td>-0.032293</td>\n",
       "      <td>-0.573094</td>\n",
       "    </tr>\n",
       "    <tr>\n",
       "      <th>2001-09-30</th>\n",
       "      <td>0.062823</td>\n",
       "      <td>-0.638964</td>\n",
       "      <td>-0.032293</td>\n",
       "      <td>-0.573094</td>\n",
       "    </tr>\n",
       "    <tr>\n",
       "      <th>2001-12-31</th>\n",
       "      <td>0.011133</td>\n",
       "      <td>0.516669</td>\n",
       "      <td>0.029981</td>\n",
       "      <td>-0.341042</td>\n",
       "    </tr>\n",
       "  </tbody>\n",
       "</table>\n",
       "</div>"
      ],
      "text/plain": [
       "            Colorado     Texas  New York      Ohio\n",
       "2000-12-31  0.062823 -0.638964 -0.032293 -0.573094\n",
       "2001-03-31  0.062823 -0.638964 -0.032293 -0.573094\n",
       "2001-06-30  0.062823 -0.638964 -0.032293 -0.573094\n",
       "2001-09-30  0.062823 -0.638964 -0.032293 -0.573094\n",
       "2001-12-31  0.011133  0.516669  0.029981 -0.341042"
      ]
     },
     "execution_count": 23,
     "metadata": {},
     "output_type": "execute_result"
    }
   ],
   "source": [
    "annual_frame.resample('Q-MAR').ffill()"
   ]
  },
  {
   "cell_type": "markdown",
   "id": "f36b8b97",
   "metadata": {},
   "source": [
    "## Moving Window Functions"
   ]
  },
  {
   "cell_type": "markdown",
   "id": "1b9fd4ef",
   "metadata": {},
   "source": [
    "An important array transformation used for time series operations are functions evaluated over a sliding window or with exponentially decaying weights.\n",
    "\n",
    "This can be useful for smoothing noisy or gappy data.\n",
    "\n",
    "First, loading a time series data to a business day frequency."
   ]
  },
  {
   "cell_type": "code",
   "execution_count": 24,
   "id": "f94aeac1",
   "metadata": {},
   "outputs": [],
   "source": [
    "close_px_all = pd.read_csv('examples/stock_px_2.csv',\n",
    "                           parse_dates=True,\n",
    "                           index_col=0)\n",
    "close_px = close_px_all[['AAPL', 'MSFT', 'XOM']]\n",
    "close_px = close_px.resample('B').ffill()"
   ]
  },
  {
   "cell_type": "markdown",
   "id": "b1a05fc4",
   "metadata": {},
   "source": [
    "Now introducing the rolling operator which behaves similarly to resample and groupby. It can be called on a pandas data structure along with a window;"
   ]
  },
  {
   "cell_type": "code",
   "execution_count": 25,
   "id": "1142b760",
   "metadata": {},
   "outputs": [
    {
     "data": {
      "text/plain": [
       "<AxesSubplot:>"
      ]
     },
     "execution_count": 25,
     "metadata": {},
     "output_type": "execute_result"
    },
    {
     "data": {
      "image/png": "[encoded data removed]",
      "text/plain": [
       "<Figure size 432x288 with 1 Axes>"
      ]
     },
     "metadata": {
      "needs_background": "light"
     },
     "output_type": "display_data"
    }
   ],
   "source": [
    "%matplotlib inline\n",
    "close_px.AAPL.plot()\n",
    "close_px.AAPL.rolling(250).mean().plot()"
   ]
  },
  {
   "cell_type": "markdown",
   "id": "9d67444c",
   "metadata": {},
   "source": [
    "rolling() is similar to groupby, it creates an object that enables rolling over a 250-day sliding window.\n",
    "\n",
    "It can also account for missing data;"
   ]
  },
  {
   "cell_type": "code",
   "execution_count": 26,
   "id": "38c16fa5",
   "metadata": {},
   "outputs": [
    {
     "data": {
      "text/plain": [
       "2003-01-09         NaN\n",
       "2003-01-10         NaN\n",
       "2003-01-13         NaN\n",
       "2003-01-14         NaN\n",
       "2003-01-15    0.077496\n",
       "2003-01-16    0.074760\n",
       "2003-01-17    0.112368\n",
       "Freq: B, Name: AAPL, dtype: float64"
      ]
     },
     "execution_count": 26,
     "metadata": {},
     "output_type": "execute_result"
    }
   ],
   "source": [
    "appl_std250 = close_px.AAPL.rolling(250, min_periods=10).std()\n",
    "appl_std250[5:12]"
   ]
  },
  {
   "cell_type": "code",
   "execution_count": 27,
   "id": "deadc269",
   "metadata": {},
   "outputs": [
    {
     "data": {
      "text/plain": [
       "<AxesSubplot:>"
      ]
     },
     "execution_count": 27,
     "metadata": {},
     "output_type": "execute_result"
    },
    {
     "data": {
      "image/png": "[encoded data removed]",
      "text/plain": [
       "<Figure size 432x288 with 1 Axes>"
      ]
     },
     "metadata": {
      "needs_background": "light"
     },
     "output_type": "display_data"
    }
   ],
   "source": [
    "appl_std250.plot()"
   ]
  },
  {
   "cell_type": "markdown",
   "id": "d5c5aec5",
   "metadata": {},
   "source": [
    "In order to compute an expanding window mean we use the 'expanding' operator."
   ]
  },
  {
   "cell_type": "code",
   "execution_count": 29,
   "id": "3b7553b4",
   "metadata": {},
   "outputs": [
    {
     "data": {
      "text/plain": [
       "<AxesSubplot:>"
      ]
     },
     "execution_count": 29,
     "metadata": {},
     "output_type": "execute_result"
    },
    {
     "data": {
      "image/png": "[encoded data removed]",
      "text/plain": [
       "<Figure size 432x288 with 1 Axes>"
      ]
     },
     "metadata": {
      "needs_background": "light"
     },
     "output_type": "display_data"
    }
   ],
   "source": [
    "expanding_mean = appl_std250.expanding().mean()\n",
    "close_px.rolling(60).mean().plot(logy=True)"
   ]
  },
  {
   "cell_type": "markdown",
   "id": "a95ac026",
   "metadata": {},
   "source": [
    "We can compute a 20-day rolling mean like this;"
   ]
  },
  {
   "cell_type": "code",
   "execution_count": 30,
   "id": "4fcc4230",
   "metadata": {},
   "outputs": [
    {
     "data": {
      "text/html": [
       "<div>\n",
       "<style scoped>\n",
       "    .dataframe tbody tr th:only-of-type {\n",
       "        vertical-align: middle;\n",
       "    }\n",
       "\n",
       "    .dataframe tbody tr th {\n",
       "        vertical-align: top;\n",
       "    }\n",
       "\n",
       "    .dataframe thead th {\n",
       "        text-align: right;\n",
       "    }\n",
       "</style>\n",
       "<table border=\"1\" class=\"dataframe\">\n",
       "  <thead>\n",
       "    <tr style=\"text-align: right;\">\n",
       "      <th></th>\n",
       "      <th>AAPL</th>\n",
       "      <th>MSFT</th>\n",
       "      <th>XOM</th>\n",
       "    </tr>\n",
       "  </thead>\n",
       "  <tbody>\n",
       "    <tr>\n",
       "      <th>2003-01-02</th>\n",
       "      <td>7.400000</td>\n",
       "      <td>21.110000</td>\n",
       "      <td>29.220000</td>\n",
       "    </tr>\n",
       "    <tr>\n",
       "      <th>2003-01-03</th>\n",
       "      <td>7.425000</td>\n",
       "      <td>21.125000</td>\n",
       "      <td>29.230000</td>\n",
       "    </tr>\n",
       "    <tr>\n",
       "      <th>2003-01-06</th>\n",
       "      <td>7.433333</td>\n",
       "      <td>21.256667</td>\n",
       "      <td>29.473333</td>\n",
       "    </tr>\n",
       "    <tr>\n",
       "      <th>2003-01-07</th>\n",
       "      <td>7.432500</td>\n",
       "      <td>21.425000</td>\n",
       "      <td>29.342500</td>\n",
       "    </tr>\n",
       "    <tr>\n",
       "      <th>2003-01-08</th>\n",
       "      <td>7.402000</td>\n",
       "      <td>21.402000</td>\n",
       "      <td>29.240000</td>\n",
       "    </tr>\n",
       "    <tr>\n",
       "      <th>...</th>\n",
       "      <td>...</td>\n",
       "      <td>...</td>\n",
       "      <td>...</td>\n",
       "    </tr>\n",
       "    <tr>\n",
       "      <th>2011-10-10</th>\n",
       "      <td>389.351429</td>\n",
       "      <td>25.602143</td>\n",
       "      <td>72.527857</td>\n",
       "    </tr>\n",
       "    <tr>\n",
       "      <th>2011-10-11</th>\n",
       "      <td>388.505000</td>\n",
       "      <td>25.674286</td>\n",
       "      <td>72.835000</td>\n",
       "    </tr>\n",
       "    <tr>\n",
       "      <th>2011-10-12</th>\n",
       "      <td>388.531429</td>\n",
       "      <td>25.810000</td>\n",
       "      <td>73.400714</td>\n",
       "    </tr>\n",
       "    <tr>\n",
       "      <th>2011-10-13</th>\n",
       "      <td>388.826429</td>\n",
       "      <td>25.961429</td>\n",
       "      <td>73.905000</td>\n",
       "    </tr>\n",
       "    <tr>\n",
       "      <th>2011-10-14</th>\n",
       "      <td>391.038000</td>\n",
       "      <td>26.048667</td>\n",
       "      <td>74.185333</td>\n",
       "    </tr>\n",
       "  </tbody>\n",
       "</table>\n",
       "<p>2292 rows × 3 columns</p>\n",
       "</div>"
      ],
      "text/plain": [
       "                  AAPL       MSFT        XOM\n",
       "2003-01-02    7.400000  21.110000  29.220000\n",
       "2003-01-03    7.425000  21.125000  29.230000\n",
       "2003-01-06    7.433333  21.256667  29.473333\n",
       "2003-01-07    7.432500  21.425000  29.342500\n",
       "2003-01-08    7.402000  21.402000  29.240000\n",
       "...                ...        ...        ...\n",
       "2011-10-10  389.351429  25.602143  72.527857\n",
       "2011-10-11  388.505000  25.674286  72.835000\n",
       "2011-10-12  388.531429  25.810000  73.400714\n",
       "2011-10-13  388.826429  25.961429  73.905000\n",
       "2011-10-14  391.038000  26.048667  74.185333\n",
       "\n",
       "[2292 rows x 3 columns]"
      ]
     },
     "execution_count": 30,
     "metadata": {},
     "output_type": "execute_result"
    }
   ],
   "source": [
    "close_px.rolling('20D').mean()"
   ]
  },
  {
   "cell_type": "markdown",
   "id": "94efb994",
   "metadata": {},
   "source": [
    "### Exponentially weighted functions"
   ]
  },
  {
   "cell_type": "markdown",
   "id": "c3a4cdfa",
   "metadata": {},
   "source": [
    "An alternative to using a static window size with equally weighted observations is to specify a constant decay factor to give more weight to more recent observations. We can use 'span' for this;"
   ]
  },
  {
   "cell_type": "code",
   "execution_count": 32,
   "id": "b0db6f2b",
   "metadata": {},
   "outputs": [
    {
     "data": {
      "text/plain": [
       "<matplotlib.legend.Legend at 0x296479b1e80>"
      ]
     },
     "execution_count": 32,
     "metadata": {},
     "output_type": "execute_result"
    },
    {
     "data": {
      "image/png": "[encoded data removed]",
      "text/plain": [
       "<Figure size 432x288 with 1 Axes>"
      ]
     },
     "metadata": {
      "needs_background": "light"
     },
     "output_type": "display_data"
    }
   ],
   "source": [
    "appl_px = close_px.AAPL['2006':'2007']\n",
    "ma60 = appl_px.rolling(30, min_periods=20).mean()\n",
    "ewma60 = appl_px.ewm(span=30).mean()\n",
    "ma60.plot(style='k--', label='Simple MA')\n",
    "ewma60.plot(style='k-', label='EW MA')\n",
    "import matplotlib.pyplot as plt\n",
    "plt.legend()"
   ]
  },
  {
   "cell_type": "markdown",
   "id": "14c25f7a",
   "metadata": {},
   "source": [
    "### Binary moving window functions"
   ]
  },
  {
   "cell_type": "markdown",
   "id": "47ca8bca",
   "metadata": {},
   "source": [
    "Sometimes we may need to operate on two time series."
   ]
  },
  {
   "cell_type": "code",
   "execution_count": 33,
   "id": "2ff15f43",
   "metadata": {},
   "outputs": [],
   "source": [
    "spx_px = close_px_all['SPX']\n",
    "spx_rets = spx_px.pct_change()\n",
    "returns = close_px.pct_change()"
   ]
  },
  {
   "cell_type": "markdown",
   "id": "0d7bd2de",
   "metadata": {},
   "source": [
    "The 'corr' computes the rolling correlation with spx_rets;"
   ]
  },
  {
   "cell_type": "code",
   "execution_count": 34,
   "id": "7e176f97",
   "metadata": {},
   "outputs": [
    {
     "data": {
      "text/plain": [
       "<AxesSubplot:>"
      ]
     },
     "execution_count": 34,
     "metadata": {},
     "output_type": "execute_result"
    },
    {
     "data": {
      "image/png": "[encoded data removed]",
      "text/plain": [
       "<Figure size 432x288 with 1 Axes>"
      ]
     },
     "metadata": {
      "needs_background": "light"
     },
     "output_type": "display_data"
    }
   ],
   "source": [
    "corr = returns.AAPL.rolling(125, min_periods=100).corr(spx_rets)\n",
    "corr.plot()"
   ]
  },
  {
   "cell_type": "markdown",
   "id": "b0187d41",
   "metadata": {},
   "source": [
    "Suppose we want to compute the correlation of the S&P 500 index with many stocks at once;"
   ]
  },
  {
   "cell_type": "code",
   "execution_count": 35,
   "id": "2ce10e01",
   "metadata": {},
   "outputs": [
    {
     "data": {
      "text/plain": [
       "<AxesSubplot:>"
      ]
     },
     "execution_count": 35,
     "metadata": {},
     "output_type": "execute_result"
    },
    {
     "data": {
      "image/png": "[encoded data removed]",
      "text/plain": [
       "<Figure size 432x288 with 1 Axes>"
      ]
     },
     "metadata": {
      "needs_background": "light"
     },
     "output_type": "display_data"
    }
   ],
   "source": [
    "corr = returns.rolling(125, min_periods=100).corr(spx_rets)\n",
    "corr.plot()"
   ]
  },
  {
   "cell_type": "markdown",
   "id": "334b43bf",
   "metadata": {},
   "source": [
    "### User-defind moving window functions"
   ]
  },
  {
   "cell_type": "code",
   "execution_count": 37,
   "id": "d931b808",
   "metadata": {},
   "outputs": [
    {
     "data": {
      "text/plain": [
       "<AxesSubplot:>"
      ]
     },
     "execution_count": 37,
     "metadata": {},
     "output_type": "execute_result"
    },
    {
     "data": {
      "image/png": "[encoded data removed]",
      "text/plain": [
       "<Figure size 432x288 with 1 Axes>"
      ]
     },
     "metadata": {
      "needs_background": "light"
     },
     "output_type": "display_data"
    }
   ],
   "source": [
    "from scipy.stats import percentileofscore\n",
    "score_at_2percent = lambda x: percentileofscore(x, 0.02)\n",
    "result = returns.AAPL.rolling(250).apply(score_at_2percent)\n",
    "result.plot()"
   ]
  }
 ],
 "metadata": {
  "kernelspec": {
   "display_name": "Python 3 (ipykernel)",
   "language": "python",
   "name": "python3"
  },
  "language_info": {
   "codemirror_mode": {
    "name": "ipython",
    "version": 3
   },
   "file_extension": ".py",
   "mimetype": "text/x-python",
   "name": "python",
   "nbconvert_exporter": "python",
   "pygments_lexer": "ipython3",
   "version": "3.9.7"
  }
 },
 "nbformat": 4,
 "nbformat_minor": 5
}
