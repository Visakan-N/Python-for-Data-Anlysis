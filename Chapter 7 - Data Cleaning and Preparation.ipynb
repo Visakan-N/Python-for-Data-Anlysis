{
 "cells": [
  {
   "cell_type": "markdown",
   "id": "34beb409",
   "metadata": {},
   "source": [
    "## Handling missing data\n",
    "In pandas, numeric missing data is represented as NaN (Not a Number)"
   ]
  },
  {
   "cell_type": "code",
   "execution_count": 1,
   "id": "660a41ab",
   "metadata": {},
   "outputs": [
    {
     "data": {
      "text/plain": [
       "0     aardvark\n",
       "1    artichoke\n",
       "2          NaN\n",
       "3      avacado\n",
       "dtype: object"
      ]
     },
     "execution_count": 1,
     "metadata": {},
     "output_type": "execute_result"
    }
   ],
   "source": [
    "import pandas as pd\n",
    "import numpy as np\n",
    "string_data = pd.Series(['aardvark', 'artichoke', np.nan, 'avacado'])\n",
    "string_data"
   ]
  },
  {
   "cell_type": "code",
   "execution_count": 2,
   "id": "5e4d0342",
   "metadata": {},
   "outputs": [
    {
     "data": {
      "text/plain": [
       "0    False\n",
       "1    False\n",
       "2     True\n",
       "3    False\n",
       "dtype: bool"
      ]
     },
     "execution_count": 2,
     "metadata": {},
     "output_type": "execute_result"
    }
   ],
   "source": [
    "string_data.isnull()"
   ]
  },
  {
   "cell_type": "code",
   "execution_count": 3,
   "id": "d8d870f2",
   "metadata": {},
   "outputs": [
    {
     "data": {
      "text/plain": [
       "0     True\n",
       "1    False\n",
       "2     True\n",
       "3    False\n",
       "dtype: bool"
      ]
     },
     "execution_count": 3,
     "metadata": {},
     "output_type": "execute_result"
    }
   ],
   "source": [
    "# None can also be treated as a NA in arrays\n",
    "string_data[0] = None\n",
    "string_data.isnull()"
   ]
  },
  {
   "cell_type": "markdown",
   "id": "1c897e33",
   "metadata": {},
   "source": [
    "### Filtering out Missing Data"
   ]
  },
  {
   "cell_type": "code",
   "execution_count": 4,
   "id": "7321bdf8",
   "metadata": {},
   "outputs": [
    {
     "data": {
      "text/plain": [
       "0    1.0\n",
       "2    3.5\n",
       "4    7.0\n",
       "dtype: float64"
      ]
     },
     "execution_count": 4,
     "metadata": {},
     "output_type": "execute_result"
    }
   ],
   "source": [
    "# dropna - it is used to drop alll the null values and display the object\n",
    "from numpy import nan as NA\n",
    "data = pd.Series([1, NA, 3.5, NA, 7])\n",
    "data.dropna()"
   ]
  },
  {
   "cell_type": "code",
   "execution_count": 5,
   "id": "0b227a30",
   "metadata": {},
   "outputs": [
    {
     "data": {
      "text/plain": [
       "0    1.0\n",
       "2    3.5\n",
       "4    7.0\n",
       "dtype: float64"
      ]
     },
     "execution_count": 5,
     "metadata": {},
     "output_type": "execute_result"
    }
   ],
   "source": [
    "data[data.notnull()] # serves the same function as dropna"
   ]
  },
  {
   "cell_type": "code",
   "execution_count": 6,
   "id": "038b8b34",
   "metadata": {},
   "outputs": [
    {
     "data": {
      "text/html": [
       "<div>\n",
       "<style scoped>\n",
       "    .dataframe tbody tr th:only-of-type {\n",
       "        vertical-align: middle;\n",
       "    }\n",
       "\n",
       "    .dataframe tbody tr th {\n",
       "        vertical-align: top;\n",
       "    }\n",
       "\n",
       "    .dataframe thead th {\n",
       "        text-align: right;\n",
       "    }\n",
       "</style>\n",
       "<table border=\"1\" class=\"dataframe\">\n",
       "  <thead>\n",
       "    <tr style=\"text-align: right;\">\n",
       "      <th></th>\n",
       "      <th>0</th>\n",
       "      <th>1</th>\n",
       "      <th>2</th>\n",
       "    </tr>\n",
       "  </thead>\n",
       "  <tbody>\n",
       "    <tr>\n",
       "      <th>0</th>\n",
       "      <td>1.0</td>\n",
       "      <td>6.5</td>\n",
       "      <td>3.0</td>\n",
       "    </tr>\n",
       "    <tr>\n",
       "      <th>1</th>\n",
       "      <td>1.0</td>\n",
       "      <td>NaN</td>\n",
       "      <td>NaN</td>\n",
       "    </tr>\n",
       "    <tr>\n",
       "      <th>2</th>\n",
       "      <td>NaN</td>\n",
       "      <td>NaN</td>\n",
       "      <td>NaN</td>\n",
       "    </tr>\n",
       "    <tr>\n",
       "      <th>3</th>\n",
       "      <td>NaN</td>\n",
       "      <td>6.5</td>\n",
       "      <td>3.0</td>\n",
       "    </tr>\n",
       "  </tbody>\n",
       "</table>\n",
       "</div>"
      ],
      "text/plain": [
       "     0    1    2\n",
       "0  1.0  6.5  3.0\n",
       "1  1.0  NaN  NaN\n",
       "2  NaN  NaN  NaN\n",
       "3  NaN  6.5  3.0"
      ]
     },
     "execution_count": 6,
     "metadata": {},
     "output_type": "execute_result"
    }
   ],
   "source": [
    "# for dataframe objects, dropna will drop any row containing a missing value\n",
    "data = pd.DataFrame([[1, 6.5, 3], [1, NA, NA], [NA, NA, NA], [NA, 6.5, 3]])\n",
    "data"
   ]
  },
  {
   "cell_type": "code",
   "execution_count": 7,
   "id": "3dc54a11",
   "metadata": {},
   "outputs": [
    {
     "data": {
      "text/html": [
       "<div>\n",
       "<style scoped>\n",
       "    .dataframe tbody tr th:only-of-type {\n",
       "        vertical-align: middle;\n",
       "    }\n",
       "\n",
       "    .dataframe tbody tr th {\n",
       "        vertical-align: top;\n",
       "    }\n",
       "\n",
       "    .dataframe thead th {\n",
       "        text-align: right;\n",
       "    }\n",
       "</style>\n",
       "<table border=\"1\" class=\"dataframe\">\n",
       "  <thead>\n",
       "    <tr style=\"text-align: right;\">\n",
       "      <th></th>\n",
       "      <th>0</th>\n",
       "      <th>1</th>\n",
       "      <th>2</th>\n",
       "    </tr>\n",
       "  </thead>\n",
       "  <tbody>\n",
       "    <tr>\n",
       "      <th>0</th>\n",
       "      <td>1.0</td>\n",
       "      <td>6.5</td>\n",
       "      <td>3.0</td>\n",
       "    </tr>\n",
       "  </tbody>\n",
       "</table>\n",
       "</div>"
      ],
      "text/plain": [
       "     0    1    2\n",
       "0  1.0  6.5  3.0"
      ]
     },
     "execution_count": 7,
     "metadata": {},
     "output_type": "execute_result"
    }
   ],
   "source": [
    "cleaned = data.dropna()\n",
    "cleaned"
   ]
  },
  {
   "cell_type": "code",
   "execution_count": 8,
   "id": "e89ca403",
   "metadata": {},
   "outputs": [
    {
     "data": {
      "text/html": [
       "<div>\n",
       "<style scoped>\n",
       "    .dataframe tbody tr th:only-of-type {\n",
       "        vertical-align: middle;\n",
       "    }\n",
       "\n",
       "    .dataframe tbody tr th {\n",
       "        vertical-align: top;\n",
       "    }\n",
       "\n",
       "    .dataframe thead th {\n",
       "        text-align: right;\n",
       "    }\n",
       "</style>\n",
       "<table border=\"1\" class=\"dataframe\">\n",
       "  <thead>\n",
       "    <tr style=\"text-align: right;\">\n",
       "      <th></th>\n",
       "      <th>0</th>\n",
       "      <th>1</th>\n",
       "      <th>2</th>\n",
       "    </tr>\n",
       "  </thead>\n",
       "  <tbody>\n",
       "    <tr>\n",
       "      <th>0</th>\n",
       "      <td>1.0</td>\n",
       "      <td>6.5</td>\n",
       "      <td>3.0</td>\n",
       "    </tr>\n",
       "    <tr>\n",
       "      <th>1</th>\n",
       "      <td>1.0</td>\n",
       "      <td>NaN</td>\n",
       "      <td>NaN</td>\n",
       "    </tr>\n",
       "    <tr>\n",
       "      <th>3</th>\n",
       "      <td>NaN</td>\n",
       "      <td>6.5</td>\n",
       "      <td>3.0</td>\n",
       "    </tr>\n",
       "  </tbody>\n",
       "</table>\n",
       "</div>"
      ],
      "text/plain": [
       "     0    1    2\n",
       "0  1.0  6.5  3.0\n",
       "1  1.0  NaN  NaN\n",
       "3  NaN  6.5  3.0"
      ]
     },
     "execution_count": 8,
     "metadata": {},
     "output_type": "execute_result"
    }
   ],
   "source": [
    "data.dropna(how='all') # how = 'all' will only drop rows whose every element is NA"
   ]
  },
  {
   "cell_type": "code",
   "execution_count": 9,
   "id": "0c16dc95",
   "metadata": {},
   "outputs": [
    {
     "data": {
      "text/html": [
       "<div>\n",
       "<style scoped>\n",
       "    .dataframe tbody tr th:only-of-type {\n",
       "        vertical-align: middle;\n",
       "    }\n",
       "\n",
       "    .dataframe tbody tr th {\n",
       "        vertical-align: top;\n",
       "    }\n",
       "\n",
       "    .dataframe thead th {\n",
       "        text-align: right;\n",
       "    }\n",
       "</style>\n",
       "<table border=\"1\" class=\"dataframe\">\n",
       "  <thead>\n",
       "    <tr style=\"text-align: right;\">\n",
       "      <th></th>\n",
       "      <th>0</th>\n",
       "      <th>1</th>\n",
       "      <th>2</th>\n",
       "      <th>4</th>\n",
       "    </tr>\n",
       "  </thead>\n",
       "  <tbody>\n",
       "    <tr>\n",
       "      <th>0</th>\n",
       "      <td>1.0</td>\n",
       "      <td>6.5</td>\n",
       "      <td>3.0</td>\n",
       "      <td>NaN</td>\n",
       "    </tr>\n",
       "    <tr>\n",
       "      <th>1</th>\n",
       "      <td>1.0</td>\n",
       "      <td>NaN</td>\n",
       "      <td>NaN</td>\n",
       "      <td>NaN</td>\n",
       "    </tr>\n",
       "    <tr>\n",
       "      <th>2</th>\n",
       "      <td>NaN</td>\n",
       "      <td>NaN</td>\n",
       "      <td>NaN</td>\n",
       "      <td>NaN</td>\n",
       "    </tr>\n",
       "    <tr>\n",
       "      <th>3</th>\n",
       "      <td>NaN</td>\n",
       "      <td>6.5</td>\n",
       "      <td>3.0</td>\n",
       "      <td>NaN</td>\n",
       "    </tr>\n",
       "  </tbody>\n",
       "</table>\n",
       "</div>"
      ],
      "text/plain": [
       "     0    1    2   4\n",
       "0  1.0  6.5  3.0 NaN\n",
       "1  1.0  NaN  NaN NaN\n",
       "2  NaN  NaN  NaN NaN\n",
       "3  NaN  6.5  3.0 NaN"
      ]
     },
     "execution_count": 9,
     "metadata": {},
     "output_type": "execute_result"
    }
   ],
   "source": [
    "data[4] = NA\n",
    "data"
   ]
  },
  {
   "cell_type": "code",
   "execution_count": 10,
   "id": "f9990f31",
   "metadata": {},
   "outputs": [
    {
     "data": {
      "text/html": [
       "<div>\n",
       "<style scoped>\n",
       "    .dataframe tbody tr th:only-of-type {\n",
       "        vertical-align: middle;\n",
       "    }\n",
       "\n",
       "    .dataframe tbody tr th {\n",
       "        vertical-align: top;\n",
       "    }\n",
       "\n",
       "    .dataframe thead th {\n",
       "        text-align: right;\n",
       "    }\n",
       "</style>\n",
       "<table border=\"1\" class=\"dataframe\">\n",
       "  <thead>\n",
       "    <tr style=\"text-align: right;\">\n",
       "      <th></th>\n",
       "      <th>0</th>\n",
       "      <th>1</th>\n",
       "      <th>2</th>\n",
       "    </tr>\n",
       "  </thead>\n",
       "  <tbody>\n",
       "    <tr>\n",
       "      <th>0</th>\n",
       "      <td>1.0</td>\n",
       "      <td>6.5</td>\n",
       "      <td>3.0</td>\n",
       "    </tr>\n",
       "    <tr>\n",
       "      <th>1</th>\n",
       "      <td>1.0</td>\n",
       "      <td>NaN</td>\n",
       "      <td>NaN</td>\n",
       "    </tr>\n",
       "    <tr>\n",
       "      <th>2</th>\n",
       "      <td>NaN</td>\n",
       "      <td>NaN</td>\n",
       "      <td>NaN</td>\n",
       "    </tr>\n",
       "    <tr>\n",
       "      <th>3</th>\n",
       "      <td>NaN</td>\n",
       "      <td>6.5</td>\n",
       "      <td>3.0</td>\n",
       "    </tr>\n",
       "  </tbody>\n",
       "</table>\n",
       "</div>"
      ],
      "text/plain": [
       "     0    1    2\n",
       "0  1.0  6.5  3.0\n",
       "1  1.0  NaN  NaN\n",
       "2  NaN  NaN  NaN\n",
       "3  NaN  6.5  3.0"
      ]
     },
     "execution_count": 10,
     "metadata": {},
     "output_type": "execute_result"
    }
   ],
   "source": [
    "data.dropna(axis=1, how='all')"
   ]
  },
  {
   "cell_type": "code",
   "execution_count": 11,
   "id": "17ab07ea",
   "metadata": {},
   "outputs": [
    {
     "data": {
      "text/html": [
       "<div>\n",
       "<style scoped>\n",
       "    .dataframe tbody tr th:only-of-type {\n",
       "        vertical-align: middle;\n",
       "    }\n",
       "\n",
       "    .dataframe tbody tr th {\n",
       "        vertical-align: top;\n",
       "    }\n",
       "\n",
       "    .dataframe thead th {\n",
       "        text-align: right;\n",
       "    }\n",
       "</style>\n",
       "<table border=\"1\" class=\"dataframe\">\n",
       "  <thead>\n",
       "    <tr style=\"text-align: right;\">\n",
       "      <th></th>\n",
       "      <th>0</th>\n",
       "      <th>1</th>\n",
       "      <th>2</th>\n",
       "    </tr>\n",
       "  </thead>\n",
       "  <tbody>\n",
       "    <tr>\n",
       "      <th>0</th>\n",
       "      <td>-1.727508</td>\n",
       "      <td>NaN</td>\n",
       "      <td>NaN</td>\n",
       "    </tr>\n",
       "    <tr>\n",
       "      <th>1</th>\n",
       "      <td>0.063395</td>\n",
       "      <td>NaN</td>\n",
       "      <td>NaN</td>\n",
       "    </tr>\n",
       "    <tr>\n",
       "      <th>2</th>\n",
       "      <td>2.526922</td>\n",
       "      <td>NaN</td>\n",
       "      <td>-2.332185</td>\n",
       "    </tr>\n",
       "    <tr>\n",
       "      <th>3</th>\n",
       "      <td>-0.935387</td>\n",
       "      <td>NaN</td>\n",
       "      <td>0.206300</td>\n",
       "    </tr>\n",
       "    <tr>\n",
       "      <th>4</th>\n",
       "      <td>0.712653</td>\n",
       "      <td>2.698065</td>\n",
       "      <td>-0.042603</td>\n",
       "    </tr>\n",
       "    <tr>\n",
       "      <th>5</th>\n",
       "      <td>-0.037107</td>\n",
       "      <td>-0.726611</td>\n",
       "      <td>-0.448607</td>\n",
       "    </tr>\n",
       "    <tr>\n",
       "      <th>6</th>\n",
       "      <td>-1.312564</td>\n",
       "      <td>0.079274</td>\n",
       "      <td>-0.756321</td>\n",
       "    </tr>\n",
       "  </tbody>\n",
       "</table>\n",
       "</div>"
      ],
      "text/plain": [
       "          0         1         2\n",
       "0 -1.727508       NaN       NaN\n",
       "1  0.063395       NaN       NaN\n",
       "2  2.526922       NaN -2.332185\n",
       "3 -0.935387       NaN  0.206300\n",
       "4  0.712653  2.698065 -0.042603\n",
       "5 -0.037107 -0.726611 -0.448607\n",
       "6 -1.312564  0.079274 -0.756321"
      ]
     },
     "execution_count": 11,
     "metadata": {},
     "output_type": "execute_result"
    }
   ],
   "source": [
    "df = pd.DataFrame(np.random.randn(7, 3))\n",
    "df.iloc[:4, 1] = NA\n",
    "df.iloc[:2, 2] = NA\n",
    "df"
   ]
  },
  {
   "cell_type": "code",
   "execution_count": 12,
   "id": "a8e3b886",
   "metadata": {},
   "outputs": [
    {
     "data": {
      "text/html": [
       "<div>\n",
       "<style scoped>\n",
       "    .dataframe tbody tr th:only-of-type {\n",
       "        vertical-align: middle;\n",
       "    }\n",
       "\n",
       "    .dataframe tbody tr th {\n",
       "        vertical-align: top;\n",
       "    }\n",
       "\n",
       "    .dataframe thead th {\n",
       "        text-align: right;\n",
       "    }\n",
       "</style>\n",
       "<table border=\"1\" class=\"dataframe\">\n",
       "  <thead>\n",
       "    <tr style=\"text-align: right;\">\n",
       "      <th></th>\n",
       "      <th>0</th>\n",
       "      <th>1</th>\n",
       "      <th>2</th>\n",
       "    </tr>\n",
       "  </thead>\n",
       "  <tbody>\n",
       "    <tr>\n",
       "      <th>4</th>\n",
       "      <td>0.712653</td>\n",
       "      <td>2.698065</td>\n",
       "      <td>-0.042603</td>\n",
       "    </tr>\n",
       "    <tr>\n",
       "      <th>5</th>\n",
       "      <td>-0.037107</td>\n",
       "      <td>-0.726611</td>\n",
       "      <td>-0.448607</td>\n",
       "    </tr>\n",
       "    <tr>\n",
       "      <th>6</th>\n",
       "      <td>-1.312564</td>\n",
       "      <td>0.079274</td>\n",
       "      <td>-0.756321</td>\n",
       "    </tr>\n",
       "  </tbody>\n",
       "</table>\n",
       "</div>"
      ],
      "text/plain": [
       "          0         1         2\n",
       "4  0.712653  2.698065 -0.042603\n",
       "5 -0.037107 -0.726611 -0.448607\n",
       "6 -1.312564  0.079274 -0.756321"
      ]
     },
     "execution_count": 12,
     "metadata": {},
     "output_type": "execute_result"
    }
   ],
   "source": [
    "df.dropna()"
   ]
  },
  {
   "cell_type": "code",
   "execution_count": 13,
   "id": "96be7b46",
   "metadata": {},
   "outputs": [
    {
     "data": {
      "text/html": [
       "<div>\n",
       "<style scoped>\n",
       "    .dataframe tbody tr th:only-of-type {\n",
       "        vertical-align: middle;\n",
       "    }\n",
       "\n",
       "    .dataframe tbody tr th {\n",
       "        vertical-align: top;\n",
       "    }\n",
       "\n",
       "    .dataframe thead th {\n",
       "        text-align: right;\n",
       "    }\n",
       "</style>\n",
       "<table border=\"1\" class=\"dataframe\">\n",
       "  <thead>\n",
       "    <tr style=\"text-align: right;\">\n",
       "      <th></th>\n",
       "      <th>0</th>\n",
       "      <th>1</th>\n",
       "      <th>2</th>\n",
       "    </tr>\n",
       "  </thead>\n",
       "  <tbody>\n",
       "    <tr>\n",
       "      <th>2</th>\n",
       "      <td>2.526922</td>\n",
       "      <td>NaN</td>\n",
       "      <td>-2.332185</td>\n",
       "    </tr>\n",
       "    <tr>\n",
       "      <th>3</th>\n",
       "      <td>-0.935387</td>\n",
       "      <td>NaN</td>\n",
       "      <td>0.206300</td>\n",
       "    </tr>\n",
       "    <tr>\n",
       "      <th>4</th>\n",
       "      <td>0.712653</td>\n",
       "      <td>2.698065</td>\n",
       "      <td>-0.042603</td>\n",
       "    </tr>\n",
       "    <tr>\n",
       "      <th>5</th>\n",
       "      <td>-0.037107</td>\n",
       "      <td>-0.726611</td>\n",
       "      <td>-0.448607</td>\n",
       "    </tr>\n",
       "    <tr>\n",
       "      <th>6</th>\n",
       "      <td>-1.312564</td>\n",
       "      <td>0.079274</td>\n",
       "      <td>-0.756321</td>\n",
       "    </tr>\n",
       "  </tbody>\n",
       "</table>\n",
       "</div>"
      ],
      "text/plain": [
       "          0         1         2\n",
       "2  2.526922       NaN -2.332185\n",
       "3 -0.935387       NaN  0.206300\n",
       "4  0.712653  2.698065 -0.042603\n",
       "5 -0.037107 -0.726611 -0.448607\n",
       "6 -1.312564  0.079274 -0.756321"
      ]
     },
     "execution_count": 13,
     "metadata": {},
     "output_type": "execute_result"
    }
   ],
   "source": [
    "# thresh can be used to drop rows only containing a certain number of observations of missing values\n",
    "df.dropna(thresh = 2)"
   ]
  },
  {
   "cell_type": "markdown",
   "id": "4e803bc7",
   "metadata": {},
   "source": [
    "### Filling in Missing Values"
   ]
  },
  {
   "cell_type": "code",
   "execution_count": 14,
   "id": "b81ed52a",
   "metadata": {},
   "outputs": [
    {
     "data": {
      "text/html": [
       "<div>\n",
       "<style scoped>\n",
       "    .dataframe tbody tr th:only-of-type {\n",
       "        vertical-align: middle;\n",
       "    }\n",
       "\n",
       "    .dataframe tbody tr th {\n",
       "        vertical-align: top;\n",
       "    }\n",
       "\n",
       "    .dataframe thead th {\n",
       "        text-align: right;\n",
       "    }\n",
       "</style>\n",
       "<table border=\"1\" class=\"dataframe\">\n",
       "  <thead>\n",
       "    <tr style=\"text-align: right;\">\n",
       "      <th></th>\n",
       "      <th>0</th>\n",
       "      <th>1</th>\n",
       "      <th>2</th>\n",
       "    </tr>\n",
       "  </thead>\n",
       "  <tbody>\n",
       "    <tr>\n",
       "      <th>0</th>\n",
       "      <td>-1.727508</td>\n",
       "      <td>NaN</td>\n",
       "      <td>NaN</td>\n",
       "    </tr>\n",
       "    <tr>\n",
       "      <th>1</th>\n",
       "      <td>0.063395</td>\n",
       "      <td>NaN</td>\n",
       "      <td>NaN</td>\n",
       "    </tr>\n",
       "    <tr>\n",
       "      <th>2</th>\n",
       "      <td>2.526922</td>\n",
       "      <td>NaN</td>\n",
       "      <td>-2.332185</td>\n",
       "    </tr>\n",
       "    <tr>\n",
       "      <th>3</th>\n",
       "      <td>-0.935387</td>\n",
       "      <td>NaN</td>\n",
       "      <td>0.206300</td>\n",
       "    </tr>\n",
       "    <tr>\n",
       "      <th>4</th>\n",
       "      <td>0.712653</td>\n",
       "      <td>2.698065</td>\n",
       "      <td>-0.042603</td>\n",
       "    </tr>\n",
       "    <tr>\n",
       "      <th>5</th>\n",
       "      <td>-0.037107</td>\n",
       "      <td>-0.726611</td>\n",
       "      <td>-0.448607</td>\n",
       "    </tr>\n",
       "    <tr>\n",
       "      <th>6</th>\n",
       "      <td>-1.312564</td>\n",
       "      <td>0.079274</td>\n",
       "      <td>-0.756321</td>\n",
       "    </tr>\n",
       "  </tbody>\n",
       "</table>\n",
       "</div>"
      ],
      "text/plain": [
       "          0         1         2\n",
       "0 -1.727508       NaN       NaN\n",
       "1  0.063395       NaN       NaN\n",
       "2  2.526922       NaN -2.332185\n",
       "3 -0.935387       NaN  0.206300\n",
       "4  0.712653  2.698065 -0.042603\n",
       "5 -0.037107 -0.726611 -0.448607\n",
       "6 -1.312564  0.079274 -0.756321"
      ]
     },
     "execution_count": 14,
     "metadata": {},
     "output_type": "execute_result"
    }
   ],
   "source": [
    "# fillna - it is used to fill/replace the missing values with a specified value\n",
    "df"
   ]
  },
  {
   "cell_type": "code",
   "execution_count": 15,
   "id": "4cdc98ed",
   "metadata": {},
   "outputs": [
    {
     "data": {
      "text/html": [
       "<div>\n",
       "<style scoped>\n",
       "    .dataframe tbody tr th:only-of-type {\n",
       "        vertical-align: middle;\n",
       "    }\n",
       "\n",
       "    .dataframe tbody tr th {\n",
       "        vertical-align: top;\n",
       "    }\n",
       "\n",
       "    .dataframe thead th {\n",
       "        text-align: right;\n",
       "    }\n",
       "</style>\n",
       "<table border=\"1\" class=\"dataframe\">\n",
       "  <thead>\n",
       "    <tr style=\"text-align: right;\">\n",
       "      <th></th>\n",
       "      <th>0</th>\n",
       "      <th>1</th>\n",
       "      <th>2</th>\n",
       "    </tr>\n",
       "  </thead>\n",
       "  <tbody>\n",
       "    <tr>\n",
       "      <th>0</th>\n",
       "      <td>-1.727508</td>\n",
       "      <td>0.000000</td>\n",
       "      <td>0.000000</td>\n",
       "    </tr>\n",
       "    <tr>\n",
       "      <th>1</th>\n",
       "      <td>0.063395</td>\n",
       "      <td>0.000000</td>\n",
       "      <td>0.000000</td>\n",
       "    </tr>\n",
       "    <tr>\n",
       "      <th>2</th>\n",
       "      <td>2.526922</td>\n",
       "      <td>0.000000</td>\n",
       "      <td>-2.332185</td>\n",
       "    </tr>\n",
       "    <tr>\n",
       "      <th>3</th>\n",
       "      <td>-0.935387</td>\n",
       "      <td>0.000000</td>\n",
       "      <td>0.206300</td>\n",
       "    </tr>\n",
       "    <tr>\n",
       "      <th>4</th>\n",
       "      <td>0.712653</td>\n",
       "      <td>2.698065</td>\n",
       "      <td>-0.042603</td>\n",
       "    </tr>\n",
       "    <tr>\n",
       "      <th>5</th>\n",
       "      <td>-0.037107</td>\n",
       "      <td>-0.726611</td>\n",
       "      <td>-0.448607</td>\n",
       "    </tr>\n",
       "    <tr>\n",
       "      <th>6</th>\n",
       "      <td>-1.312564</td>\n",
       "      <td>0.079274</td>\n",
       "      <td>-0.756321</td>\n",
       "    </tr>\n",
       "  </tbody>\n",
       "</table>\n",
       "</div>"
      ],
      "text/plain": [
       "          0         1         2\n",
       "0 -1.727508  0.000000  0.000000\n",
       "1  0.063395  0.000000  0.000000\n",
       "2  2.526922  0.000000 -2.332185\n",
       "3 -0.935387  0.000000  0.206300\n",
       "4  0.712653  2.698065 -0.042603\n",
       "5 -0.037107 -0.726611 -0.448607\n",
       "6 -1.312564  0.079274 -0.756321"
      ]
     },
     "execution_count": 15,
     "metadata": {},
     "output_type": "execute_result"
    }
   ],
   "source": [
    "df.fillna(0)"
   ]
  },
  {
   "cell_type": "code",
   "execution_count": 16,
   "id": "844f60e2",
   "metadata": {},
   "outputs": [
    {
     "data": {
      "text/html": [
       "<div>\n",
       "<style scoped>\n",
       "    .dataframe tbody tr th:only-of-type {\n",
       "        vertical-align: middle;\n",
       "    }\n",
       "\n",
       "    .dataframe tbody tr th {\n",
       "        vertical-align: top;\n",
       "    }\n",
       "\n",
       "    .dataframe thead th {\n",
       "        text-align: right;\n",
       "    }\n",
       "</style>\n",
       "<table border=\"1\" class=\"dataframe\">\n",
       "  <thead>\n",
       "    <tr style=\"text-align: right;\">\n",
       "      <th></th>\n",
       "      <th>0</th>\n",
       "      <th>1</th>\n",
       "      <th>2</th>\n",
       "    </tr>\n",
       "  </thead>\n",
       "  <tbody>\n",
       "    <tr>\n",
       "      <th>0</th>\n",
       "      <td>-1.727508</td>\n",
       "      <td>0.500000</td>\n",
       "      <td>0.000000</td>\n",
       "    </tr>\n",
       "    <tr>\n",
       "      <th>1</th>\n",
       "      <td>0.063395</td>\n",
       "      <td>0.500000</td>\n",
       "      <td>0.000000</td>\n",
       "    </tr>\n",
       "    <tr>\n",
       "      <th>2</th>\n",
       "      <td>2.526922</td>\n",
       "      <td>0.500000</td>\n",
       "      <td>-2.332185</td>\n",
       "    </tr>\n",
       "    <tr>\n",
       "      <th>3</th>\n",
       "      <td>-0.935387</td>\n",
       "      <td>0.500000</td>\n",
       "      <td>0.206300</td>\n",
       "    </tr>\n",
       "    <tr>\n",
       "      <th>4</th>\n",
       "      <td>0.712653</td>\n",
       "      <td>2.698065</td>\n",
       "      <td>-0.042603</td>\n",
       "    </tr>\n",
       "    <tr>\n",
       "      <th>5</th>\n",
       "      <td>-0.037107</td>\n",
       "      <td>-0.726611</td>\n",
       "      <td>-0.448607</td>\n",
       "    </tr>\n",
       "    <tr>\n",
       "      <th>6</th>\n",
       "      <td>-1.312564</td>\n",
       "      <td>0.079274</td>\n",
       "      <td>-0.756321</td>\n",
       "    </tr>\n",
       "  </tbody>\n",
       "</table>\n",
       "</div>"
      ],
      "text/plain": [
       "          0         1         2\n",
       "0 -1.727508  0.500000  0.000000\n",
       "1  0.063395  0.500000  0.000000\n",
       "2  2.526922  0.500000 -2.332185\n",
       "3 -0.935387  0.500000  0.206300\n",
       "4  0.712653  2.698065 -0.042603\n",
       "5 -0.037107 -0.726611 -0.448607\n",
       "6 -1.312564  0.079274 -0.756321"
      ]
     },
     "execution_count": 16,
     "metadata": {},
     "output_type": "execute_result"
    }
   ],
   "source": [
    "# fillna with dict can will a different value for each column(column_index:value)\n",
    "df.fillna({1:0.5, 2:0})"
   ]
  },
  {
   "cell_type": "code",
   "execution_count": 18,
   "id": "9f5422ac",
   "metadata": {},
   "outputs": [
    {
     "data": {
      "text/html": [
       "<div>\n",
       "<style scoped>\n",
       "    .dataframe tbody tr th:only-of-type {\n",
       "        vertical-align: middle;\n",
       "    }\n",
       "\n",
       "    .dataframe tbody tr th {\n",
       "        vertical-align: top;\n",
       "    }\n",
       "\n",
       "    .dataframe thead th {\n",
       "        text-align: right;\n",
       "    }\n",
       "</style>\n",
       "<table border=\"1\" class=\"dataframe\">\n",
       "  <thead>\n",
       "    <tr style=\"text-align: right;\">\n",
       "      <th></th>\n",
       "      <th>0</th>\n",
       "      <th>1</th>\n",
       "      <th>2</th>\n",
       "    </tr>\n",
       "  </thead>\n",
       "  <tbody>\n",
       "    <tr>\n",
       "      <th>0</th>\n",
       "      <td>-1.727508</td>\n",
       "      <td>0.000000</td>\n",
       "      <td>0.000000</td>\n",
       "    </tr>\n",
       "    <tr>\n",
       "      <th>1</th>\n",
       "      <td>0.063395</td>\n",
       "      <td>0.000000</td>\n",
       "      <td>0.000000</td>\n",
       "    </tr>\n",
       "    <tr>\n",
       "      <th>2</th>\n",
       "      <td>2.526922</td>\n",
       "      <td>0.000000</td>\n",
       "      <td>-2.332185</td>\n",
       "    </tr>\n",
       "    <tr>\n",
       "      <th>3</th>\n",
       "      <td>-0.935387</td>\n",
       "      <td>0.000000</td>\n",
       "      <td>0.206300</td>\n",
       "    </tr>\n",
       "    <tr>\n",
       "      <th>4</th>\n",
       "      <td>0.712653</td>\n",
       "      <td>2.698065</td>\n",
       "      <td>-0.042603</td>\n",
       "    </tr>\n",
       "    <tr>\n",
       "      <th>5</th>\n",
       "      <td>-0.037107</td>\n",
       "      <td>-0.726611</td>\n",
       "      <td>-0.448607</td>\n",
       "    </tr>\n",
       "    <tr>\n",
       "      <th>6</th>\n",
       "      <td>-1.312564</td>\n",
       "      <td>0.079274</td>\n",
       "      <td>-0.756321</td>\n",
       "    </tr>\n",
       "  </tbody>\n",
       "</table>\n",
       "</div>"
      ],
      "text/plain": [
       "          0         1         2\n",
       "0 -1.727508  0.000000  0.000000\n",
       "1  0.063395  0.000000  0.000000\n",
       "2  2.526922  0.000000 -2.332185\n",
       "3 -0.935387  0.000000  0.206300\n",
       "4  0.712653  2.698065 -0.042603\n",
       "5 -0.037107 -0.726611 -0.448607\n",
       "6 -1.312564  0.079274 -0.756321"
      ]
     },
     "execution_count": 18,
     "metadata": {},
     "output_type": "execute_result"
    }
   ],
   "source": [
    "df.fillna(0, inplace=True)\n",
    "df"
   ]
  },
  {
   "cell_type": "code",
   "execution_count": 19,
   "id": "dab55562",
   "metadata": {},
   "outputs": [
    {
     "data": {
      "text/html": [
       "<div>\n",
       "<style scoped>\n",
       "    .dataframe tbody tr th:only-of-type {\n",
       "        vertical-align: middle;\n",
       "    }\n",
       "\n",
       "    .dataframe tbody tr th {\n",
       "        vertical-align: top;\n",
       "    }\n",
       "\n",
       "    .dataframe thead th {\n",
       "        text-align: right;\n",
       "    }\n",
       "</style>\n",
       "<table border=\"1\" class=\"dataframe\">\n",
       "  <thead>\n",
       "    <tr style=\"text-align: right;\">\n",
       "      <th></th>\n",
       "      <th>0</th>\n",
       "      <th>1</th>\n",
       "      <th>2</th>\n",
       "    </tr>\n",
       "  </thead>\n",
       "  <tbody>\n",
       "    <tr>\n",
       "      <th>0</th>\n",
       "      <td>-0.736979</td>\n",
       "      <td>1.858286</td>\n",
       "      <td>-0.125659</td>\n",
       "    </tr>\n",
       "    <tr>\n",
       "      <th>1</th>\n",
       "      <td>0.232914</td>\n",
       "      <td>-0.466189</td>\n",
       "      <td>0.222211</td>\n",
       "    </tr>\n",
       "    <tr>\n",
       "      <th>2</th>\n",
       "      <td>0.160017</td>\n",
       "      <td>NaN</td>\n",
       "      <td>1.133691</td>\n",
       "    </tr>\n",
       "    <tr>\n",
       "      <th>3</th>\n",
       "      <td>0.161755</td>\n",
       "      <td>NaN</td>\n",
       "      <td>0.025461</td>\n",
       "    </tr>\n",
       "    <tr>\n",
       "      <th>4</th>\n",
       "      <td>0.205989</td>\n",
       "      <td>NaN</td>\n",
       "      <td>NaN</td>\n",
       "    </tr>\n",
       "    <tr>\n",
       "      <th>5</th>\n",
       "      <td>0.793060</td>\n",
       "      <td>NaN</td>\n",
       "      <td>NaN</td>\n",
       "    </tr>\n",
       "  </tbody>\n",
       "</table>\n",
       "</div>"
      ],
      "text/plain": [
       "          0         1         2\n",
       "0 -0.736979  1.858286 -0.125659\n",
       "1  0.232914 -0.466189  0.222211\n",
       "2  0.160017       NaN  1.133691\n",
       "3  0.161755       NaN  0.025461\n",
       "4  0.205989       NaN       NaN\n",
       "5  0.793060       NaN       NaN"
      ]
     },
     "execution_count": 19,
     "metadata": {},
     "output_type": "execute_result"
    }
   ],
   "source": [
    "df = pd.DataFrame(np.random.randn(6, 3))\n",
    "df.iloc[2:, 1] = NA\n",
    "df.iloc[4:, 2] = NA\n",
    "df"
   ]
  },
  {
   "cell_type": "code",
   "execution_count": 20,
   "id": "b43f0b46",
   "metadata": {},
   "outputs": [
    {
     "data": {
      "text/html": [
       "<div>\n",
       "<style scoped>\n",
       "    .dataframe tbody tr th:only-of-type {\n",
       "        vertical-align: middle;\n",
       "    }\n",
       "\n",
       "    .dataframe tbody tr th {\n",
       "        vertical-align: top;\n",
       "    }\n",
       "\n",
       "    .dataframe thead th {\n",
       "        text-align: right;\n",
       "    }\n",
       "</style>\n",
       "<table border=\"1\" class=\"dataframe\">\n",
       "  <thead>\n",
       "    <tr style=\"text-align: right;\">\n",
       "      <th></th>\n",
       "      <th>0</th>\n",
       "      <th>1</th>\n",
       "      <th>2</th>\n",
       "    </tr>\n",
       "  </thead>\n",
       "  <tbody>\n",
       "    <tr>\n",
       "      <th>0</th>\n",
       "      <td>-0.736979</td>\n",
       "      <td>1.858286</td>\n",
       "      <td>-0.125659</td>\n",
       "    </tr>\n",
       "    <tr>\n",
       "      <th>1</th>\n",
       "      <td>0.232914</td>\n",
       "      <td>-0.466189</td>\n",
       "      <td>0.222211</td>\n",
       "    </tr>\n",
       "    <tr>\n",
       "      <th>2</th>\n",
       "      <td>0.160017</td>\n",
       "      <td>-0.466189</td>\n",
       "      <td>1.133691</td>\n",
       "    </tr>\n",
       "    <tr>\n",
       "      <th>3</th>\n",
       "      <td>0.161755</td>\n",
       "      <td>-0.466189</td>\n",
       "      <td>0.025461</td>\n",
       "    </tr>\n",
       "    <tr>\n",
       "      <th>4</th>\n",
       "      <td>0.205989</td>\n",
       "      <td>-0.466189</td>\n",
       "      <td>0.025461</td>\n",
       "    </tr>\n",
       "    <tr>\n",
       "      <th>5</th>\n",
       "      <td>0.793060</td>\n",
       "      <td>-0.466189</td>\n",
       "      <td>0.025461</td>\n",
       "    </tr>\n",
       "  </tbody>\n",
       "</table>\n",
       "</div>"
      ],
      "text/plain": [
       "          0         1         2\n",
       "0 -0.736979  1.858286 -0.125659\n",
       "1  0.232914 -0.466189  0.222211\n",
       "2  0.160017 -0.466189  1.133691\n",
       "3  0.161755 -0.466189  0.025461\n",
       "4  0.205989 -0.466189  0.025461\n",
       "5  0.793060 -0.466189  0.025461"
      ]
     },
     "execution_count": 20,
     "metadata": {},
     "output_type": "execute_result"
    }
   ],
   "source": [
    "df.fillna(method='ffill') # the ffill method replaces the missing values with the value from the previous row/column/element"
   ]
  },
  {
   "cell_type": "code",
   "execution_count": 21,
   "id": "1136ded3",
   "metadata": {},
   "outputs": [
    {
     "data": {
      "text/html": [
       "<div>\n",
       "<style scoped>\n",
       "    .dataframe tbody tr th:only-of-type {\n",
       "        vertical-align: middle;\n",
       "    }\n",
       "\n",
       "    .dataframe tbody tr th {\n",
       "        vertical-align: top;\n",
       "    }\n",
       "\n",
       "    .dataframe thead th {\n",
       "        text-align: right;\n",
       "    }\n",
       "</style>\n",
       "<table border=\"1\" class=\"dataframe\">\n",
       "  <thead>\n",
       "    <tr style=\"text-align: right;\">\n",
       "      <th></th>\n",
       "      <th>0</th>\n",
       "      <th>1</th>\n",
       "      <th>2</th>\n",
       "    </tr>\n",
       "  </thead>\n",
       "  <tbody>\n",
       "    <tr>\n",
       "      <th>0</th>\n",
       "      <td>-0.736979</td>\n",
       "      <td>1.858286</td>\n",
       "      <td>-0.125659</td>\n",
       "    </tr>\n",
       "    <tr>\n",
       "      <th>1</th>\n",
       "      <td>0.232914</td>\n",
       "      <td>-0.466189</td>\n",
       "      <td>0.222211</td>\n",
       "    </tr>\n",
       "    <tr>\n",
       "      <th>2</th>\n",
       "      <td>0.160017</td>\n",
       "      <td>-0.466189</td>\n",
       "      <td>1.133691</td>\n",
       "    </tr>\n",
       "    <tr>\n",
       "      <th>3</th>\n",
       "      <td>0.161755</td>\n",
       "      <td>-0.466189</td>\n",
       "      <td>0.025461</td>\n",
       "    </tr>\n",
       "    <tr>\n",
       "      <th>4</th>\n",
       "      <td>0.205989</td>\n",
       "      <td>NaN</td>\n",
       "      <td>0.025461</td>\n",
       "    </tr>\n",
       "    <tr>\n",
       "      <th>5</th>\n",
       "      <td>0.793060</td>\n",
       "      <td>NaN</td>\n",
       "      <td>0.025461</td>\n",
       "    </tr>\n",
       "  </tbody>\n",
       "</table>\n",
       "</div>"
      ],
      "text/plain": [
       "          0         1         2\n",
       "0 -0.736979  1.858286 -0.125659\n",
       "1  0.232914 -0.466189  0.222211\n",
       "2  0.160017 -0.466189  1.133691\n",
       "3  0.161755 -0.466189  0.025461\n",
       "4  0.205989       NaN  0.025461\n",
       "5  0.793060       NaN  0.025461"
      ]
     },
     "execution_count": 21,
     "metadata": {},
     "output_type": "execute_result"
    }
   ],
   "source": [
    "df.fillna(method='ffill', limit=2)"
   ]
  },
  {
   "cell_type": "code",
   "execution_count": 22,
   "id": "7d837463",
   "metadata": {},
   "outputs": [
    {
     "data": {
      "text/plain": [
       "0    1.000000\n",
       "1    3.833333\n",
       "2    3.500000\n",
       "3    3.833333\n",
       "4    7.000000\n",
       "dtype: float64"
      ]
     },
     "execution_count": 22,
     "metadata": {},
     "output_type": "execute_result"
    }
   ],
   "source": [
    "data = pd.Series([1, NA, 3.5, NA, 7])\n",
    "data.fillna(data.mean())"
   ]
  },
  {
   "cell_type": "markdown",
   "id": "c5784355",
   "metadata": {},
   "source": [
    "## Data Transformation"
   ]
  },
  {
   "cell_type": "code",
   "execution_count": 1,
   "id": "0a98b2d9",
   "metadata": {},
   "outputs": [
    {
     "data": {
      "text/html": [
       "<div>\n",
       "<style scoped>\n",
       "    .dataframe tbody tr th:only-of-type {\n",
       "        vertical-align: middle;\n",
       "    }\n",
       "\n",
       "    .dataframe tbody tr th {\n",
       "        vertical-align: top;\n",
       "    }\n",
       "\n",
       "    .dataframe thead th {\n",
       "        text-align: right;\n",
       "    }\n",
       "</style>\n",
       "<table border=\"1\" class=\"dataframe\">\n",
       "  <thead>\n",
       "    <tr style=\"text-align: right;\">\n",
       "      <th></th>\n",
       "      <th>k1</th>\n",
       "      <th>k2</th>\n",
       "    </tr>\n",
       "  </thead>\n",
       "  <tbody>\n",
       "    <tr>\n",
       "      <th>0</th>\n",
       "      <td>one</td>\n",
       "      <td>1</td>\n",
       "    </tr>\n",
       "    <tr>\n",
       "      <th>1</th>\n",
       "      <td>two</td>\n",
       "      <td>1</td>\n",
       "    </tr>\n",
       "    <tr>\n",
       "      <th>2</th>\n",
       "      <td>one</td>\n",
       "      <td>2</td>\n",
       "    </tr>\n",
       "    <tr>\n",
       "      <th>3</th>\n",
       "      <td>two</td>\n",
       "      <td>3</td>\n",
       "    </tr>\n",
       "    <tr>\n",
       "      <th>4</th>\n",
       "      <td>one</td>\n",
       "      <td>3</td>\n",
       "    </tr>\n",
       "    <tr>\n",
       "      <th>5</th>\n",
       "      <td>two</td>\n",
       "      <td>4</td>\n",
       "    </tr>\n",
       "    <tr>\n",
       "      <th>6</th>\n",
       "      <td>two</td>\n",
       "      <td>4</td>\n",
       "    </tr>\n",
       "  </tbody>\n",
       "</table>\n",
       "</div>"
      ],
      "text/plain": [
       "    k1  k2\n",
       "0  one   1\n",
       "1  two   1\n",
       "2  one   2\n",
       "3  two   3\n",
       "4  one   3\n",
       "5  two   4\n",
       "6  two   4"
      ]
     },
     "execution_count": 1,
     "metadata": {},
     "output_type": "execute_result"
    }
   ],
   "source": [
    "import pandas as pd\n",
    "import numpy as np\n",
    "data = pd.DataFrame({'k1': ['one', 'two'] * 3 + ['two'], 'k2': [1, 1, 2, 3, 3, 4, 4]})\n",
    "data"
   ]
  },
  {
   "cell_type": "code",
   "execution_count": 3,
   "id": "b00986eb",
   "metadata": {},
   "outputs": [
    {
     "data": {
      "text/plain": [
       "0    False\n",
       "1    False\n",
       "2    False\n",
       "3    False\n",
       "4    False\n",
       "5    False\n",
       "6     True\n",
       "dtype: bool"
      ]
     },
     "execution_count": 3,
     "metadata": {},
     "output_type": "execute_result"
    }
   ],
   "source": [
    "data.duplicated() # returns a boolean series indicating duplicate rows"
   ]
  },
  {
   "cell_type": "code",
   "execution_count": 5,
   "id": "fe70600b",
   "metadata": {},
   "outputs": [
    {
     "data": {
      "text/html": [
       "<div>\n",
       "<style scoped>\n",
       "    .dataframe tbody tr th:only-of-type {\n",
       "        vertical-align: middle;\n",
       "    }\n",
       "\n",
       "    .dataframe tbody tr th {\n",
       "        vertical-align: top;\n",
       "    }\n",
       "\n",
       "    .dataframe thead th {\n",
       "        text-align: right;\n",
       "    }\n",
       "</style>\n",
       "<table border=\"1\" class=\"dataframe\">\n",
       "  <thead>\n",
       "    <tr style=\"text-align: right;\">\n",
       "      <th></th>\n",
       "      <th>k1</th>\n",
       "      <th>k2</th>\n",
       "    </tr>\n",
       "  </thead>\n",
       "  <tbody>\n",
       "    <tr>\n",
       "      <th>0</th>\n",
       "      <td>one</td>\n",
       "      <td>1</td>\n",
       "    </tr>\n",
       "    <tr>\n",
       "      <th>1</th>\n",
       "      <td>two</td>\n",
       "      <td>1</td>\n",
       "    </tr>\n",
       "    <tr>\n",
       "      <th>2</th>\n",
       "      <td>one</td>\n",
       "      <td>2</td>\n",
       "    </tr>\n",
       "    <tr>\n",
       "      <th>3</th>\n",
       "      <td>two</td>\n",
       "      <td>3</td>\n",
       "    </tr>\n",
       "    <tr>\n",
       "      <th>4</th>\n",
       "      <td>one</td>\n",
       "      <td>3</td>\n",
       "    </tr>\n",
       "    <tr>\n",
       "      <th>5</th>\n",
       "      <td>two</td>\n",
       "      <td>4</td>\n",
       "    </tr>\n",
       "  </tbody>\n",
       "</table>\n",
       "</div>"
      ],
      "text/plain": [
       "    k1  k2\n",
       "0  one   1\n",
       "1  two   1\n",
       "2  one   2\n",
       "3  two   3\n",
       "4  one   3\n",
       "5  two   4"
      ]
     },
     "execution_count": 5,
     "metadata": {},
     "output_type": "execute_result"
    }
   ],
   "source": [
    "data.drop_duplicates() # drops the duplicate rows"
   ]
  },
  {
   "cell_type": "code",
   "execution_count": 7,
   "id": "86baf602",
   "metadata": {},
   "outputs": [
    {
     "data": {
      "text/html": [
       "<div>\n",
       "<style scoped>\n",
       "    .dataframe tbody tr th:only-of-type {\n",
       "        vertical-align: middle;\n",
       "    }\n",
       "\n",
       "    .dataframe tbody tr th {\n",
       "        vertical-align: top;\n",
       "    }\n",
       "\n",
       "    .dataframe thead th {\n",
       "        text-align: right;\n",
       "    }\n",
       "</style>\n",
       "<table border=\"1\" class=\"dataframe\">\n",
       "  <thead>\n",
       "    <tr style=\"text-align: right;\">\n",
       "      <th></th>\n",
       "      <th>k1</th>\n",
       "      <th>k2</th>\n",
       "      <th>v1</th>\n",
       "    </tr>\n",
       "  </thead>\n",
       "  <tbody>\n",
       "    <tr>\n",
       "      <th>0</th>\n",
       "      <td>one</td>\n",
       "      <td>1</td>\n",
       "      <td>0</td>\n",
       "    </tr>\n",
       "    <tr>\n",
       "      <th>1</th>\n",
       "      <td>two</td>\n",
       "      <td>1</td>\n",
       "      <td>1</td>\n",
       "    </tr>\n",
       "    <tr>\n",
       "      <th>2</th>\n",
       "      <td>one</td>\n",
       "      <td>2</td>\n",
       "      <td>2</td>\n",
       "    </tr>\n",
       "    <tr>\n",
       "      <th>3</th>\n",
       "      <td>two</td>\n",
       "      <td>3</td>\n",
       "      <td>3</td>\n",
       "    </tr>\n",
       "    <tr>\n",
       "      <th>4</th>\n",
       "      <td>one</td>\n",
       "      <td>3</td>\n",
       "      <td>4</td>\n",
       "    </tr>\n",
       "    <tr>\n",
       "      <th>5</th>\n",
       "      <td>two</td>\n",
       "      <td>4</td>\n",
       "      <td>5</td>\n",
       "    </tr>\n",
       "    <tr>\n",
       "      <th>6</th>\n",
       "      <td>two</td>\n",
       "      <td>4</td>\n",
       "      <td>6</td>\n",
       "    </tr>\n",
       "  </tbody>\n",
       "</table>\n",
       "</div>"
      ],
      "text/plain": [
       "    k1  k2  v1\n",
       "0  one   1   0\n",
       "1  two   1   1\n",
       "2  one   2   2\n",
       "3  two   3   3\n",
       "4  one   3   4\n",
       "5  two   4   5\n",
       "6  two   4   6"
      ]
     },
     "execution_count": 7,
     "metadata": {},
     "output_type": "execute_result"
    }
   ],
   "source": [
    "data['v1'] = range(7)\n",
    "data"
   ]
  },
  {
   "cell_type": "code",
   "execution_count": 8,
   "id": "bfb47cfc",
   "metadata": {},
   "outputs": [
    {
     "data": {
      "text/html": [
       "<div>\n",
       "<style scoped>\n",
       "    .dataframe tbody tr th:only-of-type {\n",
       "        vertical-align: middle;\n",
       "    }\n",
       "\n",
       "    .dataframe tbody tr th {\n",
       "        vertical-align: top;\n",
       "    }\n",
       "\n",
       "    .dataframe thead th {\n",
       "        text-align: right;\n",
       "    }\n",
       "</style>\n",
       "<table border=\"1\" class=\"dataframe\">\n",
       "  <thead>\n",
       "    <tr style=\"text-align: right;\">\n",
       "      <th></th>\n",
       "      <th>k1</th>\n",
       "      <th>k2</th>\n",
       "      <th>v1</th>\n",
       "    </tr>\n",
       "  </thead>\n",
       "  <tbody>\n",
       "    <tr>\n",
       "      <th>0</th>\n",
       "      <td>one</td>\n",
       "      <td>1</td>\n",
       "      <td>0</td>\n",
       "    </tr>\n",
       "    <tr>\n",
       "      <th>1</th>\n",
       "      <td>two</td>\n",
       "      <td>1</td>\n",
       "      <td>1</td>\n",
       "    </tr>\n",
       "  </tbody>\n",
       "</table>\n",
       "</div>"
      ],
      "text/plain": [
       "    k1  k2  v1\n",
       "0  one   1   0\n",
       "1  two   1   1"
      ]
     },
     "execution_count": 8,
     "metadata": {},
     "output_type": "execute_result"
    }
   ],
   "source": [
    "data.drop_duplicates(['k1']) # we can also specify the columns for dropping the duplicates|"
   ]
  },
  {
   "cell_type": "code",
   "execution_count": 10,
   "id": "a341b315",
   "metadata": {},
   "outputs": [
    {
     "data": {
      "text/html": [
       "<div>\n",
       "<style scoped>\n",
       "    .dataframe tbody tr th:only-of-type {\n",
       "        vertical-align: middle;\n",
       "    }\n",
       "\n",
       "    .dataframe tbody tr th {\n",
       "        vertical-align: top;\n",
       "    }\n",
       "\n",
       "    .dataframe thead th {\n",
       "        text-align: right;\n",
       "    }\n",
       "</style>\n",
       "<table border=\"1\" class=\"dataframe\">\n",
       "  <thead>\n",
       "    <tr style=\"text-align: right;\">\n",
       "      <th></th>\n",
       "      <th>k1</th>\n",
       "      <th>k2</th>\n",
       "      <th>v1</th>\n",
       "    </tr>\n",
       "  </thead>\n",
       "  <tbody>\n",
       "    <tr>\n",
       "      <th>4</th>\n",
       "      <td>one</td>\n",
       "      <td>3</td>\n",
       "      <td>4</td>\n",
       "    </tr>\n",
       "    <tr>\n",
       "      <th>6</th>\n",
       "      <td>two</td>\n",
       "      <td>4</td>\n",
       "      <td>6</td>\n",
       "    </tr>\n",
       "  </tbody>\n",
       "</table>\n",
       "</div>"
      ],
      "text/plain": [
       "    k1  k2  v1\n",
       "4  one   3   4\n",
       "6  two   4   6"
      ]
     },
     "execution_count": 10,
     "metadata": {},
     "output_type": "execute_result"
    }
   ],
   "source": [
    "data.drop_duplicates(['k1'], keep='last') # the previous one selects the first observed value, keep='last', will select the last one"
   ]
  },
  {
   "cell_type": "markdown",
   "id": "2236c4a0",
   "metadata": {},
   "source": [
    "### Transforming data using Functions or Mapping"
   ]
  },
  {
   "cell_type": "code",
   "execution_count": 4,
   "id": "607177d8",
   "metadata": {},
   "outputs": [
    {
     "data": {
      "text/html": [
       "<div>\n",
       "<style scoped>\n",
       "    .dataframe tbody tr th:only-of-type {\n",
       "        vertical-align: middle;\n",
       "    }\n",
       "\n",
       "    .dataframe tbody tr th {\n",
       "        vertical-align: top;\n",
       "    }\n",
       "\n",
       "    .dataframe thead th {\n",
       "        text-align: right;\n",
       "    }\n",
       "</style>\n",
       "<table border=\"1\" class=\"dataframe\">\n",
       "  <thead>\n",
       "    <tr style=\"text-align: right;\">\n",
       "      <th></th>\n",
       "      <th>food</th>\n",
       "      <th>ounces</th>\n",
       "    </tr>\n",
       "  </thead>\n",
       "  <tbody>\n",
       "    <tr>\n",
       "      <th>0</th>\n",
       "      <td>bacon</td>\n",
       "      <td>4.0</td>\n",
       "    </tr>\n",
       "    <tr>\n",
       "      <th>1</th>\n",
       "      <td>pulled pork</td>\n",
       "      <td>3.0</td>\n",
       "    </tr>\n",
       "    <tr>\n",
       "      <th>2</th>\n",
       "      <td>bacon</td>\n",
       "      <td>12.0</td>\n",
       "    </tr>\n",
       "    <tr>\n",
       "      <th>3</th>\n",
       "      <td>Pastrami</td>\n",
       "      <td>6.0</td>\n",
       "    </tr>\n",
       "    <tr>\n",
       "      <th>4</th>\n",
       "      <td>corned beef</td>\n",
       "      <td>7.5</td>\n",
       "    </tr>\n",
       "    <tr>\n",
       "      <th>5</th>\n",
       "      <td>Bacon</td>\n",
       "      <td>8.0</td>\n",
       "    </tr>\n",
       "    <tr>\n",
       "      <th>6</th>\n",
       "      <td>pastrami</td>\n",
       "      <td>3.0</td>\n",
       "    </tr>\n",
       "    <tr>\n",
       "      <th>7</th>\n",
       "      <td>honey ham</td>\n",
       "      <td>5.0</td>\n",
       "    </tr>\n",
       "    <tr>\n",
       "      <th>8</th>\n",
       "      <td>nova lox</td>\n",
       "      <td>6.0</td>\n",
       "    </tr>\n",
       "  </tbody>\n",
       "</table>\n",
       "</div>"
      ],
      "text/plain": [
       "          food  ounces\n",
       "0        bacon     4.0\n",
       "1  pulled pork     3.0\n",
       "2        bacon    12.0\n",
       "3     Pastrami     6.0\n",
       "4  corned beef     7.5\n",
       "5        Bacon     8.0\n",
       "6     pastrami     3.0\n",
       "7    honey ham     5.0\n",
       "8     nova lox     6.0"
      ]
     },
     "execution_count": 4,
     "metadata": {},
     "output_type": "execute_result"
    }
   ],
   "source": [
    "data = pd.DataFrame({'food': ['bacon', 'pulled pork', 'bacon',\n",
    " ....: 'Pastrami', 'corned beef', 'Bacon',\n",
    " ....: 'pastrami', 'honey ham', 'nova lox'],\n",
    " ....: 'ounces': [4, 3, 12, 6, 7.5, 8, 3, 5, 6]})\n",
    "data"
   ]
  },
  {
   "cell_type": "code",
   "execution_count": 1,
   "id": "b31f1353",
   "metadata": {},
   "outputs": [],
   "source": [
    "meat_to_animal = {\n",
    " 'bacon': 'pig',\n",
    " 'pulled pork': 'pig',\n",
    " 'pastrami': 'cow',\n",
    " 'corned beef': 'cow',\n",
    " 'honey ham': 'pig',\n",
    " 'nova lox': 'salmon'\n",
    "}"
   ]
  },
  {
   "cell_type": "code",
   "execution_count": 2,
   "id": "fd6dddc8",
   "metadata": {},
   "outputs": [],
   "source": [
    "import pandas as pd\n",
    "import numpy as np"
   ]
  },
  {
   "cell_type": "code",
   "execution_count": 6,
   "id": "a660f0f3",
   "metadata": {},
   "outputs": [
    {
     "data": {
      "text/plain": [
       "0          bacon\n",
       "1    pulled pork\n",
       "2          bacon\n",
       "3       pastrami\n",
       "4    corned beef\n",
       "5          bacon\n",
       "6       pastrami\n",
       "7      honey ham\n",
       "8       nova lox\n",
       "Name: food, dtype: object"
      ]
     },
     "execution_count": 6,
     "metadata": {},
     "output_type": "execute_result"
    }
   ],
   "source": [
    "lowercased = data['food'].str.lower()\n",
    "lowercased"
   ]
  },
  {
   "cell_type": "code",
   "execution_count": 7,
   "id": "8aaad2f6",
   "metadata": {},
   "outputs": [
    {
     "data": {
      "text/html": [
       "<div>\n",
       "<style scoped>\n",
       "    .dataframe tbody tr th:only-of-type {\n",
       "        vertical-align: middle;\n",
       "    }\n",
       "\n",
       "    .dataframe tbody tr th {\n",
       "        vertical-align: top;\n",
       "    }\n",
       "\n",
       "    .dataframe thead th {\n",
       "        text-align: right;\n",
       "    }\n",
       "</style>\n",
       "<table border=\"1\" class=\"dataframe\">\n",
       "  <thead>\n",
       "    <tr style=\"text-align: right;\">\n",
       "      <th></th>\n",
       "      <th>food</th>\n",
       "      <th>ounces</th>\n",
       "      <th>animal</th>\n",
       "    </tr>\n",
       "  </thead>\n",
       "  <tbody>\n",
       "    <tr>\n",
       "      <th>0</th>\n",
       "      <td>bacon</td>\n",
       "      <td>4.0</td>\n",
       "      <td>pig</td>\n",
       "    </tr>\n",
       "    <tr>\n",
       "      <th>1</th>\n",
       "      <td>pulled pork</td>\n",
       "      <td>3.0</td>\n",
       "      <td>pig</td>\n",
       "    </tr>\n",
       "    <tr>\n",
       "      <th>2</th>\n",
       "      <td>bacon</td>\n",
       "      <td>12.0</td>\n",
       "      <td>pig</td>\n",
       "    </tr>\n",
       "    <tr>\n",
       "      <th>3</th>\n",
       "      <td>Pastrami</td>\n",
       "      <td>6.0</td>\n",
       "      <td>cow</td>\n",
       "    </tr>\n",
       "    <tr>\n",
       "      <th>4</th>\n",
       "      <td>corned beef</td>\n",
       "      <td>7.5</td>\n",
       "      <td>cow</td>\n",
       "    </tr>\n",
       "    <tr>\n",
       "      <th>5</th>\n",
       "      <td>Bacon</td>\n",
       "      <td>8.0</td>\n",
       "      <td>pig</td>\n",
       "    </tr>\n",
       "    <tr>\n",
       "      <th>6</th>\n",
       "      <td>pastrami</td>\n",
       "      <td>3.0</td>\n",
       "      <td>cow</td>\n",
       "    </tr>\n",
       "    <tr>\n",
       "      <th>7</th>\n",
       "      <td>honey ham</td>\n",
       "      <td>5.0</td>\n",
       "      <td>pig</td>\n",
       "    </tr>\n",
       "    <tr>\n",
       "      <th>8</th>\n",
       "      <td>nova lox</td>\n",
       "      <td>6.0</td>\n",
       "      <td>salmon</td>\n",
       "    </tr>\n",
       "  </tbody>\n",
       "</table>\n",
       "</div>"
      ],
      "text/plain": [
       "          food  ounces  animal\n",
       "0        bacon     4.0     pig\n",
       "1  pulled pork     3.0     pig\n",
       "2        bacon    12.0     pig\n",
       "3     Pastrami     6.0     cow\n",
       "4  corned beef     7.5     cow\n",
       "5        Bacon     8.0     pig\n",
       "6     pastrami     3.0     cow\n",
       "7    honey ham     5.0     pig\n",
       "8     nova lox     6.0  salmon"
      ]
     },
     "execution_count": 7,
     "metadata": {},
     "output_type": "execute_result"
    }
   ],
   "source": [
    "# the map method can be used to map a dictionary type object to a Series/DataFrame column\n",
    "data['animal'] = lowercased.map(meat_to_animal)\n",
    "data\n",
    "# map function basically does element wise mapping"
   ]
  },
  {
   "cell_type": "code",
   "execution_count": 8,
   "id": "b0e73305",
   "metadata": {},
   "outputs": [
    {
     "data": {
      "text/plain": [
       "0       pig\n",
       "1       pig\n",
       "2       pig\n",
       "3       cow\n",
       "4       cow\n",
       "5       pig\n",
       "6       cow\n",
       "7       pig\n",
       "8    salmon\n",
       "Name: food, dtype: object"
      ]
     },
     "execution_count": 8,
     "metadata": {},
     "output_type": "execute_result"
    }
   ],
   "source": [
    "# we can also use a user defind function to do all the work\n",
    "data['food'].map(lambda x: meat_to_animal[x.lower()])\n",
    "# map function is used for element wise transformations and for data cleaning tasks"
   ]
  },
  {
   "cell_type": "markdown",
   "id": "de07c56d",
   "metadata": {},
   "source": [
    "### Replacing values"
   ]
  },
  {
   "cell_type": "code",
   "execution_count": 9,
   "id": "6189661e",
   "metadata": {},
   "outputs": [
    {
     "data": {
      "text/plain": [
       "0       1\n",
       "1    -999\n",
       "2       2\n",
       "3    -999\n",
       "4   -1000\n",
       "5       3\n",
       "dtype: int64"
      ]
     },
     "execution_count": 9,
     "metadata": {},
     "output_type": "execute_result"
    }
   ],
   "source": [
    "# we can use the repalce function to replace the specified value\n",
    "# fillna is used for more generalized replacement\n",
    "# replace can be used to replace very specific elements\n",
    "data = pd.Series([1, -999, 2, -999, -1000, 3])\n",
    "data"
   ]
  },
  {
   "cell_type": "code",
   "execution_count": 10,
   "id": "5e767402",
   "metadata": {},
   "outputs": [
    {
     "data": {
      "text/plain": [
       "0       1.0\n",
       "1       NaN\n",
       "2       2.0\n",
       "3       NaN\n",
       "4   -1000.0\n",
       "5       3.0\n",
       "dtype: float64"
      ]
     },
     "execution_count": 10,
     "metadata": {},
     "output_type": "execute_result"
    }
   ],
   "source": [
    "data.replace(-999, np.nan) \n",
    "# we are replcaing -999 with NaN"
   ]
  },
  {
   "cell_type": "code",
   "execution_count": 11,
   "id": "fb9ca4a9",
   "metadata": {},
   "outputs": [
    {
     "data": {
      "text/plain": [
       "0    1.0\n",
       "1    NaN\n",
       "2    2.0\n",
       "3    NaN\n",
       "4    NaN\n",
       "5    3.0\n",
       "dtype: float64"
      ]
     },
     "execution_count": 11,
     "metadata": {},
     "output_type": "execute_result"
    }
   ],
   "source": [
    "data.replace([-999, -1000], np.nan) \n",
    "# to replace multiple values we pass a list of the values"
   ]
  },
  {
   "cell_type": "code",
   "execution_count": 12,
   "id": "8a0a1159",
   "metadata": {},
   "outputs": [
    {
     "data": {
      "text/plain": [
       "0                   1.0\n",
       "1                   NaN\n",
       "2                   2.0\n",
       "3                   NaN\n",
       "4    maximum redundancy\n",
       "5                   3.0\n",
       "dtype: object"
      ]
     },
     "execution_count": 12,
     "metadata": {},
     "output_type": "execute_result"
    }
   ],
   "source": [
    "data.replace({-999: np.nan, -1000: \"maximum redundancy\"})\n",
    "# we can pass a dict to do element wise replacement"
   ]
  },
  {
   "cell_type": "code",
   "execution_count": 17,
   "id": "6eb71dc6",
   "metadata": {},
   "outputs": [
    {
     "data": {
      "text/html": [
       "<div>\n",
       "<style scoped>\n",
       "    .dataframe tbody tr th:only-of-type {\n",
       "        vertical-align: middle;\n",
       "    }\n",
       "\n",
       "    .dataframe tbody tr th {\n",
       "        vertical-align: top;\n",
       "    }\n",
       "\n",
       "    .dataframe thead th {\n",
       "        text-align: right;\n",
       "    }\n",
       "</style>\n",
       "<table border=\"1\" class=\"dataframe\">\n",
       "  <thead>\n",
       "    <tr style=\"text-align: right;\">\n",
       "      <th></th>\n",
       "      <th>one</th>\n",
       "      <th>two</th>\n",
       "      <th>three</th>\n",
       "      <th>four</th>\n",
       "    </tr>\n",
       "  </thead>\n",
       "  <tbody>\n",
       "    <tr>\n",
       "      <th>Ohio</th>\n",
       "      <td>0</td>\n",
       "      <td>1</td>\n",
       "      <td>2</td>\n",
       "      <td>3</td>\n",
       "    </tr>\n",
       "    <tr>\n",
       "      <th>Colorado</th>\n",
       "      <td>4</td>\n",
       "      <td>5</td>\n",
       "      <td>6</td>\n",
       "      <td>7</td>\n",
       "    </tr>\n",
       "    <tr>\n",
       "      <th>New York</th>\n",
       "      <td>8</td>\n",
       "      <td>9</td>\n",
       "      <td>10</td>\n",
       "      <td>11</td>\n",
       "    </tr>\n",
       "  </tbody>\n",
       "</table>\n",
       "</div>"
      ],
      "text/plain": [
       "          one  two  three  four\n",
       "Ohio        0    1      2     3\n",
       "Colorado    4    5      6     7\n",
       "New York    8    9     10    11"
      ]
     },
     "execution_count": 17,
     "metadata": {},
     "output_type": "execute_result"
    }
   ],
   "source": [
    "data = pd.DataFrame(np.arange(12).reshape((3, 4)),\n",
    " ....: index=['Ohio', 'Colorado', 'New York'],\n",
    " ....: columns=['one', 'two', 'three', 'four'])\n",
    "data"
   ]
  },
  {
   "cell_type": "code",
   "execution_count": 18,
   "id": "991988b3",
   "metadata": {},
   "outputs": [
    {
     "data": {
      "text/plain": [
       "Index(['OHIO', 'COLO', 'NEW '], dtype='object')"
      ]
     },
     "execution_count": 18,
     "metadata": {},
     "output_type": "execute_result"
    }
   ],
   "source": [
    "transform = lambda x: x[:4].upper()\n",
    "data.index.map(transform)\n",
    "# the index attribute of a dataframe also has map method"
   ]
  },
  {
   "cell_type": "code",
   "execution_count": 20,
   "id": "bacd4e5a",
   "metadata": {},
   "outputs": [
    {
     "data": {
      "text/html": [
       "<div>\n",
       "<style scoped>\n",
       "    .dataframe tbody tr th:only-of-type {\n",
       "        vertical-align: middle;\n",
       "    }\n",
       "\n",
       "    .dataframe tbody tr th {\n",
       "        vertical-align: top;\n",
       "    }\n",
       "\n",
       "    .dataframe thead th {\n",
       "        text-align: right;\n",
       "    }\n",
       "</style>\n",
       "<table border=\"1\" class=\"dataframe\">\n",
       "  <thead>\n",
       "    <tr style=\"text-align: right;\">\n",
       "      <th></th>\n",
       "      <th>one</th>\n",
       "      <th>two</th>\n",
       "      <th>three</th>\n",
       "      <th>four</th>\n",
       "    </tr>\n",
       "  </thead>\n",
       "  <tbody>\n",
       "    <tr>\n",
       "      <th>OHIO</th>\n",
       "      <td>0</td>\n",
       "      <td>1</td>\n",
       "      <td>2</td>\n",
       "      <td>3</td>\n",
       "    </tr>\n",
       "    <tr>\n",
       "      <th>COLO</th>\n",
       "      <td>4</td>\n",
       "      <td>5</td>\n",
       "      <td>6</td>\n",
       "      <td>7</td>\n",
       "    </tr>\n",
       "    <tr>\n",
       "      <th>NEW</th>\n",
       "      <td>8</td>\n",
       "      <td>9</td>\n",
       "      <td>10</td>\n",
       "      <td>11</td>\n",
       "    </tr>\n",
       "  </tbody>\n",
       "</table>\n",
       "</div>"
      ],
      "text/plain": [
       "      one  two  three  four\n",
       "OHIO    0    1      2     3\n",
       "COLO    4    5      6     7\n",
       "NEW     8    9     10    11"
      ]
     },
     "execution_count": 20,
     "metadata": {},
     "output_type": "execute_result"
    }
   ],
   "source": [
    "data.index = data.index.map(transform)\n",
    "data"
   ]
  },
  {
   "cell_type": "code",
   "execution_count": 21,
   "id": "10ccfc1a",
   "metadata": {},
   "outputs": [
    {
     "data": {
      "text/html": [
       "<div>\n",
       "<style scoped>\n",
       "    .dataframe tbody tr th:only-of-type {\n",
       "        vertical-align: middle;\n",
       "    }\n",
       "\n",
       "    .dataframe tbody tr th {\n",
       "        vertical-align: top;\n",
       "    }\n",
       "\n",
       "    .dataframe thead th {\n",
       "        text-align: right;\n",
       "    }\n",
       "</style>\n",
       "<table border=\"1\" class=\"dataframe\">\n",
       "  <thead>\n",
       "    <tr style=\"text-align: right;\">\n",
       "      <th></th>\n",
       "      <th>ONE</th>\n",
       "      <th>TWO</th>\n",
       "      <th>THREE</th>\n",
       "      <th>FOUR</th>\n",
       "    </tr>\n",
       "  </thead>\n",
       "  <tbody>\n",
       "    <tr>\n",
       "      <th>Ohio</th>\n",
       "      <td>0</td>\n",
       "      <td>1</td>\n",
       "      <td>2</td>\n",
       "      <td>3</td>\n",
       "    </tr>\n",
       "    <tr>\n",
       "      <th>Colo</th>\n",
       "      <td>4</td>\n",
       "      <td>5</td>\n",
       "      <td>6</td>\n",
       "      <td>7</td>\n",
       "    </tr>\n",
       "    <tr>\n",
       "      <th>New</th>\n",
       "      <td>8</td>\n",
       "      <td>9</td>\n",
       "      <td>10</td>\n",
       "      <td>11</td>\n",
       "    </tr>\n",
       "  </tbody>\n",
       "</table>\n",
       "</div>"
      ],
      "text/plain": [
       "      ONE  TWO  THREE  FOUR\n",
       "Ohio    0    1      2     3\n",
       "Colo    4    5      6     7\n",
       "New     8    9     10    11"
      ]
     },
     "execution_count": 21,
     "metadata": {},
     "output_type": "execute_result"
    }
   ],
   "source": [
    "# if we want to create a tranfromed version of a dataset without modifying the original then we use renaeme\n",
    "data.rename(index=str.title, columns=str.upper)"
   ]
  },
  {
   "cell_type": "code",
   "execution_count": 22,
   "id": "ecfe0cc7",
   "metadata": {},
   "outputs": [
    {
     "data": {
      "text/html": [
       "<div>\n",
       "<style scoped>\n",
       "    .dataframe tbody tr th:only-of-type {\n",
       "        vertical-align: middle;\n",
       "    }\n",
       "\n",
       "    .dataframe tbody tr th {\n",
       "        vertical-align: top;\n",
       "    }\n",
       "\n",
       "    .dataframe thead th {\n",
       "        text-align: right;\n",
       "    }\n",
       "</style>\n",
       "<table border=\"1\" class=\"dataframe\">\n",
       "  <thead>\n",
       "    <tr style=\"text-align: right;\">\n",
       "      <th></th>\n",
       "      <th>one</th>\n",
       "      <th>two</th>\n",
       "      <th>peekaboo</th>\n",
       "      <th>four</th>\n",
       "    </tr>\n",
       "  </thead>\n",
       "  <tbody>\n",
       "    <tr>\n",
       "      <th>INDIANA</th>\n",
       "      <td>0</td>\n",
       "      <td>1</td>\n",
       "      <td>2</td>\n",
       "      <td>3</td>\n",
       "    </tr>\n",
       "    <tr>\n",
       "      <th>COLO</th>\n",
       "      <td>4</td>\n",
       "      <td>5</td>\n",
       "      <td>6</td>\n",
       "      <td>7</td>\n",
       "    </tr>\n",
       "    <tr>\n",
       "      <th>NEW</th>\n",
       "      <td>8</td>\n",
       "      <td>9</td>\n",
       "      <td>10</td>\n",
       "      <td>11</td>\n",
       "    </tr>\n",
       "  </tbody>\n",
       "</table>\n",
       "</div>"
      ],
      "text/plain": [
       "         one  two  peekaboo  four\n",
       "INDIANA    0    1         2     3\n",
       "COLO       4    5         6     7\n",
       "NEW        8    9        10    11"
      ]
     },
     "execution_count": 22,
     "metadata": {},
     "output_type": "execute_result"
    }
   ],
   "source": [
    "data.rename(index={'OHIO': 'INDIANA'}, columns={'three': 'peekaboo'})\n",
    "# we can also pass dict like values"
   ]
  },
  {
   "cell_type": "code",
   "execution_count": 23,
   "id": "5da82c78",
   "metadata": {},
   "outputs": [
    {
     "data": {
      "text/html": [
       "<div>\n",
       "<style scoped>\n",
       "    .dataframe tbody tr th:only-of-type {\n",
       "        vertical-align: middle;\n",
       "    }\n",
       "\n",
       "    .dataframe tbody tr th {\n",
       "        vertical-align: top;\n",
       "    }\n",
       "\n",
       "    .dataframe thead th {\n",
       "        text-align: right;\n",
       "    }\n",
       "</style>\n",
       "<table border=\"1\" class=\"dataframe\">\n",
       "  <thead>\n",
       "    <tr style=\"text-align: right;\">\n",
       "      <th></th>\n",
       "      <th>one</th>\n",
       "      <th>two</th>\n",
       "      <th>three</th>\n",
       "      <th>four</th>\n",
       "    </tr>\n",
       "  </thead>\n",
       "  <tbody>\n",
       "    <tr>\n",
       "      <th>INDIANA</th>\n",
       "      <td>0</td>\n",
       "      <td>1</td>\n",
       "      <td>2</td>\n",
       "      <td>3</td>\n",
       "    </tr>\n",
       "    <tr>\n",
       "      <th>COLO</th>\n",
       "      <td>4</td>\n",
       "      <td>5</td>\n",
       "      <td>6</td>\n",
       "      <td>7</td>\n",
       "    </tr>\n",
       "    <tr>\n",
       "      <th>NEW</th>\n",
       "      <td>8</td>\n",
       "      <td>9</td>\n",
       "      <td>10</td>\n",
       "      <td>11</td>\n",
       "    </tr>\n",
       "  </tbody>\n",
       "</table>\n",
       "</div>"
      ],
      "text/plain": [
       "         one  two  three  four\n",
       "INDIANA    0    1      2     3\n",
       "COLO       4    5      6     7\n",
       "NEW        8    9     10    11"
      ]
     },
     "execution_count": 23,
     "metadata": {},
     "output_type": "execute_result"
    }
   ],
   "source": [
    "data.rename(index={'OHIO': 'INDIANA'}, inplace=True)\n",
    "data"
   ]
  },
  {
   "cell_type": "markdown",
   "id": "36361d4f",
   "metadata": {},
   "source": [
    "### Discretization and Binning\n",
    "Continuous data is often discretized or otherwise separated into 'bins' for anlysis"
   ]
  },
  {
   "cell_type": "code",
   "execution_count": 24,
   "id": "88e60dfd",
   "metadata": {},
   "outputs": [],
   "source": [
    "ages = [20, 22, 25, 27, 21, 23, 37, 31, 61, 45, 41, 32]"
   ]
  },
  {
   "cell_type": "code",
   "execution_count": 25,
   "id": "31d232c2",
   "metadata": {},
   "outputs": [
    {
     "data": {
      "text/plain": [
       "[(18, 25], (18, 25], (18, 25], (25, 35], (18, 25], ..., (25, 35], (60, 100], (35, 60], (35, 60], (25, 35]]\n",
       "Length: 12\n",
       "Categories (4, interval[int64, right]): [(18, 25] < (25, 35] < (35, 60] < (60, 100]]"
      ]
     },
     "execution_count": 25,
     "metadata": {},
     "output_type": "execute_result"
    }
   ],
   "source": [
    "bins = [18, 25, 35, 60, 100] # to divide into bins we use the cut function\n",
    "cats = pd.cut(ages, bins)\n",
    "cats"
   ]
  },
  {
   "cell_type": "code",
   "execution_count": 26,
   "id": "7cc7998c",
   "metadata": {},
   "outputs": [
    {
     "data": {
      "text/plain": [
       "array([0, 0, 0, 1, 0, 0, 2, 1, 3, 2, 2, 1], dtype=int8)"
      ]
     },
     "execution_count": 26,
     "metadata": {},
     "output_type": "execute_result"
    }
   ],
   "source": [
    "# the return type is a special Categorical object \n",
    "# from the above output we can see that there are 4 bins created\n",
    "# () - not included ; [] - included\n",
    "# by dfault left is open and right is closed, we can change this by passing right=False\n",
    "# the 'codes' attribute contains the labeling for each of the ages data\n",
    "cats.codes"
   ]
  },
  {
   "cell_type": "code",
   "execution_count": 27,
   "id": "7142a7b0",
   "metadata": {},
   "outputs": [
    {
     "data": {
      "text/plain": [
       "IntervalIndex([(18, 25], (25, 35], (35, 60], (60, 100]], dtype='interval[int64, right]')"
      ]
     },
     "execution_count": 27,
     "metadata": {},
     "output_type": "execute_result"
    }
   ],
   "source": [
    "cats.categories"
   ]
  },
  {
   "cell_type": "code",
   "execution_count": 29,
   "id": "4515db8f",
   "metadata": {},
   "outputs": [
    {
     "data": {
      "text/plain": [
       "(18, 25]     5\n",
       "(25, 35]     3\n",
       "(35, 60]     3\n",
       "(60, 100]    1\n",
       "dtype: int64"
      ]
     },
     "execution_count": 29,
     "metadata": {},
     "output_type": "execute_result"
    }
   ],
   "source": [
    "pd.value_counts(cats)"
   ]
  },
  {
   "cell_type": "code",
   "execution_count": 30,
   "id": "17ce368c",
   "metadata": {},
   "outputs": [
    {
     "data": {
      "text/plain": [
       "['Youth', 'Youth', 'Youth', 'Young Adult', 'Youth', ..., 'Young Adult', 'Senior', 'Middle Aged', 'Middle Aged', 'Young Adult']\n",
       "Length: 12\n",
       "Categories (4, object): ['Youth' < 'Young Adult' < 'Middle Aged' < 'Senior']"
      ]
     },
     "execution_count": 30,
     "metadata": {},
     "output_type": "execute_result"
    }
   ],
   "source": [
    "# we can also pass our own labels for the bins\n",
    "group_names = ['Youth', 'Young Adult', 'Middle Aged', 'Senior']\n",
    "pd.cut(ages, [18, 26, 36, 61, 100], right=False, labels=group_names)"
   ]
  },
  {
   "cell_type": "code",
   "execution_count": 40,
   "id": "5216132f",
   "metadata": {},
   "outputs": [
    {
     "name": "stdout",
     "output_type": "stream",
     "text": [
      "[-0.65069243  1.15345927 -0.44586161  0.49724218 -0.38500768  2.05418704\n",
      "  0.4949542  -1.21411248  0.94939992  0.85168913 -1.07348477 -0.89337675\n",
      "  0.96500753  0.17947461  1.87601155 -0.33948984 -0.33263045 -0.8156203\n",
      " -0.72262833 -0.19718684]\n"
     ]
    },
    {
     "data": {
      "text/plain": [
       "[(-1.22, -0.56], (0.75, 1.4], (-0.56, 0.093], (0.093, 0.75], (-0.56, 0.093], ..., (-0.56, 0.093], (-0.56, 0.093], (-1.22, -0.56], (-1.22, -0.56], (-0.56, 0.093]]\n",
       "Length: 20\n",
       "Categories (5, interval[float64, right]): [(-1.22, -0.56] < (-0.56, 0.093] < (0.093, 0.75] < (0.75, 1.4] < (1.4, 2.05]]"
      ]
     },
     "execution_count": 40,
     "metadata": {},
     "output_type": "execute_result"
    }
   ],
   "source": [
    "# if we pass an integer 'n' insted of a bin array, it will create equally-sized n bins\n",
    "# it does so by staring from the minimum value to the maximum value\n",
    "data = np.random.randn(20)\n",
    "print(data)\n",
    "cats = pd.cut(data, 5, precision=2) # the precision limits the the decimal to 2 digits\n",
    "cats"
   ]
  },
  {
   "cell_type": "code",
   "execution_count": 42,
   "id": "8cb9ae98",
   "metadata": {},
   "outputs": [
    {
     "data": {
      "text/plain": [
       "(-1.22, -0.56]    6\n",
       "(-0.56, 0.093]    5\n",
       "(0.75, 1.4]       4\n",
       "(0.093, 0.75]     3\n",
       "(1.4, 2.05]       2\n",
       "dtype: int64"
      ]
     },
     "execution_count": 42,
     "metadata": {},
     "output_type": "execute_result"
    }
   ],
   "source": [
    "pd.value_counts(cats)"
   ]
  },
  {
   "cell_type": "code",
   "execution_count": 43,
   "id": "737c7641",
   "metadata": {},
   "outputs": [
    {
     "data": {
      "text/plain": [
       "array([-6.42796380e-01, -1.56109204e+00, -3.58816846e-01,  2.43235850e+00,\n",
       "       -3.73371921e-01, -5.06039768e-01,  2.03340011e-01,  2.57354995e-01,\n",
       "        6.07526533e-01, -4.61597767e-01,  4.10890728e-01,  2.74043110e+00,\n",
       "        2.60192214e+00,  1.20965746e+00, -1.26827363e+00, -1.13613526e+00,\n",
       "        5.61819639e-01, -5.76345484e-01, -1.95510420e+00, -2.75314145e-01,\n",
       "       -1.16455707e+00,  4.39659147e-01,  8.35411795e-02, -9.89747472e-01,\n",
       "        8.41245833e-02, -6.46185042e-01, -9.80995580e-01,  5.69604885e-01,\n",
       "       -3.53858009e-01, -1.32752565e-01,  5.83652537e-01,  1.92575106e+00,\n",
       "       -2.67607466e-01,  2.23749494e-01, -5.47856153e-01,  7.18033313e-02,\n",
       "       -1.62408520e-01, -7.45659470e-01, -1.33280650e-01, -1.02597270e+00,\n",
       "       -1.47824604e+00, -1.26428923e-01, -1.71466782e+00,  6.77705364e-01,\n",
       "       -3.16499606e-01,  7.34294882e-01, -5.58099850e-01, -1.49123899e-03,\n",
       "       -1.66795023e+00,  1.74906569e+00,  9.45441920e-01, -6.38312058e-02,\n",
       "       -1.00887555e+00,  4.01759301e-01, -1.22798120e+00,  7.21398290e-01,\n",
       "       -1.23671072e+00, -3.24104025e-01,  1.05188811e+00, -2.11015043e-01,\n",
       "       -1.77702675e+00, -5.04610085e-01, -3.58051362e-02, -1.79370285e+00,\n",
       "        1.35200241e+00,  5.14649055e-01, -8.09365609e-01, -2.01758193e+00,\n",
       "       -9.21940784e-01,  9.85051658e-01, -4.59979482e-01,  1.31565813e-01,\n",
       "        8.22888266e-01,  5.57933119e-01,  1.47968980e+00, -7.23116586e-01,\n",
       "        6.32245638e-01,  2.40680571e-01,  9.63051845e-02,  2.37410768e-01,\n",
       "        2.41427331e-01, -3.30283573e-01, -1.07152838e+00, -1.65044235e+00,\n",
       "       -6.26627741e-01, -2.58486030e-02,  1.89586001e+00,  1.35639089e+00,\n",
       "       -4.23457303e-01, -3.65435531e-01,  4.35190188e-01,  2.94152900e-01,\n",
       "       -4.66696315e-01, -7.00566838e-01, -1.50486299e+00,  1.18185724e+00,\n",
       "        7.02211115e-01,  1.56209845e+00,  4.30362032e-01,  1.08221043e+00,\n",
       "        2.96255562e-01,  9.78459702e-01, -5.51937762e-01,  1.45932271e-01,\n",
       "        4.87688248e-01, -2.33658511e+00, -9.84859867e-01,  3.60971733e-01,\n",
       "       -1.21914724e-01, -2.75576731e-01, -1.86289017e-01,  4.40290151e-01,\n",
       "        1.36991180e+00,  1.36101271e-01, -1.42052459e+00,  1.57675076e+00,\n",
       "        9.53166539e-01, -7.68193053e-01, -3.34487715e-01,  6.89289342e-01,\n",
       "       -3.10485021e-01,  8.71767190e-01,  1.33480073e+00, -2.99306681e-01,\n",
       "       -3.60327203e-01, -1.95471364e+00,  9.79348993e-01,  3.62172434e-01,\n",
       "        7.67988330e-01, -5.01025178e-01, -2.27994204e-01, -1.07553862e+00,\n",
       "        4.26815347e-01, -1.19520311e+00, -1.86626921e+00,  9.47719642e-01,\n",
       "        1.10603980e+00, -1.29939697e+00,  1.90979126e+00,  1.21271207e+00,\n",
       "       -2.26395044e+00, -3.56488145e-01, -1.49508633e+00,  2.68372568e-01,\n",
       "       -7.52801751e-01,  2.16781478e-02, -3.72078817e-01,  1.19482320e+00,\n",
       "       -1.11755624e+00,  1.07766654e+00, -2.00033971e+00, -5.01853292e-01,\n",
       "       -6.24007199e-01, -4.21201477e-01, -5.30183849e-01, -5.09731667e-01,\n",
       "       -4.63555476e-01,  3.80677851e-01, -1.89547235e-01,  2.27910057e+00,\n",
       "       -3.49004573e-01,  4.26820320e-01, -5.04054968e-01,  1.90643176e+00,\n",
       "       -2.07517953e+00,  8.20029418e-01, -1.01073908e+00, -2.46681661e-01,\n",
       "       -3.27389435e-01,  1.27844811e+00,  9.85571493e-01, -1.07621223e+00,\n",
       "        1.49161697e+00,  1.70375108e+00, -5.42052749e-01, -4.55431950e-01,\n",
       "        1.98803105e+00,  4.38188565e-01, -1.13948631e+00,  8.13026338e-01,\n",
       "        1.97492166e+00,  5.24606846e-01,  1.43343396e-01, -8.36349824e-01,\n",
       "        1.34144339e+00, -6.20754519e-01, -3.52328815e-01, -5.51967194e-01,\n",
       "       -1.31933049e+00, -3.27586596e-01,  1.46297872e+00, -1.42176419e+00,\n",
       "        1.07613434e+00,  3.33750009e-01,  4.17276259e-01, -4.95964086e-01,\n",
       "        2.10056631e-01,  8.83244530e-01, -2.55401024e-01,  1.10385811e+00,\n",
       "       -1.11215849e+00,  4.27871868e-02, -8.29636252e-01, -1.12417489e+00,\n",
       "        1.92311433e+00,  1.02654483e-01,  6.68916483e-01,  1.25744283e-01,\n",
       "        1.03062760e+00,  1.61038428e+00, -2.21114417e+00,  6.95577464e-01,\n",
       "        6.43808396e-01, -7.81502242e-01, -4.32535764e-01,  6.81649749e-01,\n",
       "        1.09759126e+00,  1.09291809e+00, -7.87120393e-01, -2.91729681e-01,\n",
       "        1.09309827e+00, -3.62345427e-01,  3.93715269e+00,  1.00616850e+00,\n",
       "        7.59255224e-01,  4.97837569e-01, -3.42418642e-01,  3.88549195e-01,\n",
       "       -1.11640330e+00, -1.79458138e+00, -1.47664042e+00,  5.99785257e-01,\n",
       "        8.18685966e-01,  9.10101892e-02,  9.95258332e-01,  1.56774455e+00,\n",
       "        8.68905662e-01, -4.39962710e-01, -6.98129778e-01,  2.00536912e+00,\n",
       "       -9.77483847e-01,  3.82846825e-01,  2.63389035e+00, -3.48811925e-01,\n",
       "       -1.42565673e-01,  3.97270780e-01, -4.31104443e-01,  5.01256389e-01,\n",
       "       -1.27873605e-02,  2.76458248e-01,  1.41523983e+00, -2.71239583e-01,\n",
       "       -4.84863315e-02,  9.08778067e-01,  3.30622984e-01, -1.64202802e+00,\n",
       "       -1.57518352e-01, -9.06436905e-01, -5.55666319e-01,  1.17851337e+00,\n",
       "       -1.39220392e+00,  2.92672475e-01, -9.41460475e-01,  4.05873314e-01,\n",
       "        1.68904857e+00,  2.88627295e-01, -4.60591095e-02, -2.06826570e-02,\n",
       "        7.67635905e-01,  2.76250410e-01,  1.91973364e+00,  8.42072016e-01,\n",
       "       -2.56233872e+00,  1.60367799e+00,  1.63901460e+00,  1.08800129e-01,\n",
       "        5.17276027e-01, -8.59333748e-01, -4.56164009e-01,  1.09729780e+00,\n",
       "        4.55875360e-02,  8.96047445e-01, -9.82871083e-01,  3.17442572e-01,\n",
       "        6.36556724e-01, -8.30424171e-01,  2.58440268e-01,  8.66092009e-01,\n",
       "        9.29051050e-01, -1.81145863e-01, -3.12194084e-02,  4.13281344e-01,\n",
       "       -3.14739329e-01,  5.40678143e-01, -7.54862396e-01, -1.26786813e+00,\n",
       "        8.88507274e-01, -7.26224850e-01, -1.47792094e-01,  2.49049659e+00,\n",
       "       -3.97703936e-01,  1.60322788e+00, -3.60728413e-01,  1.25188028e+00,\n",
       "       -1.84544816e-01,  1.06566539e-01,  6.15283200e-01, -5.17299503e-01,\n",
       "       -4.87657938e-01,  1.05505368e+00, -1.79578991e-01, -6.30159239e-01,\n",
       "       -6.32357753e-01, -3.41946708e-01,  1.05396221e-01,  4.95463714e-01,\n",
       "        4.72042632e-02, -7.37762418e-01,  1.30614053e+00, -9.23892073e-01,\n",
       "       -1.98394830e+00, -5.07103724e-01, -9.25819131e-02, -6.72960745e-01,\n",
       "       -1.96571780e-01,  1.55729193e+00, -6.97849719e-01,  3.22621912e-01,\n",
       "       -2.13742706e-01,  4.47173593e-01, -6.57109080e-01,  1.27426300e-01,\n",
       "        1.88097809e+00,  1.38673385e+00,  7.08861854e-01, -2.88929911e+00,\n",
       "        2.10912027e-01,  5.30866732e-03, -9.07407879e-01,  1.63049596e+00,\n",
       "        2.49622645e+00,  5.84180119e-01,  3.12309072e-01, -3.23814193e+00,\n",
       "       -9.31226842e-01, -8.39130091e-01, -1.80673772e+00,  1.47139546e+00,\n",
       "       -3.71612316e-01,  1.66126501e-01,  1.36984702e-01, -1.14307144e+00,\n",
       "       -4.41570617e-01,  9.22815261e-01, -6.09857661e-01,  1.62705455e-01,\n",
       "        1.03816806e+00, -6.33840545e-01,  7.37569020e-01, -6.00618765e-01,\n",
       "       -4.88124679e-01, -1.57673246e+00, -2.71324202e+00,  5.84523673e-01,\n",
       "       -1.30076629e-01,  1.28289176e+00, -7.25446410e-01,  1.07164992e+00,\n",
       "        3.68796233e-01, -2.99991636e-01,  2.02053245e+00, -2.18871724e-01,\n",
       "        1.06378851e-01, -1.61322141e+00,  2.30453735e-01, -1.26493408e+00,\n",
       "        5.06907805e-01,  1.96909852e+00, -6.42197978e-01,  8.34193818e-01,\n",
       "        6.85755578e-03,  1.94143072e+00, -1.57615982e-01,  5.77438126e-01,\n",
       "        1.15432748e+00, -1.63725429e+00,  1.19050067e+00,  7.35812981e-01,\n",
       "        2.25214463e-01,  1.59290122e+00,  1.37399777e+00, -5.91986330e-01,\n",
       "        8.54081828e-02, -4.76117141e-01, -1.43099099e+00, -3.05948974e+00,\n",
       "        3.75860950e-01, -8.27767042e-01,  1.73072055e-01, -1.43349509e+00,\n",
       "       -7.29610718e-02, -3.52636972e-01, -1.26165518e+00,  6.34708372e-01,\n",
       "        5.61508043e-02, -1.04356588e-01, -7.80930903e-02, -1.21932191e+00,\n",
       "       -1.08525534e+00, -8.39861023e-02,  7.19079703e-01, -5.28589881e-01,\n",
       "        9.76525882e-01,  4.18497003e-01, -1.31375538e-01,  6.14677165e-01,\n",
       "       -1.30800111e+00, -1.04582893e-02,  1.54152750e-01, -1.80785099e+00,\n",
       "        3.74201779e-01,  7.10657322e-01, -9.25846549e-01,  4.32162810e-01,\n",
       "       -1.60953890e+00,  1.45559737e+00,  1.98193003e+00, -4.12401184e-01,\n",
       "        4.92773133e-01,  7.07283830e-01, -1.04795095e+00, -3.75774557e-01,\n",
       "        6.98121626e-01, -1.01479424e+00, -3.20721183e-01, -5.96810738e-01,\n",
       "       -9.67727662e-01,  1.10484800e+00, -5.81921159e-01, -9.75885630e-01,\n",
       "        1.46068071e+00, -1.70844681e-02,  3.81263958e-01, -6.32080977e-01,\n",
       "        9.66234697e-01,  8.44125597e-02, -1.47215264e+00, -1.34531401e+00,\n",
       "       -9.67725271e-02,  6.41278300e-01, -2.36751329e+00,  8.88582555e-01,\n",
       "        7.97665970e-01, -1.02083634e+00, -8.05709792e-01, -8.46604126e-02,\n",
       "       -4.42629395e-01,  2.40649558e+00, -6.63504425e-01,  1.10309893e+00,\n",
       "        6.54577941e-01,  2.57094655e+00,  2.88972824e-01,  2.10538451e+00,\n",
       "        3.58952554e-01, -2.12164195e-01, -9.71025101e-01, -8.98076521e-01,\n",
       "       -5.01304229e-01,  7.54878185e-01,  1.22072005e+00, -1.23892414e-01,\n",
       "       -1.77664125e-01,  1.96392010e-01,  1.32282391e-01,  6.38006675e-01,\n",
       "        7.70293740e-01, -4.19127350e-01,  5.68767545e-01,  4.58619373e-01,\n",
       "        1.00502968e-01, -4.85603177e-02,  8.00865018e-02, -1.76887178e+00,\n",
       "        1.03870192e+00,  9.31076454e-01,  9.58318608e-01, -6.56150053e-01,\n",
       "        1.22296689e+00,  8.66593097e-02, -5.57453552e-01, -7.35452309e-01,\n",
       "       -7.58095251e-01,  6.93845185e-01, -3.00149176e-01,  2.49240721e+00,\n",
       "        8.98764418e-01, -1.49346443e+00,  9.14992844e-01, -1.12588904e-01,\n",
       "       -8.02369888e-01,  9.02044970e-01, -9.42346387e-01, -6.08921344e-01,\n",
       "       -2.19118272e+00,  2.15049476e+00, -2.92289298e-01, -1.31939498e-02,\n",
       "       -1.42440990e-01,  9.48213901e-01, -4.64802299e-01,  6.05541020e-01,\n",
       "        1.55580550e+00,  4.49491653e-02, -6.85090436e-01,  4.31166662e-01,\n",
       "       -2.67321347e-01, -7.25583541e-01, -9.82949487e-02,  2.98942033e-01,\n",
       "        1.90703943e+00, -1.03581396e+00, -8.02654896e-02,  4.43531693e-02,\n",
       "        7.66782237e-02,  1.21819900e+00,  1.04818413e+00,  2.29802024e-01,\n",
       "       -1.74094321e+00,  2.04708800e+00, -2.14302669e+00,  1.71292563e+00,\n",
       "       -1.68571406e-01,  4.36057656e-01,  7.20156312e-02, -1.60979137e-01,\n",
       "       -1.94975095e-01,  8.33957991e-01,  1.69840621e+00, -8.94980384e-01,\n",
       "        1.62366316e-02, -7.35232320e-01, -8.44305560e-01,  8.05001465e-01,\n",
       "       -1.40217201e+00, -4.41637816e-01, -6.37560956e-01,  1.12820929e+00,\n",
       "       -1.61325431e-01,  1.59842937e+00, -9.66389342e-01,  6.80432079e-01,\n",
       "        8.56003018e-01, -2.51358077e-01, -1.51467250e+00,  7.16753321e-01,\n",
       "        1.68983884e+00, -2.44847695e+00, -1.47619029e+00,  1.26082554e+00,\n",
       "        4.93877382e-02,  4.33137131e-01, -4.61181648e-01,  1.34037399e+00,\n",
       "       -7.99626826e-03, -8.24310492e-01,  5.97730853e-01,  8.01629397e-01,\n",
       "        7.32859504e-02, -7.47729972e-01,  4.30757327e-01,  8.34794387e-01,\n",
       "        4.77226084e-01, -1.35158666e+00, -3.63166503e-01, -4.16101026e-01,\n",
       "        1.36074269e+00,  3.25879394e+00, -1.91336332e+00,  4.07903653e-02,\n",
       "       -9.32559366e-02,  8.65396349e-01, -1.48292785e-02, -5.82761911e-03,\n",
       "        2.66902102e-01, -9.84487629e-01, -6.44826181e-01, -3.54448762e-01,\n",
       "        3.18146511e-01, -4.52876635e-01, -2.06570783e+00,  1.77526780e+00,\n",
       "        6.64972164e-01, -6.56849276e-01,  2.24316208e+00, -1.58062493e-01,\n",
       "        1.74413388e+00, -2.45229667e-01, -5.21705481e-01,  2.70313891e-01,\n",
       "       -2.60125621e-01,  7.71168951e-02, -8.70943847e-01,  2.16877379e-01,\n",
       "        7.01678279e-01,  1.45529494e+00, -1.48013367e-01,  1.06779211e+00,\n",
       "       -5.41607351e-01,  3.33598212e+00,  1.98228956e+00,  3.31199098e-01,\n",
       "        1.08845435e+00,  1.16074448e+00, -9.34765845e-01, -1.16483085e+00,\n",
       "       -3.86651511e-01,  1.22017641e-02, -6.36910584e-02,  2.21958536e+00,\n",
       "       -2.89488334e-01, -9.97219651e-02, -1.30601753e-01,  1.94588552e-01,\n",
       "       -2.79441771e-02,  7.34214861e-01, -2.21405829e-02, -1.49527184e+00,\n",
       "        2.65545884e-01,  1.88816336e-01,  1.71814802e+00, -9.22238311e-01,\n",
       "        1.82263219e-01,  4.53031653e-01,  1.57824480e+00,  1.27395802e+00,\n",
       "        9.50676460e-02,  2.09717902e-01,  1.70110635e+00,  5.44307837e-01,\n",
       "        7.76451561e-02,  1.70959816e+00, -1.89945264e+00,  8.78579058e-01,\n",
       "       -1.09469879e+00, -4.98928018e-01,  1.89455745e+00, -3.06203835e-01,\n",
       "        5.42859558e-01,  5.84877703e-01,  2.08434335e-01,  1.11613942e+00,\n",
       "        1.15171967e+00,  1.88447967e+00, -1.26485221e+00, -7.87424833e-01,\n",
       "        1.53418114e+00,  3.59544809e-01, -1.07580527e+00,  1.06417665e+00,\n",
       "        9.18498310e-01,  9.92432092e-01,  1.96009393e+00,  1.78737481e-01,\n",
       "       -8.67439856e-01,  1.51408004e+00, -7.01511232e-01,  3.29356851e-01,\n",
       "       -1.16009507e+00,  1.22424441e+00,  8.21730222e-01, -1.56750307e-01,\n",
       "       -1.13252529e+00,  1.75657746e+00, -1.07122654e+00,  6.62878299e-01,\n",
       "       -1.64190929e+00,  1.42359148e+00,  1.19527037e+00, -5.52137217e-01,\n",
       "        2.06819266e+00,  3.53843647e-01,  4.30685901e-01, -2.95576208e-01,\n",
       "       -2.44655099e-01, -6.10831413e-01,  3.91488800e-01, -2.12244053e-01,\n",
       "        2.06761983e-01, -5.62300655e-01,  2.13573280e+00, -3.39921147e-01,\n",
       "        3.95291890e-01,  6.45639880e-01,  9.26214620e-01, -1.05781821e+00,\n",
       "        1.05393644e+00,  5.16760624e-01,  7.05221098e-01,  7.06988611e-02,\n",
       "       -7.57135865e-01, -1.60951602e-01,  5.94404647e-01, -1.40219597e-02,\n",
       "       -1.33113759e+00, -1.90422783e+00,  1.40117487e+00, -1.24420684e-02,\n",
       "       -2.72739330e-01,  2.83783617e-01,  1.87012634e-01, -8.13925222e-01,\n",
       "       -1.40119082e+00,  2.46922130e-01, -7.75680535e-01,  5.49460183e-01,\n",
       "       -3.10170770e-01,  1.07623658e+00, -2.07532592e-03,  3.71027660e-02,\n",
       "       -6.28252794e-01, -1.12233660e+00,  2.15937859e+00,  8.03328011e-01,\n",
       "        3.55917893e-01, -4.76735059e-01,  4.86804220e-02, -4.79167370e-01,\n",
       "        9.86756788e-01, -4.17311416e-02,  3.05908486e-02, -9.92356210e-01,\n",
       "       -3.06522479e-01, -2.46617585e+00, -6.54804915e-01, -8.92273327e-01,\n",
       "       -7.86235915e-01,  6.00189739e-01, -2.71947502e-01,  6.62984035e-02,\n",
       "       -1.23686161e+00, -1.21926514e+00, -1.34040303e+00,  1.27561982e+00,\n",
       "       -7.02953365e-01, -8.94375008e-01,  6.25911845e-01, -1.44363040e-01,\n",
       "        7.70155226e-01, -2.50927535e-01,  2.78695712e-01,  3.27726877e-01,\n",
       "        1.31338979e+00, -4.28638056e-01, -3.86819200e-01,  1.61128860e+00,\n",
       "       -2.40635397e+00,  6.25365374e-02, -1.18043668e+00, -5.58528399e-01,\n",
       "        3.08868305e-01,  1.48017988e-01,  3.55603830e-01,  2.45103949e-01,\n",
       "       -1.99497144e+00, -2.85152588e-01,  3.74849326e-01,  9.36415577e-01,\n",
       "       -1.13375416e+00,  1.53640519e-01, -5.43340180e-02,  9.63461535e-02,\n",
       "        9.00321623e-01,  1.66522967e-01, -1.61909527e+00,  1.86025140e-01,\n",
       "       -6.82726539e-02,  1.64196253e-01,  2.37698492e+00,  5.01657522e-01,\n",
       "       -5.28043199e-01, -6.96344415e-01,  5.73059943e-01, -7.26174720e-01,\n",
       "        5.05313966e-01,  5.37397694e-01, -1.33228659e+00, -1.48726119e+00,\n",
       "       -5.85874251e-01, -1.16194414e+00, -1.80701540e-01, -2.21400485e-01,\n",
       "       -5.04237357e-01, -7.21071649e-01,  5.60994064e-01, -2.01374121e-01,\n",
       "        1.30432251e+00,  1.08390820e+00, -4.93503027e-01, -7.63248612e-01,\n",
       "       -1.34423141e-01, -1.24174776e+00, -8.12478780e-01,  2.20409676e-01,\n",
       "        6.62303980e-01,  3.60842093e-01, -2.95933167e-01,  3.31405557e-01,\n",
       "       -1.28045370e+00, -4.91511154e-01, -1.41937177e+00, -3.01006852e-02,\n",
       "       -4.85187604e-01, -5.32102939e-01,  7.40400511e-01,  6.47959077e-01,\n",
       "       -2.04160053e-01, -3.05406356e-01,  6.24924294e-01,  3.02292064e-01,\n",
       "       -1.83635827e+00,  7.53336036e-01, -8.91902716e-01,  1.06572649e+00,\n",
       "       -1.00158263e-01,  4.40615974e-01,  4.91948848e-01, -4.93680609e-02,\n",
       "       -4.67622737e-01,  1.57668262e+00,  2.58483685e-02,  6.18623683e-01,\n",
       "       -3.75513039e-01,  2.22214075e+00,  3.48531189e-01,  1.36703415e-01,\n",
       "       -8.22871420e-01,  9.03991927e-01,  4.27495498e-01,  2.08225683e+00,\n",
       "       -7.61346461e-01,  1.67890959e-01,  1.96206009e+00,  7.10743320e-01,\n",
       "       -1.27433807e-01,  1.25078781e+00, -6.55734609e-01, -3.23515377e-01,\n",
       "        8.47242958e-01, -1.55217157e-01,  3.12011166e-01,  1.16024333e+00,\n",
       "        1.26938975e+00, -6.86803980e-01,  1.42695073e+00, -1.99709045e+00,\n",
       "       -8.03970191e-02, -7.08889611e-01,  9.93674366e-01,  1.43174267e-01,\n",
       "       -1.56440801e-01,  1.82272819e-01,  8.37082891e-01, -4.62071754e-01,\n",
       "       -1.87821520e+00, -1.53364186e+00,  8.38741367e-01,  9.21546026e-01,\n",
       "        1.76584037e+00,  5.92737639e-01,  5.57523853e-01,  8.38223400e-01,\n",
       "       -5.70098242e-01, -8.46505568e-02, -6.72267649e-01, -2.01000084e-01,\n",
       "       -1.66601146e-01, -9.22892692e-01,  1.50775827e+00, -8.10731512e-02,\n",
       "       -3.70307692e-01, -3.91054204e-01, -8.95973947e-01, -4.98093799e-01,\n",
       "        9.23514303e-01, -1.56111852e+00, -5.81035818e-01,  4.22957535e-02,\n",
       "       -4.82348674e-01,  5.88506049e-02, -1.13187045e+00,  7.66961347e-01,\n",
       "       -3.52300000e-02, -1.26388777e+00, -1.09551664e+00, -3.11442731e-01,\n",
       "        4.80348065e-01, -1.50263172e+00, -7.14871094e-01, -1.25915986e+00,\n",
       "       -1.11558180e+00,  3.98144501e-01,  5.61297200e-01, -6.96632990e-01,\n",
       "       -9.21629943e-02,  3.49100392e-01, -1.36894724e+00,  1.61352014e+00,\n",
       "        1.84839666e+00, -3.52397359e-01,  3.08716356e-01,  8.51150116e-01,\n",
       "        1.52418192e+00, -4.37686607e-01,  4.28547764e-01,  1.12459251e+00,\n",
       "        7.37393333e-01, -1.62527756e-01, -1.18128789e+00,  3.54761085e-01,\n",
       "       -1.08165002e+00,  5.40464509e-01, -3.04673973e-01, -3.07261910e-01,\n",
       "        1.48066404e+00,  1.14968183e-01,  5.19002709e-01,  8.64862292e-01,\n",
       "        7.31424877e-01, -1.47584754e+00, -1.35614146e-01, -9.93680467e-01,\n",
       "        4.73558644e-01, -1.50087295e-01, -4.75346271e-01, -6.21407646e-01,\n",
       "        3.22546677e-01,  7.99512136e-01, -5.05081651e-01, -5.22136395e-01,\n",
       "       -3.33003708e-01,  1.15694005e-01, -2.01130663e+00, -1.49452018e+00,\n",
       "        2.10474897e-01,  1.31464437e+00,  5.92763823e-01,  2.35471143e+00,\n",
       "        3.43291215e-01,  6.16364371e-01,  5.81571331e-01, -6.45685951e-01,\n",
       "        1.64195201e+00, -1.18238330e+00, -2.08099848e-01,  1.06922051e+00,\n",
       "        3.97812953e-01,  1.13147601e+00, -2.13697891e+00, -6.70683795e-01,\n",
       "        5.20413348e-01,  3.77319750e-01,  1.27323308e+00,  4.21567310e-01,\n",
       "       -4.82888099e-01, -3.96679777e-01,  2.02898822e+00,  4.28099429e-03,\n",
       "        1.69513321e-01,  8.38083480e-01, -2.32786402e+00, -5.23500513e-01,\n",
       "       -3.92235374e-01, -1.20202643e-01,  1.25036736e-01,  4.97100074e-01,\n",
       "       -1.16337278e-02,  1.16628376e+00, -7.86275074e-01, -8.42206910e-01,\n",
       "       -7.75280850e-01,  4.68127421e-01,  7.20296223e-01, -4.32684207e-01,\n",
       "        1.30966195e+00,  3.83543487e-01,  8.40054477e-02, -8.78819660e-01,\n",
       "        2.23528791e+00, -1.26675282e+00,  4.73333129e-01,  5.57853844e-01,\n",
       "       -4.40054994e-01, -1.34407560e+00, -1.02867530e+00, -9.06338229e-01,\n",
       "       -1.49032527e+00, -1.44267381e+00, -3.49160531e-01,  6.53292867e-01])"
      ]
     },
     "execution_count": 43,
     "metadata": {},
     "output_type": "execute_result"
    }
   ],
   "source": [
    "data = np.random.randn(1000)\n",
    "data"
   ]
  },
  {
   "cell_type": "code",
   "execution_count": 45,
   "id": "797fc64a",
   "metadata": {},
   "outputs": [
    {
     "data": {
      "text/plain": [
       "[(-3.239, -0.598], (-3.239, -0.598], (-0.598, 0.0238], (0.699, 3.937], (-0.598, 0.0238], ..., (-3.239, -0.598], (-3.239, -0.598], (-3.239, -0.598], (-0.598, 0.0238], (0.0238, 0.699]]\n",
       "Length: 1000\n",
       "Categories (4, interval[float64, right]): [(-3.239, -0.598] < (-0.598, 0.0238] < (0.0238, 0.699] < (0.699, 3.937]]"
      ]
     },
     "execution_count": 45,
     "metadata": {},
     "output_type": "execute_result"
    }
   ],
   "source": [
    "# qcut will bin the data based on sample quantiles\n",
    "# usually cut does to result in each bin having the same number of data points\n",
    "# but qcut results in roughly equal-sized bins\n",
    "cats = pd.qcut(data, 4)\n",
    "cats"
   ]
  },
  {
   "cell_type": "code",
   "execution_count": 46,
   "id": "3b886078",
   "metadata": {},
   "outputs": [
    {
     "data": {
      "text/plain": [
       "(-3.239, -0.598]    250\n",
       "(-0.598, 0.0238]    250\n",
       "(0.0238, 0.699]     250\n",
       "(0.699, 3.937]      250\n",
       "dtype: int64"
      ]
     },
     "execution_count": 46,
     "metadata": {},
     "output_type": "execute_result"
    }
   ],
   "source": [
    "pd.value_counts(cats)"
   ]
  },
  {
   "cell_type": "code",
   "execution_count": 48,
   "id": "9ffec63c",
   "metadata": {},
   "outputs": [
    {
     "data": {
      "text/plain": [
       "[(-1.198, 0.0238], (-3.239, -1.198], (-1.198, 0.0238], (1.342, 3.937], (-1.198, 0.0238], ..., (-1.198, 0.0238], (-3.239, -1.198], (-3.239, -1.198], (-1.198, 0.0238], (0.0238, 1.342]]\n",
       "Length: 1000\n",
       "Categories (4, interval[float64, right]): [(-3.239, -1.198] < (-1.198, 0.0238] < (0.0238, 1.342] < (1.342, 3.937]]"
      ]
     },
     "execution_count": 48,
     "metadata": {},
     "output_type": "execute_result"
    }
   ],
   "source": [
    "# we can also pass our own quantiles\n",
    "cats = pd.qcut(data, [0, 0.1, 0.5, 0.9, 1])\n",
    "cats"
   ]
  },
  {
   "cell_type": "code",
   "execution_count": 49,
   "id": "1ea25809",
   "metadata": {},
   "outputs": [
    {
     "data": {
      "text/plain": [
       "(-1.198, 0.0238]    400\n",
       "(0.0238, 1.342]     400\n",
       "(-3.239, -1.198]    100\n",
       "(1.342, 3.937]      100\n",
       "dtype: int64"
      ]
     },
     "execution_count": 49,
     "metadata": {},
     "output_type": "execute_result"
    }
   ],
   "source": [
    "pd.value_counts(cats)"
   ]
  },
  {
   "cell_type": "markdown",
   "id": "29b52ea8",
   "metadata": {},
   "source": [
    "### Detecting and Filtering outliers"
   ]
  },
  {
   "cell_type": "code",
   "execution_count": 52,
   "id": "4e99a106",
   "metadata": {},
   "outputs": [
    {
     "data": {
      "text/html": [
       "<div>\n",
       "<style scoped>\n",
       "    .dataframe tbody tr th:only-of-type {\n",
       "        vertical-align: middle;\n",
       "    }\n",
       "\n",
       "    .dataframe tbody tr th {\n",
       "        vertical-align: top;\n",
       "    }\n",
       "\n",
       "    .dataframe thead th {\n",
       "        text-align: right;\n",
       "    }\n",
       "</style>\n",
       "<table border=\"1\" class=\"dataframe\">\n",
       "  <thead>\n",
       "    <tr style=\"text-align: right;\">\n",
       "      <th></th>\n",
       "      <th>0</th>\n",
       "      <th>1</th>\n",
       "      <th>2</th>\n",
       "      <th>3</th>\n",
       "    </tr>\n",
       "  </thead>\n",
       "  <tbody>\n",
       "    <tr>\n",
       "      <th>0</th>\n",
       "      <td>-0.602741</td>\n",
       "      <td>-1.914017</td>\n",
       "      <td>1.001027</td>\n",
       "      <td>0.122792</td>\n",
       "    </tr>\n",
       "    <tr>\n",
       "      <th>1</th>\n",
       "      <td>0.287530</td>\n",
       "      <td>0.630660</td>\n",
       "      <td>0.462395</td>\n",
       "      <td>-0.705865</td>\n",
       "    </tr>\n",
       "    <tr>\n",
       "      <th>2</th>\n",
       "      <td>0.838517</td>\n",
       "      <td>-0.950752</td>\n",
       "      <td>0.008756</td>\n",
       "      <td>0.151138</td>\n",
       "    </tr>\n",
       "    <tr>\n",
       "      <th>3</th>\n",
       "      <td>-0.471772</td>\n",
       "      <td>1.269986</td>\n",
       "      <td>-0.266072</td>\n",
       "      <td>-0.851315</td>\n",
       "    </tr>\n",
       "    <tr>\n",
       "      <th>4</th>\n",
       "      <td>1.246659</td>\n",
       "      <td>0.974355</td>\n",
       "      <td>1.528800</td>\n",
       "      <td>-0.221800</td>\n",
       "    </tr>\n",
       "    <tr>\n",
       "      <th>...</th>\n",
       "      <td>...</td>\n",
       "      <td>...</td>\n",
       "      <td>...</td>\n",
       "      <td>...</td>\n",
       "    </tr>\n",
       "    <tr>\n",
       "      <th>995</th>\n",
       "      <td>-0.243219</td>\n",
       "      <td>-0.135802</td>\n",
       "      <td>-0.285111</td>\n",
       "      <td>0.530592</td>\n",
       "    </tr>\n",
       "    <tr>\n",
       "      <th>996</th>\n",
       "      <td>-1.736700</td>\n",
       "      <td>-1.838425</td>\n",
       "      <td>0.349591</td>\n",
       "      <td>-1.427196</td>\n",
       "    </tr>\n",
       "    <tr>\n",
       "      <th>997</th>\n",
       "      <td>0.101353</td>\n",
       "      <td>-1.102801</td>\n",
       "      <td>-0.884345</td>\n",
       "      <td>-0.089015</td>\n",
       "    </tr>\n",
       "    <tr>\n",
       "      <th>998</th>\n",
       "      <td>-0.533154</td>\n",
       "      <td>0.724358</td>\n",
       "      <td>-0.227200</td>\n",
       "      <td>0.006287</td>\n",
       "    </tr>\n",
       "    <tr>\n",
       "      <th>999</th>\n",
       "      <td>-2.098587</td>\n",
       "      <td>1.396923</td>\n",
       "      <td>0.489805</td>\n",
       "      <td>-0.261741</td>\n",
       "    </tr>\n",
       "  </tbody>\n",
       "</table>\n",
       "<p>1000 rows × 4 columns</p>\n",
       "</div>"
      ],
      "text/plain": [
       "            0         1         2         3\n",
       "0   -0.602741 -1.914017  1.001027  0.122792\n",
       "1    0.287530  0.630660  0.462395 -0.705865\n",
       "2    0.838517 -0.950752  0.008756  0.151138\n",
       "3   -0.471772  1.269986 -0.266072 -0.851315\n",
       "4    1.246659  0.974355  1.528800 -0.221800\n",
       "..        ...       ...       ...       ...\n",
       "995 -0.243219 -0.135802 -0.285111  0.530592\n",
       "996 -1.736700 -1.838425  0.349591 -1.427196\n",
       "997  0.101353 -1.102801 -0.884345 -0.089015\n",
       "998 -0.533154  0.724358 -0.227200  0.006287\n",
       "999 -2.098587  1.396923  0.489805 -0.261741\n",
       "\n",
       "[1000 rows x 4 columns]"
      ]
     },
     "execution_count": 52,
     "metadata": {},
     "output_type": "execute_result"
    }
   ],
   "source": [
    "data = pd.DataFrame(np.random.randn(1000, 4))\n",
    "data"
   ]
  },
  {
   "cell_type": "code",
   "execution_count": 51,
   "id": "4695bc21",
   "metadata": {},
   "outputs": [
    {
     "data": {
      "text/html": [
       "<div>\n",
       "<style scoped>\n",
       "    .dataframe tbody tr th:only-of-type {\n",
       "        vertical-align: middle;\n",
       "    }\n",
       "\n",
       "    .dataframe tbody tr th {\n",
       "        vertical-align: top;\n",
       "    }\n",
       "\n",
       "    .dataframe thead th {\n",
       "        text-align: right;\n",
       "    }\n",
       "</style>\n",
       "<table border=\"1\" class=\"dataframe\">\n",
       "  <thead>\n",
       "    <tr style=\"text-align: right;\">\n",
       "      <th></th>\n",
       "      <th>0</th>\n",
       "      <th>1</th>\n",
       "      <th>2</th>\n",
       "      <th>3</th>\n",
       "    </tr>\n",
       "  </thead>\n",
       "  <tbody>\n",
       "    <tr>\n",
       "      <th>count</th>\n",
       "      <td>1000.000000</td>\n",
       "      <td>1000.000000</td>\n",
       "      <td>1000.000000</td>\n",
       "      <td>1000.000000</td>\n",
       "    </tr>\n",
       "    <tr>\n",
       "      <th>mean</th>\n",
       "      <td>0.032390</td>\n",
       "      <td>-0.020908</td>\n",
       "      <td>0.000712</td>\n",
       "      <td>-0.012014</td>\n",
       "    </tr>\n",
       "    <tr>\n",
       "      <th>std</th>\n",
       "      <td>0.972431</td>\n",
       "      <td>0.964613</td>\n",
       "      <td>0.995895</td>\n",
       "      <td>0.983268</td>\n",
       "    </tr>\n",
       "    <tr>\n",
       "      <th>min</th>\n",
       "      <td>-3.353052</td>\n",
       "      <td>-2.758945</td>\n",
       "      <td>-3.737638</td>\n",
       "      <td>-3.216224</td>\n",
       "    </tr>\n",
       "    <tr>\n",
       "      <th>25%</th>\n",
       "      <td>-0.576370</td>\n",
       "      <td>-0.667037</td>\n",
       "      <td>-0.668830</td>\n",
       "      <td>-0.676661</td>\n",
       "    </tr>\n",
       "    <tr>\n",
       "      <th>50%</th>\n",
       "      <td>0.006649</td>\n",
       "      <td>-0.027533</td>\n",
       "      <td>0.017716</td>\n",
       "      <td>-0.044206</td>\n",
       "    </tr>\n",
       "    <tr>\n",
       "      <th>75%</th>\n",
       "      <td>0.663112</td>\n",
       "      <td>0.611605</td>\n",
       "      <td>0.703865</td>\n",
       "      <td>0.688035</td>\n",
       "    </tr>\n",
       "    <tr>\n",
       "      <th>max</th>\n",
       "      <td>3.187110</td>\n",
       "      <td>2.765438</td>\n",
       "      <td>3.242484</td>\n",
       "      <td>3.806143</td>\n",
       "    </tr>\n",
       "  </tbody>\n",
       "</table>\n",
       "</div>"
      ],
      "text/plain": [
       "                 0            1            2            3\n",
       "count  1000.000000  1000.000000  1000.000000  1000.000000\n",
       "mean      0.032390    -0.020908     0.000712    -0.012014\n",
       "std       0.972431     0.964613     0.995895     0.983268\n",
       "min      -3.353052    -2.758945    -3.737638    -3.216224\n",
       "25%      -0.576370    -0.667037    -0.668830    -0.676661\n",
       "50%       0.006649    -0.027533     0.017716    -0.044206\n",
       "75%       0.663112     0.611605     0.703865     0.688035\n",
       "max       3.187110     2.765438     3.242484     3.806143"
      ]
     },
     "execution_count": 51,
     "metadata": {},
     "output_type": "execute_result"
    }
   ],
   "source": [
    "data.describe()"
   ]
  },
  {
   "cell_type": "code",
   "execution_count": 53,
   "id": "d8ac7408",
   "metadata": {},
   "outputs": [
    {
     "data": {
      "text/plain": [
       "142   -3.100257\n",
       "143    3.486410\n",
       "465   -3.592826\n",
       "Name: 2, dtype: float64"
      ]
     },
     "execution_count": 53,
     "metadata": {},
     "output_type": "execute_result"
    }
   ],
   "source": [
    "# suppose we want to find values in one columns that exceeds 3 in absolute value\n",
    "col = data[2]\n",
    "col[np.abs(col) > 3]"
   ]
  },
  {
   "cell_type": "code",
   "execution_count": 54,
   "id": "b0f66793",
   "metadata": {},
   "outputs": [
    {
     "data": {
      "text/html": [
       "<div>\n",
       "<style scoped>\n",
       "    .dataframe tbody tr th:only-of-type {\n",
       "        vertical-align: middle;\n",
       "    }\n",
       "\n",
       "    .dataframe tbody tr th {\n",
       "        vertical-align: top;\n",
       "    }\n",
       "\n",
       "    .dataframe thead th {\n",
       "        text-align: right;\n",
       "    }\n",
       "</style>\n",
       "<table border=\"1\" class=\"dataframe\">\n",
       "  <thead>\n",
       "    <tr style=\"text-align: right;\">\n",
       "      <th></th>\n",
       "      <th>0</th>\n",
       "      <th>1</th>\n",
       "      <th>2</th>\n",
       "      <th>3</th>\n",
       "    </tr>\n",
       "  </thead>\n",
       "  <tbody>\n",
       "    <tr>\n",
       "      <th>142</th>\n",
       "      <td>1.219873</td>\n",
       "      <td>-0.700736</td>\n",
       "      <td>-3.100257</td>\n",
       "      <td>-0.490328</td>\n",
       "    </tr>\n",
       "    <tr>\n",
       "      <th>143</th>\n",
       "      <td>1.705364</td>\n",
       "      <td>-1.578445</td>\n",
       "      <td>3.486410</td>\n",
       "      <td>-1.997214</td>\n",
       "    </tr>\n",
       "    <tr>\n",
       "      <th>213</th>\n",
       "      <td>3.011729</td>\n",
       "      <td>0.041818</td>\n",
       "      <td>0.651960</td>\n",
       "      <td>1.215590</td>\n",
       "    </tr>\n",
       "    <tr>\n",
       "      <th>465</th>\n",
       "      <td>-1.237052</td>\n",
       "      <td>0.141069</td>\n",
       "      <td>-3.592826</td>\n",
       "      <td>1.953991</td>\n",
       "    </tr>\n",
       "    <tr>\n",
       "      <th>585</th>\n",
       "      <td>3.469427</td>\n",
       "      <td>-0.849585</td>\n",
       "      <td>-0.715590</td>\n",
       "      <td>0.624377</td>\n",
       "    </tr>\n",
       "    <tr>\n",
       "      <th>708</th>\n",
       "      <td>0.439652</td>\n",
       "      <td>3.020274</td>\n",
       "      <td>0.595352</td>\n",
       "      <td>-1.522286</td>\n",
       "    </tr>\n",
       "    <tr>\n",
       "      <th>958</th>\n",
       "      <td>-3.109219</td>\n",
       "      <td>-0.152766</td>\n",
       "      <td>0.221647</td>\n",
       "      <td>1.539188</td>\n",
       "    </tr>\n",
       "  </tbody>\n",
       "</table>\n",
       "</div>"
      ],
      "text/plain": [
       "            0         1         2         3\n",
       "142  1.219873 -0.700736 -3.100257 -0.490328\n",
       "143  1.705364 -1.578445  3.486410 -1.997214\n",
       "213  3.011729  0.041818  0.651960  1.215590\n",
       "465 -1.237052  0.141069 -3.592826  1.953991\n",
       "585  3.469427 -0.849585 -0.715590  0.624377\n",
       "708  0.439652  3.020274  0.595352 -1.522286\n",
       "958 -3.109219 -0.152766  0.221647  1.539188"
      ]
     },
     "execution_count": 54,
     "metadata": {},
     "output_type": "execute_result"
    }
   ],
   "source": [
    "# to select all rows having a value exceeding 3 or -3\n",
    "data[(np.abs(data) > 3).any(1)]"
   ]
  },
  {
   "cell_type": "code",
   "execution_count": 56,
   "id": "b909715a",
   "metadata": {},
   "outputs": [
    {
     "data": {
      "text/html": [
       "<div>\n",
       "<style scoped>\n",
       "    .dataframe tbody tr th:only-of-type {\n",
       "        vertical-align: middle;\n",
       "    }\n",
       "\n",
       "    .dataframe tbody tr th {\n",
       "        vertical-align: top;\n",
       "    }\n",
       "\n",
       "    .dataframe thead th {\n",
       "        text-align: right;\n",
       "    }\n",
       "</style>\n",
       "<table border=\"1\" class=\"dataframe\">\n",
       "  <thead>\n",
       "    <tr style=\"text-align: right;\">\n",
       "      <th></th>\n",
       "      <th>0</th>\n",
       "      <th>1</th>\n",
       "      <th>2</th>\n",
       "      <th>3</th>\n",
       "    </tr>\n",
       "  </thead>\n",
       "  <tbody>\n",
       "    <tr>\n",
       "      <th>count</th>\n",
       "      <td>1000.000000</td>\n",
       "      <td>1000.000000</td>\n",
       "      <td>1000.000000</td>\n",
       "      <td>1000.000000</td>\n",
       "    </tr>\n",
       "    <tr>\n",
       "      <th>mean</th>\n",
       "      <td>-0.021665</td>\n",
       "      <td>-0.064484</td>\n",
       "      <td>-0.026089</td>\n",
       "      <td>-0.019826</td>\n",
       "    </tr>\n",
       "    <tr>\n",
       "      <th>std</th>\n",
       "      <td>0.974416</td>\n",
       "      <td>1.003024</td>\n",
       "      <td>0.982220</td>\n",
       "      <td>1.015720</td>\n",
       "    </tr>\n",
       "    <tr>\n",
       "      <th>min</th>\n",
       "      <td>-3.000000</td>\n",
       "      <td>-2.948193</td>\n",
       "      <td>-3.000000</td>\n",
       "      <td>-2.762057</td>\n",
       "    </tr>\n",
       "    <tr>\n",
       "      <th>25%</th>\n",
       "      <td>-0.686123</td>\n",
       "      <td>-0.742015</td>\n",
       "      <td>-0.708716</td>\n",
       "      <td>-0.741289</td>\n",
       "    </tr>\n",
       "    <tr>\n",
       "      <th>50%</th>\n",
       "      <td>-0.008324</td>\n",
       "      <td>-0.060077</td>\n",
       "      <td>-0.050735</td>\n",
       "      <td>-0.010661</td>\n",
       "    </tr>\n",
       "    <tr>\n",
       "      <th>75%</th>\n",
       "      <td>0.688259</td>\n",
       "      <td>0.610844</td>\n",
       "      <td>0.665717</td>\n",
       "      <td>0.669418</td>\n",
       "    </tr>\n",
       "    <tr>\n",
       "      <th>max</th>\n",
       "      <td>3.000000</td>\n",
       "      <td>3.000000</td>\n",
       "      <td>3.000000</td>\n",
       "      <td>2.870856</td>\n",
       "    </tr>\n",
       "  </tbody>\n",
       "</table>\n",
       "</div>"
      ],
      "text/plain": [
       "                 0            1            2            3\n",
       "count  1000.000000  1000.000000  1000.000000  1000.000000\n",
       "mean     -0.021665    -0.064484    -0.026089    -0.019826\n",
       "std       0.974416     1.003024     0.982220     1.015720\n",
       "min      -3.000000    -2.948193    -3.000000    -2.762057\n",
       "25%      -0.686123    -0.742015    -0.708716    -0.741289\n",
       "50%      -0.008324    -0.060077    -0.050735    -0.010661\n",
       "75%       0.688259     0.610844     0.665717     0.669418\n",
       "max       3.000000     3.000000     3.000000     2.870856"
      ]
     },
     "execution_count": 56,
     "metadata": {},
     "output_type": "execute_result"
    }
   ],
   "source": [
    "# code to cap values b/w 3 and -3\n",
    "data[np.abs(data) > 3] = np.sign(data) * 3 # np.sign produces 1 and -1 values based on if the valie is positive or nrgative\n",
    "data.describe()"
   ]
  },
  {
   "cell_type": "code",
   "execution_count": 58,
   "id": "b2181077",
   "metadata": {},
   "outputs": [
    {
     "data": {
      "text/html": [
       "<div>\n",
       "<style scoped>\n",
       "    .dataframe tbody tr th:only-of-type {\n",
       "        vertical-align: middle;\n",
       "    }\n",
       "\n",
       "    .dataframe tbody tr th {\n",
       "        vertical-align: top;\n",
       "    }\n",
       "\n",
       "    .dataframe thead th {\n",
       "        text-align: right;\n",
       "    }\n",
       "</style>\n",
       "<table border=\"1\" class=\"dataframe\">\n",
       "  <thead>\n",
       "    <tr style=\"text-align: right;\">\n",
       "      <th></th>\n",
       "      <th>0</th>\n",
       "      <th>1</th>\n",
       "      <th>2</th>\n",
       "      <th>3</th>\n",
       "    </tr>\n",
       "  </thead>\n",
       "  <tbody>\n",
       "    <tr>\n",
       "      <th>0</th>\n",
       "      <td>-1.0</td>\n",
       "      <td>-1.0</td>\n",
       "      <td>1.0</td>\n",
       "      <td>1.0</td>\n",
       "    </tr>\n",
       "    <tr>\n",
       "      <th>1</th>\n",
       "      <td>1.0</td>\n",
       "      <td>1.0</td>\n",
       "      <td>1.0</td>\n",
       "      <td>-1.0</td>\n",
       "    </tr>\n",
       "    <tr>\n",
       "      <th>2</th>\n",
       "      <td>1.0</td>\n",
       "      <td>-1.0</td>\n",
       "      <td>1.0</td>\n",
       "      <td>1.0</td>\n",
       "    </tr>\n",
       "    <tr>\n",
       "      <th>3</th>\n",
       "      <td>-1.0</td>\n",
       "      <td>1.0</td>\n",
       "      <td>-1.0</td>\n",
       "      <td>-1.0</td>\n",
       "    </tr>\n",
       "    <tr>\n",
       "      <th>4</th>\n",
       "      <td>1.0</td>\n",
       "      <td>1.0</td>\n",
       "      <td>1.0</td>\n",
       "      <td>-1.0</td>\n",
       "    </tr>\n",
       "  </tbody>\n",
       "</table>\n",
       "</div>"
      ],
      "text/plain": [
       "     0    1    2    3\n",
       "0 -1.0 -1.0  1.0  1.0\n",
       "1  1.0  1.0  1.0 -1.0\n",
       "2  1.0 -1.0  1.0  1.0\n",
       "3 -1.0  1.0 -1.0 -1.0\n",
       "4  1.0  1.0  1.0 -1.0"
      ]
     },
     "execution_count": 58,
     "metadata": {},
     "output_type": "execute_result"
    }
   ],
   "source": [
    "np.sign(data).head()"
   ]
  },
  {
   "cell_type": "markdown",
   "id": "39e2a9fe",
   "metadata": {},
   "source": [
    "### Permutation and Random Sampling\n",
    "A permutation is basically a specific arrangement"
   ]
  },
  {
   "cell_type": "code",
   "execution_count": 59,
   "id": "1d69c531",
   "metadata": {},
   "outputs": [
    {
     "data": {
      "text/plain": [
       "array([4, 1, 3, 2, 0])"
      ]
     },
     "execution_count": 59,
     "metadata": {},
     "output_type": "execute_result"
    }
   ],
   "source": [
    "df = pd.DataFrame(np.arange(5 * 4).reshape(5, 4))\n",
    "# we use permutaion to genearte a permutation by passing the lenth of value to be permutated\n",
    "sampler = np.random.permutation(5) \n",
    "sampler"
   ]
  },
  {
   "cell_type": "code",
   "execution_count": 60,
   "id": "8bf8bde0",
   "metadata": {},
   "outputs": [
    {
     "data": {
      "text/html": [
       "<div>\n",
       "<style scoped>\n",
       "    .dataframe tbody tr th:only-of-type {\n",
       "        vertical-align: middle;\n",
       "    }\n",
       "\n",
       "    .dataframe tbody tr th {\n",
       "        vertical-align: top;\n",
       "    }\n",
       "\n",
       "    .dataframe thead th {\n",
       "        text-align: right;\n",
       "    }\n",
       "</style>\n",
       "<table border=\"1\" class=\"dataframe\">\n",
       "  <thead>\n",
       "    <tr style=\"text-align: right;\">\n",
       "      <th></th>\n",
       "      <th>0</th>\n",
       "      <th>1</th>\n",
       "      <th>2</th>\n",
       "      <th>3</th>\n",
       "    </tr>\n",
       "  </thead>\n",
       "  <tbody>\n",
       "    <tr>\n",
       "      <th>0</th>\n",
       "      <td>0</td>\n",
       "      <td>1</td>\n",
       "      <td>2</td>\n",
       "      <td>3</td>\n",
       "    </tr>\n",
       "    <tr>\n",
       "      <th>1</th>\n",
       "      <td>4</td>\n",
       "      <td>5</td>\n",
       "      <td>6</td>\n",
       "      <td>7</td>\n",
       "    </tr>\n",
       "    <tr>\n",
       "      <th>2</th>\n",
       "      <td>8</td>\n",
       "      <td>9</td>\n",
       "      <td>10</td>\n",
       "      <td>11</td>\n",
       "    </tr>\n",
       "    <tr>\n",
       "      <th>3</th>\n",
       "      <td>12</td>\n",
       "      <td>13</td>\n",
       "      <td>14</td>\n",
       "      <td>15</td>\n",
       "    </tr>\n",
       "    <tr>\n",
       "      <th>4</th>\n",
       "      <td>16</td>\n",
       "      <td>17</td>\n",
       "      <td>18</td>\n",
       "      <td>19</td>\n",
       "    </tr>\n",
       "  </tbody>\n",
       "</table>\n",
       "</div>"
      ],
      "text/plain": [
       "    0   1   2   3\n",
       "0   0   1   2   3\n",
       "1   4   5   6   7\n",
       "2   8   9  10  11\n",
       "3  12  13  14  15\n",
       "4  16  17  18  19"
      ]
     },
     "execution_count": 60,
     "metadata": {},
     "output_type": "execute_result"
    }
   ],
   "source": [
    "df"
   ]
  },
  {
   "cell_type": "code",
   "execution_count": 61,
   "id": "8bf24c0a",
   "metadata": {},
   "outputs": [
    {
     "data": {
      "text/html": [
       "<div>\n",
       "<style scoped>\n",
       "    .dataframe tbody tr th:only-of-type {\n",
       "        vertical-align: middle;\n",
       "    }\n",
       "\n",
       "    .dataframe tbody tr th {\n",
       "        vertical-align: top;\n",
       "    }\n",
       "\n",
       "    .dataframe thead th {\n",
       "        text-align: right;\n",
       "    }\n",
       "</style>\n",
       "<table border=\"1\" class=\"dataframe\">\n",
       "  <thead>\n",
       "    <tr style=\"text-align: right;\">\n",
       "      <th></th>\n",
       "      <th>0</th>\n",
       "      <th>1</th>\n",
       "      <th>2</th>\n",
       "      <th>3</th>\n",
       "    </tr>\n",
       "  </thead>\n",
       "  <tbody>\n",
       "    <tr>\n",
       "      <th>4</th>\n",
       "      <td>16</td>\n",
       "      <td>17</td>\n",
       "      <td>18</td>\n",
       "      <td>19</td>\n",
       "    </tr>\n",
       "    <tr>\n",
       "      <th>1</th>\n",
       "      <td>4</td>\n",
       "      <td>5</td>\n",
       "      <td>6</td>\n",
       "      <td>7</td>\n",
       "    </tr>\n",
       "    <tr>\n",
       "      <th>3</th>\n",
       "      <td>12</td>\n",
       "      <td>13</td>\n",
       "      <td>14</td>\n",
       "      <td>15</td>\n",
       "    </tr>\n",
       "    <tr>\n",
       "      <th>2</th>\n",
       "      <td>8</td>\n",
       "      <td>9</td>\n",
       "      <td>10</td>\n",
       "      <td>11</td>\n",
       "    </tr>\n",
       "    <tr>\n",
       "      <th>0</th>\n",
       "      <td>0</td>\n",
       "      <td>1</td>\n",
       "      <td>2</td>\n",
       "      <td>3</td>\n",
       "    </tr>\n",
       "  </tbody>\n",
       "</table>\n",
       "</div>"
      ],
      "text/plain": [
       "    0   1   2   3\n",
       "4  16  17  18  19\n",
       "1   4   5   6   7\n",
       "3  12  13  14  15\n",
       "2   8   9  10  11\n",
       "0   0   1   2   3"
      ]
     },
     "execution_count": 61,
     "metadata": {},
     "output_type": "execute_result"
    }
   ],
   "source": [
    "df.take(sampler)"
   ]
  },
  {
   "cell_type": "code",
   "execution_count": 63,
   "id": "843976f7",
   "metadata": {},
   "outputs": [
    {
     "data": {
      "text/html": [
       "<div>\n",
       "<style scoped>\n",
       "    .dataframe tbody tr th:only-of-type {\n",
       "        vertical-align: middle;\n",
       "    }\n",
       "\n",
       "    .dataframe tbody tr th {\n",
       "        vertical-align: top;\n",
       "    }\n",
       "\n",
       "    .dataframe thead th {\n",
       "        text-align: right;\n",
       "    }\n",
       "</style>\n",
       "<table border=\"1\" class=\"dataframe\">\n",
       "  <thead>\n",
       "    <tr style=\"text-align: right;\">\n",
       "      <th></th>\n",
       "      <th>0</th>\n",
       "      <th>1</th>\n",
       "      <th>2</th>\n",
       "      <th>3</th>\n",
       "    </tr>\n",
       "  </thead>\n",
       "  <tbody>\n",
       "    <tr>\n",
       "      <th>4</th>\n",
       "      <td>16</td>\n",
       "      <td>17</td>\n",
       "      <td>18</td>\n",
       "      <td>19</td>\n",
       "    </tr>\n",
       "    <tr>\n",
       "      <th>1</th>\n",
       "      <td>4</td>\n",
       "      <td>5</td>\n",
       "      <td>6</td>\n",
       "      <td>7</td>\n",
       "    </tr>\n",
       "    <tr>\n",
       "      <th>2</th>\n",
       "      <td>8</td>\n",
       "      <td>9</td>\n",
       "      <td>10</td>\n",
       "      <td>11</td>\n",
       "    </tr>\n",
       "  </tbody>\n",
       "</table>\n",
       "</div>"
      ],
      "text/plain": [
       "    0   1   2   3\n",
       "4  16  17  18  19\n",
       "1   4   5   6   7\n",
       "2   8   9  10  11"
      ]
     },
     "execution_count": 63,
     "metadata": {},
     "output_type": "execute_result"
    }
   ],
   "source": [
    "# sample - to select a random subset without any repetions \n",
    "df.sample(n=3) # n is th enumber of rows"
   ]
  },
  {
   "cell_type": "code",
   "execution_count": 64,
   "id": "b44b49e7",
   "metadata": {},
   "outputs": [
    {
     "data": {
      "text/plain": [
       "4    4\n",
       "1    7\n",
       "2   -1\n",
       "1    7\n",
       "2   -1\n",
       "3    6\n",
       "2   -1\n",
       "1    7\n",
       "4    4\n",
       "4    4\n",
       "dtype: int64"
      ]
     },
     "execution_count": 64,
     "metadata": {},
     "output_type": "execute_result"
    }
   ],
   "source": [
    "# to allow for repetitions we pass replace=True in sample()\n",
    "choices = pd.Series([5, 7, -1, 6, 4])\n",
    "draws = choices.sample(n=10, replace=True)\n",
    "draws"
   ]
  },
  {
   "cell_type": "markdown",
   "id": "8fc10d46",
   "metadata": {},
   "source": [
    "### Computing Indicator/Dummy Variables\n",
    "A major thing in ML is to converting categorical data into a 'dummy' or 'indicator' matrix\n",
    "If a column as k distinct values\n",
    "We would derive a matrix/dataframe with k columns contianing only 0's and 1's"
   ]
  },
  {
   "cell_type": "code",
   "execution_count": 66,
   "id": "b5d0c6e2",
   "metadata": {},
   "outputs": [
    {
     "data": {
      "text/html": [
       "<div>\n",
       "<style scoped>\n",
       "    .dataframe tbody tr th:only-of-type {\n",
       "        vertical-align: middle;\n",
       "    }\n",
       "\n",
       "    .dataframe tbody tr th {\n",
       "        vertical-align: top;\n",
       "    }\n",
       "\n",
       "    .dataframe thead th {\n",
       "        text-align: right;\n",
       "    }\n",
       "</style>\n",
       "<table border=\"1\" class=\"dataframe\">\n",
       "  <thead>\n",
       "    <tr style=\"text-align: right;\">\n",
       "      <th></th>\n",
       "      <th>key</th>\n",
       "      <th>data1</th>\n",
       "    </tr>\n",
       "  </thead>\n",
       "  <tbody>\n",
       "    <tr>\n",
       "      <th>0</th>\n",
       "      <td>b</td>\n",
       "      <td>0</td>\n",
       "    </tr>\n",
       "    <tr>\n",
       "      <th>1</th>\n",
       "      <td>b</td>\n",
       "      <td>1</td>\n",
       "    </tr>\n",
       "    <tr>\n",
       "      <th>2</th>\n",
       "      <td>a</td>\n",
       "      <td>2</td>\n",
       "    </tr>\n",
       "    <tr>\n",
       "      <th>3</th>\n",
       "      <td>c</td>\n",
       "      <td>3</td>\n",
       "    </tr>\n",
       "    <tr>\n",
       "      <th>4</th>\n",
       "      <td>a</td>\n",
       "      <td>4</td>\n",
       "    </tr>\n",
       "    <tr>\n",
       "      <th>5</th>\n",
       "      <td>b</td>\n",
       "      <td>5</td>\n",
       "    </tr>\n",
       "  </tbody>\n",
       "</table>\n",
       "</div>"
      ],
      "text/plain": [
       "  key  data1\n",
       "0   b      0\n",
       "1   b      1\n",
       "2   a      2\n",
       "3   c      3\n",
       "4   a      4\n",
       "5   b      5"
      ]
     },
     "execution_count": 66,
     "metadata": {},
     "output_type": "execute_result"
    }
   ],
   "source": [
    "df = pd.DataFrame({'key': ['b', 'b', 'a', 'c', 'a', 'b'],\n",
    " .....: 'data1': range(6)})\n",
    "df"
   ]
  },
  {
   "cell_type": "code",
   "execution_count": 67,
   "id": "08ab3d6d",
   "metadata": {},
   "outputs": [
    {
     "data": {
      "text/html": [
       "<div>\n",
       "<style scoped>\n",
       "    .dataframe tbody tr th:only-of-type {\n",
       "        vertical-align: middle;\n",
       "    }\n",
       "\n",
       "    .dataframe tbody tr th {\n",
       "        vertical-align: top;\n",
       "    }\n",
       "\n",
       "    .dataframe thead th {\n",
       "        text-align: right;\n",
       "    }\n",
       "</style>\n",
       "<table border=\"1\" class=\"dataframe\">\n",
       "  <thead>\n",
       "    <tr style=\"text-align: right;\">\n",
       "      <th></th>\n",
       "      <th>a</th>\n",
       "      <th>b</th>\n",
       "      <th>c</th>\n",
       "    </tr>\n",
       "  </thead>\n",
       "  <tbody>\n",
       "    <tr>\n",
       "      <th>0</th>\n",
       "      <td>0</td>\n",
       "      <td>1</td>\n",
       "      <td>0</td>\n",
       "    </tr>\n",
       "    <tr>\n",
       "      <th>1</th>\n",
       "      <td>0</td>\n",
       "      <td>1</td>\n",
       "      <td>0</td>\n",
       "    </tr>\n",
       "    <tr>\n",
       "      <th>2</th>\n",
       "      <td>1</td>\n",
       "      <td>0</td>\n",
       "      <td>0</td>\n",
       "    </tr>\n",
       "    <tr>\n",
       "      <th>3</th>\n",
       "      <td>0</td>\n",
       "      <td>0</td>\n",
       "      <td>1</td>\n",
       "    </tr>\n",
       "    <tr>\n",
       "      <th>4</th>\n",
       "      <td>1</td>\n",
       "      <td>0</td>\n",
       "      <td>0</td>\n",
       "    </tr>\n",
       "    <tr>\n",
       "      <th>5</th>\n",
       "      <td>0</td>\n",
       "      <td>1</td>\n",
       "      <td>0</td>\n",
       "    </tr>\n",
       "  </tbody>\n",
       "</table>\n",
       "</div>"
      ],
      "text/plain": [
       "   a  b  c\n",
       "0  0  1  0\n",
       "1  0  1  0\n",
       "2  1  0  0\n",
       "3  0  0  1\n",
       "4  1  0  0\n",
       "5  0  1  0"
      ]
     },
     "execution_count": 67,
     "metadata": {},
     "output_type": "execute_result"
    }
   ],
   "source": [
    "# we use get_dummies to generate a dummy/indicator matrix\n",
    "pd.get_dummies(df['key'])"
   ]
  },
  {
   "cell_type": "code",
   "execution_count": 69,
   "id": "4203d32e",
   "metadata": {},
   "outputs": [
    {
     "data": {
      "text/html": [
       "<div>\n",
       "<style scoped>\n",
       "    .dataframe tbody tr th:only-of-type {\n",
       "        vertical-align: middle;\n",
       "    }\n",
       "\n",
       "    .dataframe tbody tr th {\n",
       "        vertical-align: top;\n",
       "    }\n",
       "\n",
       "    .dataframe thead th {\n",
       "        text-align: right;\n",
       "    }\n",
       "</style>\n",
       "<table border=\"1\" class=\"dataframe\">\n",
       "  <thead>\n",
       "    <tr style=\"text-align: right;\">\n",
       "      <th></th>\n",
       "      <th>key_a</th>\n",
       "      <th>key_b</th>\n",
       "      <th>key_c</th>\n",
       "    </tr>\n",
       "  </thead>\n",
       "  <tbody>\n",
       "    <tr>\n",
       "      <th>0</th>\n",
       "      <td>0</td>\n",
       "      <td>1</td>\n",
       "      <td>0</td>\n",
       "    </tr>\n",
       "    <tr>\n",
       "      <th>1</th>\n",
       "      <td>0</td>\n",
       "      <td>1</td>\n",
       "      <td>0</td>\n",
       "    </tr>\n",
       "    <tr>\n",
       "      <th>2</th>\n",
       "      <td>1</td>\n",
       "      <td>0</td>\n",
       "      <td>0</td>\n",
       "    </tr>\n",
       "    <tr>\n",
       "      <th>3</th>\n",
       "      <td>0</td>\n",
       "      <td>0</td>\n",
       "      <td>1</td>\n",
       "    </tr>\n",
       "    <tr>\n",
       "      <th>4</th>\n",
       "      <td>1</td>\n",
       "      <td>0</td>\n",
       "      <td>0</td>\n",
       "    </tr>\n",
       "    <tr>\n",
       "      <th>5</th>\n",
       "      <td>0</td>\n",
       "      <td>1</td>\n",
       "      <td>0</td>\n",
       "    </tr>\n",
       "  </tbody>\n",
       "</table>\n",
       "</div>"
      ],
      "text/plain": [
       "   key_a  key_b  key_c\n",
       "0      0      1      0\n",
       "1      0      1      0\n",
       "2      1      0      0\n",
       "3      0      0      1\n",
       "4      1      0      0\n",
       "5      0      1      0"
      ]
     },
     "execution_count": 69,
     "metadata": {},
     "output_type": "execute_result"
    }
   ],
   "source": [
    "dummies = pd.get_dummies(df['key'], prefix='key')\n",
    "dummies"
   ]
  },
  {
   "cell_type": "code",
   "execution_count": 70,
   "id": "af8d0e86",
   "metadata": {},
   "outputs": [
    {
     "data": {
      "text/html": [
       "<div>\n",
       "<style scoped>\n",
       "    .dataframe tbody tr th:only-of-type {\n",
       "        vertical-align: middle;\n",
       "    }\n",
       "\n",
       "    .dataframe tbody tr th {\n",
       "        vertical-align: top;\n",
       "    }\n",
       "\n",
       "    .dataframe thead th {\n",
       "        text-align: right;\n",
       "    }\n",
       "</style>\n",
       "<table border=\"1\" class=\"dataframe\">\n",
       "  <thead>\n",
       "    <tr style=\"text-align: right;\">\n",
       "      <th></th>\n",
       "      <th>data1</th>\n",
       "      <th>key_a</th>\n",
       "      <th>key_b</th>\n",
       "      <th>key_c</th>\n",
       "    </tr>\n",
       "  </thead>\n",
       "  <tbody>\n",
       "    <tr>\n",
       "      <th>0</th>\n",
       "      <td>0</td>\n",
       "      <td>0</td>\n",
       "      <td>1</td>\n",
       "      <td>0</td>\n",
       "    </tr>\n",
       "    <tr>\n",
       "      <th>1</th>\n",
       "      <td>1</td>\n",
       "      <td>0</td>\n",
       "      <td>1</td>\n",
       "      <td>0</td>\n",
       "    </tr>\n",
       "    <tr>\n",
       "      <th>2</th>\n",
       "      <td>2</td>\n",
       "      <td>1</td>\n",
       "      <td>0</td>\n",
       "      <td>0</td>\n",
       "    </tr>\n",
       "    <tr>\n",
       "      <th>3</th>\n",
       "      <td>3</td>\n",
       "      <td>0</td>\n",
       "      <td>0</td>\n",
       "      <td>1</td>\n",
       "    </tr>\n",
       "    <tr>\n",
       "      <th>4</th>\n",
       "      <td>4</td>\n",
       "      <td>1</td>\n",
       "      <td>0</td>\n",
       "      <td>0</td>\n",
       "    </tr>\n",
       "    <tr>\n",
       "      <th>5</th>\n",
       "      <td>5</td>\n",
       "      <td>0</td>\n",
       "      <td>1</td>\n",
       "      <td>0</td>\n",
       "    </tr>\n",
       "  </tbody>\n",
       "</table>\n",
       "</div>"
      ],
      "text/plain": [
       "   data1  key_a  key_b  key_c\n",
       "0      0      0      1      0\n",
       "1      1      0      1      0\n",
       "2      2      1      0      0\n",
       "3      3      0      0      1\n",
       "4      4      1      0      0\n",
       "5      5      0      1      0"
      ]
     },
     "execution_count": 70,
     "metadata": {},
     "output_type": "execute_result"
    }
   ],
   "source": [
    "df_with_dummy = df[['data1']].join(dummies)\n",
    "df_with_dummy"
   ]
  },
  {
   "cell_type": "code",
   "execution_count": 74,
   "id": "b8d73433",
   "metadata": {},
   "outputs": [],
   "source": [
    "# a useful application of statistical applications is to combine get_dummies with cut\n",
    "np.random.seed(12345)"
   ]
  },
  {
   "cell_type": "code",
   "execution_count": 75,
   "id": "f8991d70",
   "metadata": {},
   "outputs": [
    {
     "data": {
      "text/plain": [
       "array([0.92961609, 0.31637555, 0.18391881, 0.20456028, 0.56772503,\n",
       "       0.5955447 , 0.96451452, 0.6531771 , 0.74890664, 0.65356987])"
      ]
     },
     "execution_count": 75,
     "metadata": {},
     "output_type": "execute_result"
    }
   ],
   "source": [
    "values = np.random.rand(10)\n",
    "values"
   ]
  },
  {
   "cell_type": "code",
   "execution_count": 76,
   "id": "c2a2d381",
   "metadata": {},
   "outputs": [
    {
     "data": {
      "text/html": [
       "<div>\n",
       "<style scoped>\n",
       "    .dataframe tbody tr th:only-of-type {\n",
       "        vertical-align: middle;\n",
       "    }\n",
       "\n",
       "    .dataframe tbody tr th {\n",
       "        vertical-align: top;\n",
       "    }\n",
       "\n",
       "    .dataframe thead th {\n",
       "        text-align: right;\n",
       "    }\n",
       "</style>\n",
       "<table border=\"1\" class=\"dataframe\">\n",
       "  <thead>\n",
       "    <tr style=\"text-align: right;\">\n",
       "      <th></th>\n",
       "      <th>(0.0, 0.2]</th>\n",
       "      <th>(0.2, 0.4]</th>\n",
       "      <th>(0.4, 0.6]</th>\n",
       "      <th>(0.6, 0.8]</th>\n",
       "      <th>(0.8, 1.0]</th>\n",
       "    </tr>\n",
       "  </thead>\n",
       "  <tbody>\n",
       "    <tr>\n",
       "      <th>0</th>\n",
       "      <td>0</td>\n",
       "      <td>0</td>\n",
       "      <td>0</td>\n",
       "      <td>0</td>\n",
       "      <td>1</td>\n",
       "    </tr>\n",
       "    <tr>\n",
       "      <th>1</th>\n",
       "      <td>0</td>\n",
       "      <td>1</td>\n",
       "      <td>0</td>\n",
       "      <td>0</td>\n",
       "      <td>0</td>\n",
       "    </tr>\n",
       "    <tr>\n",
       "      <th>2</th>\n",
       "      <td>1</td>\n",
       "      <td>0</td>\n",
       "      <td>0</td>\n",
       "      <td>0</td>\n",
       "      <td>0</td>\n",
       "    </tr>\n",
       "    <tr>\n",
       "      <th>3</th>\n",
       "      <td>0</td>\n",
       "      <td>1</td>\n",
       "      <td>0</td>\n",
       "      <td>0</td>\n",
       "      <td>0</td>\n",
       "    </tr>\n",
       "    <tr>\n",
       "      <th>4</th>\n",
       "      <td>0</td>\n",
       "      <td>0</td>\n",
       "      <td>1</td>\n",
       "      <td>0</td>\n",
       "      <td>0</td>\n",
       "    </tr>\n",
       "    <tr>\n",
       "      <th>5</th>\n",
       "      <td>0</td>\n",
       "      <td>0</td>\n",
       "      <td>1</td>\n",
       "      <td>0</td>\n",
       "      <td>0</td>\n",
       "    </tr>\n",
       "    <tr>\n",
       "      <th>6</th>\n",
       "      <td>0</td>\n",
       "      <td>0</td>\n",
       "      <td>0</td>\n",
       "      <td>0</td>\n",
       "      <td>1</td>\n",
       "    </tr>\n",
       "    <tr>\n",
       "      <th>7</th>\n",
       "      <td>0</td>\n",
       "      <td>0</td>\n",
       "      <td>0</td>\n",
       "      <td>1</td>\n",
       "      <td>0</td>\n",
       "    </tr>\n",
       "    <tr>\n",
       "      <th>8</th>\n",
       "      <td>0</td>\n",
       "      <td>0</td>\n",
       "      <td>0</td>\n",
       "      <td>1</td>\n",
       "      <td>0</td>\n",
       "    </tr>\n",
       "    <tr>\n",
       "      <th>9</th>\n",
       "      <td>0</td>\n",
       "      <td>0</td>\n",
       "      <td>0</td>\n",
       "      <td>1</td>\n",
       "      <td>0</td>\n",
       "    </tr>\n",
       "  </tbody>\n",
       "</table>\n",
       "</div>"
      ],
      "text/plain": [
       "   (0.0, 0.2]  (0.2, 0.4]  (0.4, 0.6]  (0.6, 0.8]  (0.8, 1.0]\n",
       "0           0           0           0           0           1\n",
       "1           0           1           0           0           0\n",
       "2           1           0           0           0           0\n",
       "3           0           1           0           0           0\n",
       "4           0           0           1           0           0\n",
       "5           0           0           1           0           0\n",
       "6           0           0           0           0           1\n",
       "7           0           0           0           1           0\n",
       "8           0           0           0           1           0\n",
       "9           0           0           0           1           0"
      ]
     },
     "execution_count": 76,
     "metadata": {},
     "output_type": "execute_result"
    }
   ],
   "source": [
    "bins = [0, 0.2, 0.4, 0.6, 0.8, 1]\n",
    "pd.get_dummies(pd.cut(values, bins))"
   ]
  },
  {
   "cell_type": "markdown",
   "id": "dfaa578c",
   "metadata": {},
   "source": [
    "## String Manipulation\n",
    "pandas allows for string operartions and regular expressions on whole arrays of data"
   ]
  },
  {
   "cell_type": "code",
   "execution_count": 1,
   "id": "6d3012cf",
   "metadata": {},
   "outputs": [],
   "source": [
    "import pandas as pd\n",
    "import numpy as np"
   ]
  },
  {
   "cell_type": "markdown",
   "id": "d3acb269",
   "metadata": {},
   "source": [
    "### String object methods"
   ]
  },
  {
   "cell_type": "code",
   "execution_count": 2,
   "id": "97da1b69",
   "metadata": {},
   "outputs": [
    {
     "data": {
      "text/plain": [
       "['a', 'b', '  guido']"
      ]
     },
     "execution_count": 2,
     "metadata": {},
     "output_type": "execute_result"
    }
   ],
   "source": [
    "# split() - splitting a string using a delimeter\n",
    "val = 'a,b,  guido'\n",
    "val.split(',')"
   ]
  },
  {
   "cell_type": "code",
   "execution_count": 3,
   "id": "c21efec5",
   "metadata": {},
   "outputs": [
    {
     "data": {
      "text/plain": [
       "['a', 'b', 'guido']"
      ]
     },
     "execution_count": 3,
     "metadata": {},
     "output_type": "execute_result"
    }
   ],
   "source": [
    "# strip() - used to trim whitespace and line breaks\n",
    "pieces = [x.strip() for x in val.split(',')]\n",
    "pieces"
   ]
  },
  {
   "cell_type": "code",
   "execution_count": 5,
   "id": "c3ae2b6d",
   "metadata": {},
   "outputs": [
    {
     "data": {
      "text/plain": [
       "'a::b::guido'"
      ]
     },
     "execution_count": 5,
     "metadata": {},
     "output_type": "execute_result"
    }
   ],
   "source": [
    "# concatenate strings using + operator \n",
    "first, second, third = pieces\n",
    "first + \"::\" + second + \"::\" + third"
   ]
  },
  {
   "cell_type": "code",
   "execution_count": 6,
   "id": "9d5bb131",
   "metadata": {},
   "outputs": [
    {
     "data": {
      "text/plain": [
       "'a::b::guido'"
      ]
     },
     "execution_count": 6,
     "metadata": {},
     "output_type": "execute_result"
    }
   ],
   "source": [
    "# join() - concatenates strings and we can pass a delimiter to come between each induvidual string\n",
    "'::'.join(pieces)"
   ]
  },
  {
   "cell_type": "code",
   "execution_count": 7,
   "id": "ab261499",
   "metadata": {},
   "outputs": [
    {
     "data": {
      "text/plain": [
       "True"
      ]
     },
     "execution_count": 7,
     "metadata": {},
     "output_type": "execute_result"
    }
   ],
   "source": [
    "# in - this method is used to detect substrings within a string\n",
    "'guido' in val"
   ]
  },
  {
   "cell_type": "code",
   "execution_count": 11,
   "id": "278622c8",
   "metadata": {},
   "outputs": [
    {
     "data": {
      "text/plain": [
       "1"
      ]
     },
     "execution_count": 11,
     "metadata": {},
     "output_type": "execute_result"
    }
   ],
   "source": [
    "# index(), find() - to locate substrings within a string\n",
    "val.index(',') "
   ]
  },
  {
   "cell_type": "code",
   "execution_count": 10,
   "id": "8d7855ee",
   "metadata": {},
   "outputs": [
    {
     "data": {
      "text/plain": [
       "-1"
      ]
     },
     "execution_count": 10,
     "metadata": {},
     "output_type": "execute_result"
    }
   ],
   "source": [
    "val.find(':') # find() returns -1 if not found"
   ]
  },
  {
   "cell_type": "code",
   "execution_count": 12,
   "id": "38baff33",
   "metadata": {},
   "outputs": [
    {
     "ename": "ValueError",
     "evalue": "substring not found",
     "output_type": "error",
     "traceback": [
      "\u001b[1;31m---------------------------------------------------------------------------\u001b[0m",
      "\u001b[1;31mValueError\u001b[0m                                Traceback (most recent call last)",
      "Input \u001b[1;32mIn [12]\u001b[0m, in \u001b[0;36m<cell line: 1>\u001b[1;34m()\u001b[0m\n\u001b[1;32m----> 1\u001b[0m \u001b[43mval\u001b[49m\u001b[38;5;241;43m.\u001b[39;49m\u001b[43mindex\u001b[49m\u001b[43m(\u001b[49m\u001b[38;5;124;43m\"\u001b[39;49m\u001b[38;5;124;43m:\u001b[39;49m\u001b[38;5;124;43m\"\u001b[39;49m\u001b[43m)\u001b[49m\n",
      "\u001b[1;31mValueError\u001b[0m: substring not found"
     ]
    }
   ],
   "source": [
    "val.index(\":\") # index() will raise an exception if not found"
   ]
  },
  {
   "cell_type": "code",
   "execution_count": 14,
   "id": "87cd3c0a",
   "metadata": {},
   "outputs": [
    {
     "data": {
      "text/plain": [
       "2"
      ]
     },
     "execution_count": 14,
     "metadata": {},
     "output_type": "execute_result"
    }
   ],
   "source": [
    "# count() - returns the number of occurances of the passed srgument\n",
    "val.count(\",\")"
   ]
  },
  {
   "cell_type": "code",
   "execution_count": 16,
   "id": "162b9c3d",
   "metadata": {},
   "outputs": [
    {
     "data": {
      "text/plain": [
       "'a;b;  guido'"
      ]
     },
     "execution_count": 16,
     "metadata": {},
     "output_type": "execute_result"
    }
   ],
   "source": [
    "# replace() - we can substitute one value for another\n",
    "val.replace(',', ';')"
   ]
  },
  {
   "cell_type": "code",
   "execution_count": 17,
   "id": "eb5de05a",
   "metadata": {},
   "outputs": [
    {
     "data": {
      "text/plain": [
       "'ab  guido'"
      ]
     },
     "execution_count": 17,
     "metadata": {},
     "output_type": "execute_result"
    }
   ],
   "source": [
    "val.replace(',', '')"
   ]
  },
  {
   "cell_type": "markdown",
   "id": "8ab75814",
   "metadata": {},
   "source": [
    "### Regular expressions\n",
    "Used to search or match string patterns in text"
   ]
  },
  {
   "cell_type": "code",
   "execution_count": 20,
   "id": "0a6a4fd1",
   "metadata": {},
   "outputs": [
    {
     "data": {
      "text/plain": [
       "['foo', 'bar', 'baz', 'qux']"
      ]
     },
     "execution_count": 20,
     "metadata": {},
     "output_type": "execute_result"
    }
   ],
   "source": [
    "# splitting a string with a variable amount of whitespaces\n",
    "import re\n",
    "text = \"foo   bar\\tbaz       \\tqux\"\n",
    "re.split('\\s+', text)"
   ]
  },
  {
   "cell_type": "markdown",
   "id": "0aa04682",
   "metadata": {},
   "source": [
    "While executing regex in Python, the regular expression is first compiled and then the function you have used it in, is then executed."
   ]
  },
  {
   "cell_type": "code",
   "execution_count": 21,
   "id": "fa0d921a",
   "metadata": {},
   "outputs": [
    {
     "data": {
      "text/plain": [
       "['foo', 'bar', 'baz', 'qux']"
      ]
     },
     "execution_count": 21,
     "metadata": {},
     "output_type": "execute_result"
    }
   ],
   "source": [
    "# compile() - we can complie regex ourselves (improves execution time)\n",
    "regex = re.compile('\\s+')\n",
    "regex.split(text)"
   ]
  },
  {
   "cell_type": "code",
   "execution_count": 22,
   "id": "a56abe9b",
   "metadata": {},
   "outputs": [
    {
     "data": {
      "text/plain": [
       "['   ', '\\t', '       \\t']"
      ]
     },
     "execution_count": 22,
     "metadata": {},
     "output_type": "execute_result"
    }
   ],
   "source": [
    "# findall() - we can find all the patterns matching our regex\n",
    "regex.findall(text)"
   ]
  },
  {
   "cell_type": "markdown",
   "id": "c5edaf63",
   "metadata": {},
   "source": [
    "To avoid encountering unwanted escape sequences we use raw strings, r\"string data....\" insted of regular strings"
   ]
  },
  {
   "cell_type": "code",
   "execution_count": 24,
   "id": "a745f277",
   "metadata": {},
   "outputs": [
    {
     "data": {
      "text/plain": [
       "['dave@google.com', 'steve@gmail.com', 'rob@gmail.com', 'ryan@yahoo.com']"
      ]
     },
     "execution_count": 24,
     "metadata": {},
     "output_type": "execute_result"
    }
   ],
   "source": [
    "text = \"\"\"Dave dave@google.com\n",
    "Steve steve@gmail.com\n",
    "Rob rob@gmail.com\n",
    "Ryan ryan@yahoo.com\n",
    "\"\"\"\n",
    "pattern = r'[A-Z0-9._%+-]+@[A-Z0-9.-]+\\.[A-Z]{2,4}'\n",
    "regex = re.compile(pattern, flags=re.IGNORECASE)\n",
    "regex.findall(text)"
   ]
  },
  {
   "cell_type": "code",
   "execution_count": 25,
   "id": "65f64cf3",
   "metadata": {},
   "outputs": [
    {
     "data": {
      "text/plain": [
       "<re.Match object; span=(5, 20), match='dave@google.com'>"
      ]
     },
     "execution_count": 25,
     "metadata": {},
     "output_type": "execute_result"
    }
   ],
   "source": [
    "# search() - similar to findall but reuturns only the first match\n",
    "m = regex.search(text)\n",
    "m # returns a special match object"
   ]
  },
  {
   "cell_type": "code",
   "execution_count": 26,
   "id": "bbf6a086",
   "metadata": {},
   "outputs": [
    {
     "data": {
      "text/plain": [
       "'dave@google.com'"
      ]
     },
     "execution_count": 26,
     "metadata": {},
     "output_type": "execute_result"
    }
   ],
   "source": [
    "text[m.start():m.end()]"
   ]
  },
  {
   "cell_type": "code",
   "execution_count": 29,
   "id": "4b7f533e",
   "metadata": {},
   "outputs": [
    {
     "name": "stdout",
     "output_type": "stream",
     "text": [
      "None\n"
     ]
    }
   ],
   "source": [
    "# match() - will only check if the pattern occurs in the beginning of the string \n",
    "print(regex.match(text))"
   ]
  },
  {
   "cell_type": "code",
   "execution_count": 30,
   "id": "741b050a",
   "metadata": {},
   "outputs": [
    {
     "name": "stdout",
     "output_type": "stream",
     "text": [
      "Dave REDACTED\n",
      "Steve REDACTED\n",
      "Rob REDACTED\n",
      "Ryan REDACTED\n",
      "\n"
     ]
    }
   ],
   "source": [
    "# sub() - we can replace/sunstitue the occurances with something else\n",
    "print(regex.sub('REDACTED', text))"
   ]
  },
  {
   "cell_type": "code",
   "execution_count": 31,
   "id": "cc4ad42e",
   "metadata": {},
   "outputs": [
    {
     "data": {
      "text/plain": [
       "('wesm', 'bright', 'net')"
      ]
     },
     "execution_count": 31,
     "metadata": {},
     "output_type": "execute_result"
    }
   ],
   "source": [
    "# dividing the email into 3 segments\n",
    "pattern = r'([A-Z0-9._%+-]+)@([A-Z0-9.-]+)\\.([A-Z]{2,4})'\n",
    "regex = re.compile(pattern, flags=re.IGNORECASE)\n",
    "m = regex.match('wesm@bright.net')\n",
    "m.groups()"
   ]
  },
  {
   "cell_type": "code",
   "execution_count": 32,
   "id": "2fd0a918",
   "metadata": {},
   "outputs": [
    {
     "data": {
      "text/plain": [
       "[('dave', 'google', 'com'),\n",
       " ('steve', 'gmail', 'com'),\n",
       " ('rob', 'gmail', 'com'),\n",
       " ('ryan', 'yahoo', 'com')]"
      ]
     },
     "execution_count": 32,
     "metadata": {},
     "output_type": "execute_result"
    }
   ],
   "source": [
    "regex.findall(text)"
   ]
  },
  {
   "cell_type": "code",
   "execution_count": 33,
   "id": "54fd962c",
   "metadata": {},
   "outputs": [
    {
     "name": "stdout",
     "output_type": "stream",
     "text": [
      "Dave Username: dave, Domain: google, Suffix: com\n",
      "Steve Username: steve, Domain: gmail, Suffix: com\n",
      "Rob Username: rob, Domain: gmail, Suffix: com\n",
      "Ryan Username: ryan, Domain: yahoo, Suffix: com\n",
      "\n"
     ]
    }
   ],
   "source": [
    "# we can also access the groups in sub using symbols like \\1, \\2, .... each number corresponding to the occurences of the group\n",
    "print(regex.sub(r'Username: \\1, Domain: \\2, Suffix: \\3', text))"
   ]
  },
  {
   "cell_type": "markdown",
   "id": "f57956de",
   "metadata": {},
   "source": [
    "### Vectorized string functions in Pandas"
   ]
  },
  {
   "cell_type": "code",
   "execution_count": 34,
   "id": "b7e06f5d",
   "metadata": {},
   "outputs": [
    {
     "data": {
      "text/plain": [
       "Dave     dave@google.com\n",
       "Steve    steve@gmail.com\n",
       "Rob        rob@gmail.com\n",
       "Wes                  NaN\n",
       "dtype: object"
      ]
     },
     "execution_count": 34,
     "metadata": {},
     "output_type": "execute_result"
    }
   ],
   "source": [
    "data = {'Dave': 'dave@google.com', 'Steve': 'steve@gmail.com',\n",
    " .....: 'Rob': 'rob@gmail.com', 'Wes': np.nan}\n",
    "data = pd.Series(data)\n",
    "data"
   ]
  },
  {
   "cell_type": "code",
   "execution_count": 35,
   "id": "baf3abbc",
   "metadata": {},
   "outputs": [
    {
     "data": {
      "text/plain": [
       "Dave     False\n",
       "Steve    False\n",
       "Rob      False\n",
       "Wes       True\n",
       "dtype: bool"
      ]
     },
     "execution_count": 35,
     "metadata": {},
     "output_type": "execute_result"
    }
   ],
   "source": [
    "data.isnull()"
   ]
  },
  {
   "cell_type": "markdown",
   "id": "0ef8bf63",
   "metadata": {},
   "source": [
    "String or regex operations will fail on null values. To cope up with this, we can use a Series str attribute to check for certain patterns"
   ]
  },
  {
   "cell_type": "code",
   "execution_count": 37,
   "id": "55167117",
   "metadata": {},
   "outputs": [
    {
     "data": {
      "text/plain": [
       "Dave     False\n",
       "Steve     True\n",
       "Rob       True\n",
       "Wes        NaN\n",
       "dtype: object"
      ]
     },
     "execution_count": 37,
     "metadata": {},
     "output_type": "execute_result"
    }
   ],
   "source": [
    "data.str.contains('gmail')"
   ]
  },
  {
   "cell_type": "code",
   "execution_count": 38,
   "id": "6b3f2bbb",
   "metadata": {},
   "outputs": [
    {
     "data": {
      "text/plain": [
       "Dave     [(dave, google, com)]\n",
       "Steve    [(steve, gmail, com)]\n",
       "Rob        [(rob, gmail, com)]\n",
       "Wes                        NaN\n",
       "dtype: object"
      ]
     },
     "execution_count": 38,
     "metadata": {},
     "output_type": "execute_result"
    }
   ],
   "source": [
    "# we can use regex too\n",
    "data.str.findall(pattern, flags=re.IGNORECASE)"
   ]
  },
  {
   "cell_type": "code",
   "execution_count": 39,
   "id": "a439dd16",
   "metadata": {},
   "outputs": [
    {
     "data": {
      "text/plain": [
       "Dave     True\n",
       "Steve    True\n",
       "Rob      True\n",
       "Wes       NaN\n",
       "dtype: object"
      ]
     },
     "execution_count": 39,
     "metadata": {},
     "output_type": "execute_result"
    }
   ],
   "source": [
    "matches = data.str.match(pattern, flags=re.IGNORECASE)\n",
    "matches"
   ]
  },
  {
   "cell_type": "code",
   "execution_count": 43,
   "id": "f40d04bf",
   "metadata": {},
   "outputs": [
    {
     "data": {
      "text/plain": [
       "Dave     dave@\n",
       "Steve    steve\n",
       "Rob      rob@g\n",
       "Wes        NaN\n",
       "dtype: object"
      ]
     },
     "execution_count": 43,
     "metadata": {},
     "output_type": "execute_result"
    }
   ],
   "source": [
    "data.str[:5]"
   ]
  }
 ],
 "metadata": {
  "kernelspec": {
   "display_name": "Python 3 (ipykernel)",
   "language": "python",
   "name": "python3"
  },
  "language_info": {
   "codemirror_mode": {
    "name": "ipython",
    "version": 3
   },
   "file_extension": ".py",
   "mimetype": "text/x-python",
   "name": "python",
   "nbconvert_exporter": "python",
   "pygments_lexer": "ipython3",
   "version": "3.9.7"
  }
 },
 "nbformat": 4,
 "nbformat_minor": 5
}
